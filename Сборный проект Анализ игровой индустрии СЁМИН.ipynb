{
 "cells": [
  {
   "cell_type": "markdown",
   "id": "d30c747f",
   "metadata": {},
   "source": [
    "<div style=\"border:solid green 3px; padding: 20px\">\n",
    "<b>🥇 Николай, спасибо за доработки, проект принят, молодец!</b>\n",
    "    \n",
    "Ты провел очень хорошую работу над ошибками! Уверен, ты обязательно достигнешь своей цели! Успехов в дальнейшем обучении! 🙂\n",
    "    "
   ]
  },
  {
   "cell_type": "markdown",
   "metadata": {},
   "source": [
    "<div style=\"border:solid green 2px; padding: 20px\">\n",
    "Николай, привет! Меня зовут Ефимов Денис и сегодня я буду делать ревью твоего проекта!\n",
    "    \n",
    "В Практикуме принято общаться на \"ты\", однако если это неудобно - дай знать, и можем перейти на более официальное общение.\n",
    "\n",
    "Ниже ты найдешь мои комментарии - пожалуйста, не перемещай, не изменяй и не удаляй их. Я буду использовать цветовую разметку: \n",
    "\n",
    "<div class=\"alert alert-block alert-success\">\n",
    "<b>✅Комментарий ревьюера:</b> Если все сделано хорошо. </div>\n",
    "\n",
    "<div class=\"alert alert-block alert-warning\">\n",
    "<b>🔁Комментарий ревьюера:</b> Некритичное замечание; если таких замечаний меньше трех — проект может быть принят без их отработки.</div>\n",
    "\n",
    "<div class=\"alert alert-block alert-danger\">\n",
    "<b>❌Комментарий ревьюера:</b> Грубая ошибка, необходимо исправить, иначе проект не будет принят.\n",
    "</div>\n",
    "\n",
    "Давай работать над проектом в диалоге: если ты что-то меняешь в проекте или отвечаешь на мои комментарии — пиши об этом. Мне будет легче отследить изменения, если ты выделишь свои комментарии:\n",
    "Например так:\n",
    "<div class=\"alert alert-block alert-info\">\n",
    "<b>🔄Комментарий студента:</b> \n",
    "Hello World! ✔\n",
    "</div>\n",
    "\n",
    "Или можешь использовать эту галочку ✔ в моих комментариях, если писать особо нечего.\n",
    "\n",
    "<div class=\"alert alert-block alert-warning\">\n",
    "<b>Общее впечатление:</b> \n",
    "    \n",
    "- Ты проделал огромную работу:)\n",
    "- У меня есть несколько замечаний, исправив которые ты сделаешь проект лучше.\n",
    "- Пробегись по моим комментариям, исправь недочёты и всё будет отлично :)\n",
    "    \n",
    "</div>\n",
    "\n"
   ]
  },
  {
   "cell_type": "markdown",
   "metadata": {},
   "source": [
    "# Сборный проект: Анализ игровой индустрии"
   ]
  },
  {
   "cell_type": "markdown",
   "metadata": {},
   "source": [
    "<div class=\"alert alert-block alert-warning\">\n",
    "<b>🔁Комментарий ревьюера:</b> \n",
    "    \n",
    "Название для проекта лучше выбирать более говорящее, кратко отражающее суть исследования.  </div>"
   ]
  },
  {
   "cell_type": "markdown",
   "id": "6fc02cdb",
   "metadata": {},
   "source": [
    "<div class=\"alert alert-block alert-success\">\n",
    "<b>✅Комментарий ревьюера 2:</b> Отлично, исправлено!👍  </div>"
   ]
  },
  {
   "cell_type": "markdown",
   "metadata": {},
   "source": [
    "# Краткое описание проекта"
   ]
  },
  {
   "cell_type": "markdown",
   "metadata": {},
   "source": [
    "Вы работаете в интернет-магазине «Стримчик», который продаёт по всему миру компьютерные игры. Из открытых источников доступны исторические данные о продажах игр, оценки пользователей и экспертов, жанры и платформы (например, Xbox или PlayStation). Вам нужно выявить определяющие успешность игры закономерности. Это позволит сделать ставку на потенциально популярный продукт и спланировать рекламные кампании.\n",
    "\n",
    "\n",
    "Перед вами данные до 2016 года. Представим, что сейчас декабрь 2016 г., и вы планируете кампанию на 2017-й. Нужно отработать принцип работы с данными. Неважно, прогнозируете ли вы продажи на 2017 год по данным 2016-го или же 2027-й — по данным 2026 года.\n",
    "\n",
    "\n",
    "В наборе данных попадается аббревиатура ESRB (Entertainment Software Rating Board) — это ассоциация, определяющая возрастной рейтинг компьютерных игр. ESRB оценивает игровой контент и присваивает ему подходящую возрастную категорию, например, «Для взрослых», «Для детей младшего возраста» или «Для подростков»."
   ]
  },
  {
   "cell_type": "markdown",
   "metadata": {},
   "source": [
    "# Описание данных\n",
    "\n",
    "\n",
    " - _Name_ — название игры\n",
    " \n",
    " \n",
    " - _Platform_ — платформа\n",
    " \n",
    "\n",
    " - _Year_of_Release_ — год выпуска\n",
    "\n",
    "\n",
    " - _Genre_ — жанр игры\n",
    "\n",
    "\n",
    " - _NA_sales_ — продажи в Северной Америке (миллионы проданных копий)\n",
    "\n",
    "\n",
    " - _EU_sales_ — продажи в Европе (миллионы проданных копий)\n",
    "\n",
    "\n",
    " - _JP_sales_ — продажи в Японии (миллионы проданных копий)\n",
    "\n",
    "\n",
    " - _Other_sales_ — продажи в других странах (миллионы проданных копий)\n",
    "\n",
    "\n",
    " - _Critic_Score_ — оценка критиков (максимум 100)\n",
    "\n",
    "\n",
    " - _User_Score_ — оценка пользователей (максимум 10)\n",
    "\n",
    "\n",
    " - _Rating_  — рейтинг от организации ESRB (англ. Entertainment Software Rating Board). Эта ассоциация определяет рейтинг компьютерных игр и присваивает им подходящую возрастную категорию.\n",
    "\n",
    "\n",
    "Данные за 2016 год могут быть неполными."
   ]
  },
  {
   "cell_type": "markdown",
   "metadata": {},
   "source": [
    "<div class=\"alert alert-block alert-success\">\n",
    "<b>✅Комментарий ревьюера:</b> Молодец, что добавил введение!  </div>"
   ]
  },
  {
   "cell_type": "markdown",
   "metadata": {},
   "source": [
    "### Импорт необходимых библиотек"
   ]
  },
  {
   "cell_type": "code",
   "execution_count": 1,
   "metadata": {},
   "outputs": [],
   "source": [
    "import pandas as pd\n",
    "import matplotlib.pyplot as plt\n",
    "import seaborn as sns\n",
    "import numpy as np\n",
    "from scipy import stats as st\n",
    "import matplotlib.patches as mpatches"
   ]
  },
  {
   "cell_type": "markdown",
   "metadata": {},
   "source": [
    "### Шаг 1. Откройте файл с данными и изучите общую информацию"
   ]
  },
  {
   "cell_type": "markdown",
   "metadata": {},
   "source": [
    "#### Считайте CSV-файлы с данными с помощью библиотеки pandas и сохраните их в датафреймы. "
   ]
  },
  {
   "cell_type": "code",
   "execution_count": 2,
   "metadata": {},
   "outputs": [],
   "source": [
    "games = pd.read_csv('/datasets/games.csv')"
   ]
  },
  {
   "cell_type": "markdown",
   "metadata": {},
   "source": [
    "#### Выведите первые строки каждого набора данных. Изучите общую информацию о каждом датафрейме."
   ]
  },
  {
   "cell_type": "code",
   "execution_count": 3,
   "metadata": {
    "scrolled": false
   },
   "outputs": [
    {
     "data": {
      "text/html": [
       "<div>\n",
       "<style scoped>\n",
       "    .dataframe tbody tr th:only-of-type {\n",
       "        vertical-align: middle;\n",
       "    }\n",
       "\n",
       "    .dataframe tbody tr th {\n",
       "        vertical-align: top;\n",
       "    }\n",
       "\n",
       "    .dataframe thead th {\n",
       "        text-align: right;\n",
       "    }\n",
       "</style>\n",
       "<table border=\"1\" class=\"dataframe\">\n",
       "  <thead>\n",
       "    <tr style=\"text-align: right;\">\n",
       "      <th></th>\n",
       "      <th>Name</th>\n",
       "      <th>Platform</th>\n",
       "      <th>Year_of_Release</th>\n",
       "      <th>Genre</th>\n",
       "      <th>NA_sales</th>\n",
       "      <th>EU_sales</th>\n",
       "      <th>JP_sales</th>\n",
       "      <th>Other_sales</th>\n",
       "      <th>Critic_Score</th>\n",
       "      <th>User_Score</th>\n",
       "      <th>Rating</th>\n",
       "    </tr>\n",
       "  </thead>\n",
       "  <tbody>\n",
       "    <tr>\n",
       "      <th>0</th>\n",
       "      <td>Wii Sports</td>\n",
       "      <td>Wii</td>\n",
       "      <td>2006.0</td>\n",
       "      <td>Sports</td>\n",
       "      <td>41.36</td>\n",
       "      <td>28.96</td>\n",
       "      <td>3.77</td>\n",
       "      <td>8.45</td>\n",
       "      <td>76.0</td>\n",
       "      <td>8</td>\n",
       "      <td>E</td>\n",
       "    </tr>\n",
       "    <tr>\n",
       "      <th>1</th>\n",
       "      <td>Super Mario Bros.</td>\n",
       "      <td>NES</td>\n",
       "      <td>1985.0</td>\n",
       "      <td>Platform</td>\n",
       "      <td>29.08</td>\n",
       "      <td>3.58</td>\n",
       "      <td>6.81</td>\n",
       "      <td>0.77</td>\n",
       "      <td>NaN</td>\n",
       "      <td>NaN</td>\n",
       "      <td>NaN</td>\n",
       "    </tr>\n",
       "    <tr>\n",
       "      <th>2</th>\n",
       "      <td>Mario Kart Wii</td>\n",
       "      <td>Wii</td>\n",
       "      <td>2008.0</td>\n",
       "      <td>Racing</td>\n",
       "      <td>15.68</td>\n",
       "      <td>12.76</td>\n",
       "      <td>3.79</td>\n",
       "      <td>3.29</td>\n",
       "      <td>82.0</td>\n",
       "      <td>8.3</td>\n",
       "      <td>E</td>\n",
       "    </tr>\n",
       "    <tr>\n",
       "      <th>3</th>\n",
       "      <td>Wii Sports Resort</td>\n",
       "      <td>Wii</td>\n",
       "      <td>2009.0</td>\n",
       "      <td>Sports</td>\n",
       "      <td>15.61</td>\n",
       "      <td>10.93</td>\n",
       "      <td>3.28</td>\n",
       "      <td>2.95</td>\n",
       "      <td>80.0</td>\n",
       "      <td>8</td>\n",
       "      <td>E</td>\n",
       "    </tr>\n",
       "    <tr>\n",
       "      <th>4</th>\n",
       "      <td>Pokemon Red/Pokemon Blue</td>\n",
       "      <td>GB</td>\n",
       "      <td>1996.0</td>\n",
       "      <td>Role-Playing</td>\n",
       "      <td>11.27</td>\n",
       "      <td>8.89</td>\n",
       "      <td>10.22</td>\n",
       "      <td>1.00</td>\n",
       "      <td>NaN</td>\n",
       "      <td>NaN</td>\n",
       "      <td>NaN</td>\n",
       "    </tr>\n",
       "  </tbody>\n",
       "</table>\n",
       "</div>"
      ],
      "text/plain": [
       "                       Name Platform  Year_of_Release         Genre  NA_sales  \\\n",
       "0                Wii Sports      Wii           2006.0        Sports     41.36   \n",
       "1         Super Mario Bros.      NES           1985.0      Platform     29.08   \n",
       "2            Mario Kart Wii      Wii           2008.0        Racing     15.68   \n",
       "3         Wii Sports Resort      Wii           2009.0        Sports     15.61   \n",
       "4  Pokemon Red/Pokemon Blue       GB           1996.0  Role-Playing     11.27   \n",
       "\n",
       "   EU_sales  JP_sales  Other_sales  Critic_Score User_Score Rating  \n",
       "0     28.96      3.77         8.45          76.0          8      E  \n",
       "1      3.58      6.81         0.77           NaN        NaN    NaN  \n",
       "2     12.76      3.79         3.29          82.0        8.3      E  \n",
       "3     10.93      3.28         2.95          80.0          8      E  \n",
       "4      8.89     10.22         1.00           NaN        NaN    NaN  "
      ]
     },
     "metadata": {},
     "output_type": "display_data"
    }
   ],
   "source": [
    "display(games.head())"
   ]
  },
  {
   "cell_type": "markdown",
   "metadata": {},
   "source": [
    "Уже можем увидеть присутствие пропусков, которые нужно будет изучить и обработать"
   ]
  },
  {
   "cell_type": "code",
   "execution_count": 4,
   "metadata": {},
   "outputs": [
    {
     "name": "stdout",
     "output_type": "stream",
     "text": [
      "<class 'pandas.core.frame.DataFrame'>\n",
      "RangeIndex: 16715 entries, 0 to 16714\n",
      "Data columns (total 11 columns):\n",
      " #   Column           Non-Null Count  Dtype  \n",
      "---  ------           --------------  -----  \n",
      " 0   Name             16713 non-null  object \n",
      " 1   Platform         16715 non-null  object \n",
      " 2   Year_of_Release  16446 non-null  float64\n",
      " 3   Genre            16713 non-null  object \n",
      " 4   NA_sales         16715 non-null  float64\n",
      " 5   EU_sales         16715 non-null  float64\n",
      " 6   JP_sales         16715 non-null  float64\n",
      " 7   Other_sales      16715 non-null  float64\n",
      " 8   Critic_Score     8137 non-null   float64\n",
      " 9   User_Score       10014 non-null  object \n",
      " 10  Rating           9949 non-null   object \n",
      "dtypes: float64(6), object(5)\n",
      "memory usage: 1.4+ MB\n"
     ]
    }
   ],
   "source": [
    "games.info()"
   ]
  },
  {
   "cell_type": "markdown",
   "metadata": {},
   "source": [
    "Будем работать с достаточно объемным датасетом (16715 строк), в котором есть пропуски и некорректные типы данных"
   ]
  },
  {
   "cell_type": "markdown",
   "metadata": {},
   "source": [
    "<div class=\"alert alert-block alert-success\">\n",
    "<b>✅Комментарий ревьюера:</b> Отлично, с данными познакомились!  </div>"
   ]
  },
  {
   "cell_type": "markdown",
   "metadata": {},
   "source": [
    "### Шаг 2. Подготовьте данные"
   ]
  },
  {
   "cell_type": "markdown",
   "metadata": {},
   "source": [
    "#### Замените названия столбцов (приведите к нижнему регистру);"
   ]
  },
  {
   "cell_type": "code",
   "execution_count": 5,
   "metadata": {},
   "outputs": [
    {
     "data": {
      "text/html": [
       "<div>\n",
       "<style scoped>\n",
       "    .dataframe tbody tr th:only-of-type {\n",
       "        vertical-align: middle;\n",
       "    }\n",
       "\n",
       "    .dataframe tbody tr th {\n",
       "        vertical-align: top;\n",
       "    }\n",
       "\n",
       "    .dataframe thead th {\n",
       "        text-align: right;\n",
       "    }\n",
       "</style>\n",
       "<table border=\"1\" class=\"dataframe\">\n",
       "  <thead>\n",
       "    <tr style=\"text-align: right;\">\n",
       "      <th></th>\n",
       "      <th>name</th>\n",
       "      <th>platform</th>\n",
       "      <th>year_of_release</th>\n",
       "      <th>genre</th>\n",
       "      <th>na_sales</th>\n",
       "      <th>eu_sales</th>\n",
       "      <th>jp_sales</th>\n",
       "      <th>other_sales</th>\n",
       "      <th>critic_score</th>\n",
       "      <th>user_score</th>\n",
       "      <th>rating</th>\n",
       "    </tr>\n",
       "  </thead>\n",
       "  <tbody>\n",
       "    <tr>\n",
       "      <th>0</th>\n",
       "      <td>Wii Sports</td>\n",
       "      <td>Wii</td>\n",
       "      <td>2006.0</td>\n",
       "      <td>Sports</td>\n",
       "      <td>41.36</td>\n",
       "      <td>28.96</td>\n",
       "      <td>3.77</td>\n",
       "      <td>8.45</td>\n",
       "      <td>76.0</td>\n",
       "      <td>8</td>\n",
       "      <td>E</td>\n",
       "    </tr>\n",
       "    <tr>\n",
       "      <th>1</th>\n",
       "      <td>Super Mario Bros.</td>\n",
       "      <td>NES</td>\n",
       "      <td>1985.0</td>\n",
       "      <td>Platform</td>\n",
       "      <td>29.08</td>\n",
       "      <td>3.58</td>\n",
       "      <td>6.81</td>\n",
       "      <td>0.77</td>\n",
       "      <td>NaN</td>\n",
       "      <td>NaN</td>\n",
       "      <td>NaN</td>\n",
       "    </tr>\n",
       "    <tr>\n",
       "      <th>2</th>\n",
       "      <td>Mario Kart Wii</td>\n",
       "      <td>Wii</td>\n",
       "      <td>2008.0</td>\n",
       "      <td>Racing</td>\n",
       "      <td>15.68</td>\n",
       "      <td>12.76</td>\n",
       "      <td>3.79</td>\n",
       "      <td>3.29</td>\n",
       "      <td>82.0</td>\n",
       "      <td>8.3</td>\n",
       "      <td>E</td>\n",
       "    </tr>\n",
       "    <tr>\n",
       "      <th>3</th>\n",
       "      <td>Wii Sports Resort</td>\n",
       "      <td>Wii</td>\n",
       "      <td>2009.0</td>\n",
       "      <td>Sports</td>\n",
       "      <td>15.61</td>\n",
       "      <td>10.93</td>\n",
       "      <td>3.28</td>\n",
       "      <td>2.95</td>\n",
       "      <td>80.0</td>\n",
       "      <td>8</td>\n",
       "      <td>E</td>\n",
       "    </tr>\n",
       "    <tr>\n",
       "      <th>4</th>\n",
       "      <td>Pokemon Red/Pokemon Blue</td>\n",
       "      <td>GB</td>\n",
       "      <td>1996.0</td>\n",
       "      <td>Role-Playing</td>\n",
       "      <td>11.27</td>\n",
       "      <td>8.89</td>\n",
       "      <td>10.22</td>\n",
       "      <td>1.00</td>\n",
       "      <td>NaN</td>\n",
       "      <td>NaN</td>\n",
       "      <td>NaN</td>\n",
       "    </tr>\n",
       "  </tbody>\n",
       "</table>\n",
       "</div>"
      ],
      "text/plain": [
       "                       name platform  year_of_release         genre  na_sales  \\\n",
       "0                Wii Sports      Wii           2006.0        Sports     41.36   \n",
       "1         Super Mario Bros.      NES           1985.0      Platform     29.08   \n",
       "2            Mario Kart Wii      Wii           2008.0        Racing     15.68   \n",
       "3         Wii Sports Resort      Wii           2009.0        Sports     15.61   \n",
       "4  Pokemon Red/Pokemon Blue       GB           1996.0  Role-Playing     11.27   \n",
       "\n",
       "   eu_sales  jp_sales  other_sales  critic_score user_score rating  \n",
       "0     28.96      3.77         8.45          76.0          8      E  \n",
       "1      3.58      6.81         0.77           NaN        NaN    NaN  \n",
       "2     12.76      3.79         3.29          82.0        8.3      E  \n",
       "3     10.93      3.28         2.95          80.0          8      E  \n",
       "4      8.89     10.22         1.00           NaN        NaN    NaN  "
      ]
     },
     "metadata": {},
     "output_type": "display_data"
    }
   ],
   "source": [
    "games.columns = games.columns.str.lower()\n",
    "display(games.head())"
   ]
  },
  {
   "cell_type": "markdown",
   "metadata": {},
   "source": [
    "#### Преобразуйте данные в нужные типы. Опишите, в каких столбцах заменили тип данных и почему;"
   ]
  },
  {
   "cell_type": "markdown",
   "metadata": {},
   "source": [
    "После анализа общих сведений о данных, мы установили, что для проведения последующих вычислений требуется изменить типы данных в двух колонках:\n",
    "\n",
    "- В колонке **\"year_of_release\"** - год выпуска игры по смыслу является целым числом, необходимо применить целочисленный тип, применим Int64, чтобы не возникало ошибок из-за NA значений\n",
    "\n",
    "\n",
    "- В колонке **\"user_score\"** - оценка пользователей следует использовать вещественный тип, чтобы обеспечить возможность выполнения числовых операций"
   ]
  },
  {
   "cell_type": "code",
   "execution_count": 6,
   "metadata": {
    "scrolled": true
   },
   "outputs": [],
   "source": [
    "games['year_of_release'] = games['year_of_release'].astype('Int64')"
   ]
  },
  {
   "cell_type": "code",
   "execution_count": 7,
   "metadata": {},
   "outputs": [],
   "source": [
    "games['user_score'] = pd.to_numeric(games['user_score'], errors='coerce')"
   ]
  },
  {
   "cell_type": "markdown",
   "metadata": {},
   "source": [
    "<div class=\"alert alert-block alert-danger\">\n",
    "<b>❌Комментарий ревьюера:</b> \n",
    "    \n",
    "При таком изменении типа данных значения 'tbd' будут заменены на пропуски. Решение заменить 'tbd' на пропуски верное, но тут стоит подробнее пояснить читателю, что значит 'tbd' и почему мы решили заменить их на пропуски.\n",
    "\n",
    "</div>"
   ]
  },
  {
   "cell_type": "markdown",
   "id": "6fc02cdb",
   "metadata": {},
   "source": [
    "<div class=\"alert alert-block alert-success\">\n",
    "<b>✅Комментарий ревьюера 2:</b> Отлично, исправлено!👍  </div>"
   ]
  },
  {
   "cell_type": "markdown",
   "metadata": {},
   "source": [
    "<div class=\"alert alert-block alert-info\">\n",
    "<b>🔄Комментарий студента:</b> \n",
    "Спасибо за комментарий! Постарался расписать ниже ✔\n",
    "</div>"
   ]
  },
  {
   "cell_type": "markdown",
   "metadata": {},
   "source": [
    "В контексте пользовательских оценок \"tbd\" означает \"to be determined\", что переводится как \"будет определено\". Обычно это означает, что у игры недостаточно отзывов пользователей для расчета точной средней оценки.\n",
    "\n",
    "Преобразуя столбец 'user_score' в числовые значения с помощью метода pd.to_numeric с параметром errors='coerce', мы указываем pandas изменить значения, которые не могут быть преобразованы в числа (как 'tbd'), на NaN (Not a Number), которые являются стандартными маркерами отсутствующих значений в pandas.\n",
    "\n",
    "Преобразование 'tbd' в NaN в столбце 'user_score' улучшает анализ по нескольким аспектам:\n",
    "\n",
    " - Согласованность данных: Обеспечивает единственный числовой формат, упрощая расчеты.\n",
    " \n",
    " \n",
    " - Ясность анализа: Показывает отсутствие фактических оценок, улучшая точность анализа.\n",
    " \n",
    " \n",
    " - Обработка данных: Упрощает управление пропущенными данными в pandas через заполнение, удаление и другие методы."
   ]
  },
  {
   "cell_type": "code",
   "execution_count": 8,
   "metadata": {},
   "outputs": [
    {
     "data": {
      "text/plain": [
       "array([76., nan, 82., 80., 89., 58., 87., 91., 61., 97., 95., 77., 88.,\n",
       "       83., 94., 93., 85., 86., 98., 96., 90., 84., 73., 74., 78., 92.,\n",
       "       71., 72., 68., 62., 49., 67., 81., 66., 56., 79., 70., 59., 64.,\n",
       "       75., 60., 63., 69., 50., 25., 42., 44., 55., 48., 57., 29., 47.,\n",
       "       65., 54., 20., 53., 37., 38., 33., 52., 30., 32., 43., 45., 51.,\n",
       "       40., 46., 39., 34., 35., 41., 36., 28., 31., 27., 26., 19., 23.,\n",
       "       24., 21., 17., 22., 13.])"
      ]
     },
     "execution_count": 8,
     "metadata": {},
     "output_type": "execute_result"
    }
   ],
   "source": [
    "games['critic_score'].unique()"
   ]
  },
  {
   "cell_type": "markdown",
   "metadata": {},
   "source": [
    "Можем заметить что в столбце critic_score нет дробных значений (но есть NaN), поэтому возможно заменить на Int64, однако по смыслу это не строго обязательно на данный момент"
   ]
  },
  {
   "cell_type": "code",
   "execution_count": 9,
   "metadata": {},
   "outputs": [
    {
     "data": {
      "text/plain": [
       "name                object\n",
       "platform            object\n",
       "year_of_release      Int64\n",
       "genre               object\n",
       "na_sales           float64\n",
       "eu_sales           float64\n",
       "jp_sales           float64\n",
       "other_sales        float64\n",
       "critic_score       float64\n",
       "user_score         float64\n",
       "rating              object\n",
       "dtype: object"
      ]
     },
     "execution_count": 9,
     "metadata": {},
     "output_type": "execute_result"
    }
   ],
   "source": [
    "games.dtypes"
   ]
  },
  {
   "cell_type": "markdown",
   "metadata": {},
   "source": [
    "Типы данных были успешно заменены"
   ]
  },
  {
   "cell_type": "markdown",
   "metadata": {},
   "source": [
    "#### Обработайте пропуски при необходимости:"
   ]
  },
  {
   "cell_type": "markdown",
   "metadata": {},
   "source": [
    "Изучим количество пропусков в каждом столбце данных"
   ]
  },
  {
   "cell_type": "code",
   "execution_count": 10,
   "metadata": {
    "scrolled": true
   },
   "outputs": [
    {
     "data": {
      "text/plain": [
       "user_score         9125\n",
       "critic_score       8578\n",
       "rating             6766\n",
       "year_of_release     269\n",
       "name                  2\n",
       "genre                 2\n",
       "platform              0\n",
       "na_sales              0\n",
       "eu_sales              0\n",
       "jp_sales              0\n",
       "other_sales           0\n",
       "dtype: int64"
      ]
     },
     "execution_count": 10,
     "metadata": {},
     "output_type": "execute_result"
    }
   ],
   "source": [
    "games.isna().sum().sort_values(ascending=False)"
   ]
  },
  {
   "cell_type": "markdown",
   "metadata": {},
   "source": [
    "Также, помимо абсолютных значений мы можем посмотреть долю пропусков, и на основании этого принять решение о удалении, замене либо игнорировании пропусков, например: "
   ]
  },
  {
   "cell_type": "code",
   "execution_count": 11,
   "metadata": {},
   "outputs": [
    {
     "data": {
      "text/html": [
       "<style  type=\"text/css\" >\n",
       "#T_9d54c_row0_col0{\n",
       "            background-color:  #b40426;\n",
       "            color:  #f1f1f1;\n",
       "        }#T_9d54c_row1_col0{\n",
       "            background-color:  #ca3b37;\n",
       "            color:  #f1f1f1;\n",
       "        }#T_9d54c_row2_col0{\n",
       "            background-color:  #f59d7e;\n",
       "            color:  #000000;\n",
       "        }#T_9d54c_row3_col0{\n",
       "            background-color:  #4358cb;\n",
       "            color:  #f1f1f1;\n",
       "        }#T_9d54c_row4_col0,#T_9d54c_row5_col0,#T_9d54c_row6_col0,#T_9d54c_row7_col0,#T_9d54c_row8_col0,#T_9d54c_row9_col0,#T_9d54c_row10_col0{\n",
       "            background-color:  #3b4cc0;\n",
       "            color:  #f1f1f1;\n",
       "        }</style><table id=\"T_9d54c_\" ><thead>    <tr>        <th class=\"blank level0\" ></th>        <th class=\"col_heading level0 col0\" >0</th>    </tr></thead><tbody>\n",
       "                <tr>\n",
       "                        <th id=\"T_9d54c_level0_row0\" class=\"row_heading level0 row0\" >user_score</th>\n",
       "                        <td id=\"T_9d54c_row0_col0\" class=\"data row0 col0\" >54.591700</td>\n",
       "            </tr>\n",
       "            <tr>\n",
       "                        <th id=\"T_9d54c_level0_row1\" class=\"row_heading level0 row1\" >critic_score</th>\n",
       "                        <td id=\"T_9d54c_row1_col0\" class=\"data row1 col0\" >51.319200</td>\n",
       "            </tr>\n",
       "            <tr>\n",
       "                        <th id=\"T_9d54c_level0_row2\" class=\"row_heading level0 row2\" >rating</th>\n",
       "                        <td id=\"T_9d54c_row2_col0\" class=\"data row2 col0\" >40.478600</td>\n",
       "            </tr>\n",
       "            <tr>\n",
       "                        <th id=\"T_9d54c_level0_row3\" class=\"row_heading level0 row3\" >year_of_release</th>\n",
       "                        <td id=\"T_9d54c_row3_col0\" class=\"data row3 col0\" >1.609300</td>\n",
       "            </tr>\n",
       "            <tr>\n",
       "                        <th id=\"T_9d54c_level0_row4\" class=\"row_heading level0 row4\" >name</th>\n",
       "                        <td id=\"T_9d54c_row4_col0\" class=\"data row4 col0\" >0.012000</td>\n",
       "            </tr>\n",
       "            <tr>\n",
       "                        <th id=\"T_9d54c_level0_row5\" class=\"row_heading level0 row5\" >genre</th>\n",
       "                        <td id=\"T_9d54c_row5_col0\" class=\"data row5 col0\" >0.012000</td>\n",
       "            </tr>\n",
       "            <tr>\n",
       "                        <th id=\"T_9d54c_level0_row6\" class=\"row_heading level0 row6\" >platform</th>\n",
       "                        <td id=\"T_9d54c_row6_col0\" class=\"data row6 col0\" >0.000000</td>\n",
       "            </tr>\n",
       "            <tr>\n",
       "                        <th id=\"T_9d54c_level0_row7\" class=\"row_heading level0 row7\" >na_sales</th>\n",
       "                        <td id=\"T_9d54c_row7_col0\" class=\"data row7 col0\" >0.000000</td>\n",
       "            </tr>\n",
       "            <tr>\n",
       "                        <th id=\"T_9d54c_level0_row8\" class=\"row_heading level0 row8\" >eu_sales</th>\n",
       "                        <td id=\"T_9d54c_row8_col0\" class=\"data row8 col0\" >0.000000</td>\n",
       "            </tr>\n",
       "            <tr>\n",
       "                        <th id=\"T_9d54c_level0_row9\" class=\"row_heading level0 row9\" >jp_sales</th>\n",
       "                        <td id=\"T_9d54c_row9_col0\" class=\"data row9 col0\" >0.000000</td>\n",
       "            </tr>\n",
       "            <tr>\n",
       "                        <th id=\"T_9d54c_level0_row10\" class=\"row_heading level0 row10\" >other_sales</th>\n",
       "                        <td id=\"T_9d54c_row10_col0\" class=\"data row10 col0\" >0.000000</td>\n",
       "            </tr>\n",
       "    </tbody></table>"
      ],
      "text/plain": [
       "<pandas.io.formats.style.Styler at 0x7f912de4c280>"
      ]
     },
     "execution_count": 11,
     "metadata": {},
     "output_type": "execute_result"
    }
   ],
   "source": [
    "pd.DataFrame(round(games.isna().mean()*100,4).sort_values(ascending=False)).style.background_gradient('coolwarm')"
   ]
  },
  {
   "cell_type": "markdown",
   "metadata": {},
   "source": [
    "Пропуски распределены неравномерно по различным столбцам. Самый большой процент пропусков наблюдается в столбцах user_score и critic_score, что составляет приблизительно 54.6% и 51.3% соответственно. Это может указывать на то, что большое количество игр не имеет оценок пользователей или критиков, возможно, из-за их недавнего выпуска, низкой популярности или других причин.\n",
    "\n",
    "Столбец rating также имеет значительный процент пропусков (40.5%), что может быть связано с тем, что не все игры проходят официальную процедуру рейтингования.\n",
    "\n",
    "Напротив, пропуски в столбцах, связанных с продажами (na_sales, eu_sales, jp_sales, other_sales), и базовыми атрибутами игр (например, name, platform, genre) почти отсутствуют, что указывает на хорошее качество данных в этих областях.\n",
    "\n",
    "P.S. Name и genre имеют 2 пропуска\n",
    "\n",
    "\n",
    "Пропуски в столбце year_of_release составляют примерно 1.6%, что может свидетельствовать о том, что для большинства игр доступна информация о годе выпуска, и отсутствие этих данных в некоторых случаях может быть результатом ошибок ввода или недостатков в сборе данных."
   ]
  },
  {
   "cell_type": "markdown",
   "metadata": {},
   "source": [
    "##### Обработка пропусков столбцов name и genre:"
   ]
  },
  {
   "cell_type": "code",
   "execution_count": 12,
   "metadata": {
    "scrolled": true
   },
   "outputs": [
    {
     "data": {
      "text/html": [
       "<div>\n",
       "<style scoped>\n",
       "    .dataframe tbody tr th:only-of-type {\n",
       "        vertical-align: middle;\n",
       "    }\n",
       "\n",
       "    .dataframe tbody tr th {\n",
       "        vertical-align: top;\n",
       "    }\n",
       "\n",
       "    .dataframe thead th {\n",
       "        text-align: right;\n",
       "    }\n",
       "</style>\n",
       "<table border=\"1\" class=\"dataframe\">\n",
       "  <thead>\n",
       "    <tr style=\"text-align: right;\">\n",
       "      <th></th>\n",
       "      <th>name</th>\n",
       "      <th>platform</th>\n",
       "      <th>year_of_release</th>\n",
       "      <th>genre</th>\n",
       "      <th>na_sales</th>\n",
       "      <th>eu_sales</th>\n",
       "      <th>jp_sales</th>\n",
       "      <th>other_sales</th>\n",
       "      <th>critic_score</th>\n",
       "      <th>user_score</th>\n",
       "      <th>rating</th>\n",
       "    </tr>\n",
       "  </thead>\n",
       "  <tbody>\n",
       "    <tr>\n",
       "      <th>659</th>\n",
       "      <td>NaN</td>\n",
       "      <td>GEN</td>\n",
       "      <td>1993</td>\n",
       "      <td>NaN</td>\n",
       "      <td>1.78</td>\n",
       "      <td>0.53</td>\n",
       "      <td>0.00</td>\n",
       "      <td>0.08</td>\n",
       "      <td>NaN</td>\n",
       "      <td>NaN</td>\n",
       "      <td>NaN</td>\n",
       "    </tr>\n",
       "    <tr>\n",
       "      <th>14244</th>\n",
       "      <td>NaN</td>\n",
       "      <td>GEN</td>\n",
       "      <td>1993</td>\n",
       "      <td>NaN</td>\n",
       "      <td>0.00</td>\n",
       "      <td>0.00</td>\n",
       "      <td>0.03</td>\n",
       "      <td>0.00</td>\n",
       "      <td>NaN</td>\n",
       "      <td>NaN</td>\n",
       "      <td>NaN</td>\n",
       "    </tr>\n",
       "  </tbody>\n",
       "</table>\n",
       "</div>"
      ],
      "text/plain": [
       "      name platform  year_of_release genre  na_sales  eu_sales  jp_sales  \\\n",
       "659    NaN      GEN             1993   NaN      1.78      0.53      0.00   \n",
       "14244  NaN      GEN             1993   NaN      0.00      0.00      0.03   \n",
       "\n",
       "       other_sales  critic_score  user_score rating  \n",
       "659           0.08           NaN         NaN    NaN  \n",
       "14244         0.00           NaN         NaN    NaN  "
      ]
     },
     "execution_count": 12,
     "metadata": {},
     "output_type": "execute_result"
    }
   ],
   "source": [
    "games.query('name.isnull() == True')"
   ]
  },
  {
   "cell_type": "markdown",
   "metadata": {},
   "source": [
    "Обнаружено, что помимо пропусков в name, эти строки также имеют пропуски в других столбцах, слишком много данных в этих строках отсутствует, заполнить невозможно.\n",
    "\n",
    "Принимаем решение **удалять данные строки** (можем так сделать, поскольку они составляют менее 1% от датасета)"
   ]
  },
  {
   "cell_type": "markdown",
   "metadata": {},
   "source": [
    "<div class=\"alert alert-block alert-success\">\n",
    "<b>✅Комментарий ревьюера:</b> Верное решение.</div>"
   ]
  },
  {
   "cell_type": "code",
   "execution_count": 13,
   "metadata": {},
   "outputs": [],
   "source": [
    "games = games.dropna(subset=['name'])"
   ]
  },
  {
   "cell_type": "markdown",
   "metadata": {},
   "source": [
    "##### Обработка пропусков столбцов year_of_release и rating:"
   ]
  },
  {
   "cell_type": "code",
   "execution_count": 14,
   "metadata": {
    "scrolled": false
   },
   "outputs": [
    {
     "data": {
      "text/html": [
       "<div>\n",
       "<style scoped>\n",
       "    .dataframe tbody tr th:only-of-type {\n",
       "        vertical-align: middle;\n",
       "    }\n",
       "\n",
       "    .dataframe tbody tr th {\n",
       "        vertical-align: top;\n",
       "    }\n",
       "\n",
       "    .dataframe thead th {\n",
       "        text-align: right;\n",
       "    }\n",
       "</style>\n",
       "<table border=\"1\" class=\"dataframe\">\n",
       "  <thead>\n",
       "    <tr style=\"text-align: right;\">\n",
       "      <th></th>\n",
       "      <th>name</th>\n",
       "      <th>platform</th>\n",
       "      <th>year_of_release</th>\n",
       "      <th>genre</th>\n",
       "      <th>na_sales</th>\n",
       "      <th>eu_sales</th>\n",
       "      <th>jp_sales</th>\n",
       "      <th>other_sales</th>\n",
       "      <th>critic_score</th>\n",
       "      <th>user_score</th>\n",
       "      <th>rating</th>\n",
       "    </tr>\n",
       "  </thead>\n",
       "  <tbody>\n",
       "    <tr>\n",
       "      <th>183</th>\n",
       "      <td>Madden NFL 2004</td>\n",
       "      <td>PS2</td>\n",
       "      <td>&lt;NA&gt;</td>\n",
       "      <td>Sports</td>\n",
       "      <td>4.26</td>\n",
       "      <td>0.26</td>\n",
       "      <td>0.01</td>\n",
       "      <td>0.71</td>\n",
       "      <td>94.0</td>\n",
       "      <td>8.5</td>\n",
       "      <td>E</td>\n",
       "    </tr>\n",
       "    <tr>\n",
       "      <th>377</th>\n",
       "      <td>FIFA Soccer 2004</td>\n",
       "      <td>PS2</td>\n",
       "      <td>&lt;NA&gt;</td>\n",
       "      <td>Sports</td>\n",
       "      <td>0.59</td>\n",
       "      <td>2.36</td>\n",
       "      <td>0.04</td>\n",
       "      <td>0.51</td>\n",
       "      <td>84.0</td>\n",
       "      <td>6.4</td>\n",
       "      <td>E</td>\n",
       "    </tr>\n",
       "    <tr>\n",
       "      <th>456</th>\n",
       "      <td>LEGO Batman: The Videogame</td>\n",
       "      <td>Wii</td>\n",
       "      <td>&lt;NA&gt;</td>\n",
       "      <td>Action</td>\n",
       "      <td>1.80</td>\n",
       "      <td>0.97</td>\n",
       "      <td>0.00</td>\n",
       "      <td>0.29</td>\n",
       "      <td>74.0</td>\n",
       "      <td>7.9</td>\n",
       "      <td>E10+</td>\n",
       "    </tr>\n",
       "    <tr>\n",
       "      <th>475</th>\n",
       "      <td>wwe Smackdown vs. Raw 2006</td>\n",
       "      <td>PS2</td>\n",
       "      <td>&lt;NA&gt;</td>\n",
       "      <td>Fighting</td>\n",
       "      <td>1.57</td>\n",
       "      <td>1.02</td>\n",
       "      <td>0.00</td>\n",
       "      <td>0.41</td>\n",
       "      <td>NaN</td>\n",
       "      <td>NaN</td>\n",
       "      <td>NaN</td>\n",
       "    </tr>\n",
       "    <tr>\n",
       "      <th>609</th>\n",
       "      <td>Space Invaders</td>\n",
       "      <td>2600</td>\n",
       "      <td>&lt;NA&gt;</td>\n",
       "      <td>Shooter</td>\n",
       "      <td>2.36</td>\n",
       "      <td>0.14</td>\n",
       "      <td>0.00</td>\n",
       "      <td>0.03</td>\n",
       "      <td>NaN</td>\n",
       "      <td>NaN</td>\n",
       "      <td>NaN</td>\n",
       "    </tr>\n",
       "    <tr>\n",
       "      <th>...</th>\n",
       "      <td>...</td>\n",
       "      <td>...</td>\n",
       "      <td>...</td>\n",
       "      <td>...</td>\n",
       "      <td>...</td>\n",
       "      <td>...</td>\n",
       "      <td>...</td>\n",
       "      <td>...</td>\n",
       "      <td>...</td>\n",
       "      <td>...</td>\n",
       "      <td>...</td>\n",
       "    </tr>\n",
       "    <tr>\n",
       "      <th>16373</th>\n",
       "      <td>PDC World Championship Darts 2008</td>\n",
       "      <td>PSP</td>\n",
       "      <td>&lt;NA&gt;</td>\n",
       "      <td>Sports</td>\n",
       "      <td>0.01</td>\n",
       "      <td>0.00</td>\n",
       "      <td>0.00</td>\n",
       "      <td>0.00</td>\n",
       "      <td>43.0</td>\n",
       "      <td>NaN</td>\n",
       "      <td>E10+</td>\n",
       "    </tr>\n",
       "    <tr>\n",
       "      <th>16405</th>\n",
       "      <td>Freaky Flyers</td>\n",
       "      <td>GC</td>\n",
       "      <td>&lt;NA&gt;</td>\n",
       "      <td>Racing</td>\n",
       "      <td>0.01</td>\n",
       "      <td>0.00</td>\n",
       "      <td>0.00</td>\n",
       "      <td>0.00</td>\n",
       "      <td>69.0</td>\n",
       "      <td>6.5</td>\n",
       "      <td>T</td>\n",
       "    </tr>\n",
       "    <tr>\n",
       "      <th>16448</th>\n",
       "      <td>Inversion</td>\n",
       "      <td>PC</td>\n",
       "      <td>&lt;NA&gt;</td>\n",
       "      <td>Shooter</td>\n",
       "      <td>0.01</td>\n",
       "      <td>0.00</td>\n",
       "      <td>0.00</td>\n",
       "      <td>0.00</td>\n",
       "      <td>59.0</td>\n",
       "      <td>6.7</td>\n",
       "      <td>M</td>\n",
       "    </tr>\n",
       "    <tr>\n",
       "      <th>16458</th>\n",
       "      <td>Hakuouki: Shinsengumi Kitan</td>\n",
       "      <td>PS3</td>\n",
       "      <td>&lt;NA&gt;</td>\n",
       "      <td>Adventure</td>\n",
       "      <td>0.01</td>\n",
       "      <td>0.00</td>\n",
       "      <td>0.00</td>\n",
       "      <td>0.00</td>\n",
       "      <td>NaN</td>\n",
       "      <td>NaN</td>\n",
       "      <td>NaN</td>\n",
       "    </tr>\n",
       "    <tr>\n",
       "      <th>16522</th>\n",
       "      <td>Virtua Quest</td>\n",
       "      <td>GC</td>\n",
       "      <td>&lt;NA&gt;</td>\n",
       "      <td>Role-Playing</td>\n",
       "      <td>0.01</td>\n",
       "      <td>0.00</td>\n",
       "      <td>0.00</td>\n",
       "      <td>0.00</td>\n",
       "      <td>55.0</td>\n",
       "      <td>5.5</td>\n",
       "      <td>T</td>\n",
       "    </tr>\n",
       "  </tbody>\n",
       "</table>\n",
       "<p>269 rows × 11 columns</p>\n",
       "</div>"
      ],
      "text/plain": [
       "                                    name platform  year_of_release  \\\n",
       "183                      Madden NFL 2004      PS2             <NA>   \n",
       "377                     FIFA Soccer 2004      PS2             <NA>   \n",
       "456           LEGO Batman: The Videogame      Wii             <NA>   \n",
       "475           wwe Smackdown vs. Raw 2006      PS2             <NA>   \n",
       "609                       Space Invaders     2600             <NA>   \n",
       "...                                  ...      ...              ...   \n",
       "16373  PDC World Championship Darts 2008      PSP             <NA>   \n",
       "16405                      Freaky Flyers       GC             <NA>   \n",
       "16448                          Inversion       PC             <NA>   \n",
       "16458        Hakuouki: Shinsengumi Kitan      PS3             <NA>   \n",
       "16522                       Virtua Quest       GC             <NA>   \n",
       "\n",
       "              genre  na_sales  eu_sales  jp_sales  other_sales  critic_score  \\\n",
       "183          Sports      4.26      0.26      0.01         0.71          94.0   \n",
       "377          Sports      0.59      2.36      0.04         0.51          84.0   \n",
       "456          Action      1.80      0.97      0.00         0.29          74.0   \n",
       "475        Fighting      1.57      1.02      0.00         0.41           NaN   \n",
       "609         Shooter      2.36      0.14      0.00         0.03           NaN   \n",
       "...             ...       ...       ...       ...          ...           ...   \n",
       "16373        Sports      0.01      0.00      0.00         0.00          43.0   \n",
       "16405        Racing      0.01      0.00      0.00         0.00          69.0   \n",
       "16448       Shooter      0.01      0.00      0.00         0.00          59.0   \n",
       "16458     Adventure      0.01      0.00      0.00         0.00           NaN   \n",
       "16522  Role-Playing      0.01      0.00      0.00         0.00          55.0   \n",
       "\n",
       "       user_score rating  \n",
       "183           8.5      E  \n",
       "377           6.4      E  \n",
       "456           7.9   E10+  \n",
       "475           NaN    NaN  \n",
       "609           NaN    NaN  \n",
       "...           ...    ...  \n",
       "16373         NaN   E10+  \n",
       "16405         6.5      T  \n",
       "16448         6.7      M  \n",
       "16458         NaN    NaN  \n",
       "16522         5.5      T  \n",
       "\n",
       "[269 rows x 11 columns]"
      ]
     },
     "execution_count": 14,
     "metadata": {},
     "output_type": "execute_result"
    }
   ],
   "source": [
    "games.query('year_of_release.isnull() == True')"
   ]
  },
  {
   "cell_type": "code",
   "execution_count": 15,
   "metadata": {
    "scrolled": true
   },
   "outputs": [
    {
     "data": {
      "text/html": [
       "<div>\n",
       "<style scoped>\n",
       "    .dataframe tbody tr th:only-of-type {\n",
       "        vertical-align: middle;\n",
       "    }\n",
       "\n",
       "    .dataframe tbody tr th {\n",
       "        vertical-align: top;\n",
       "    }\n",
       "\n",
       "    .dataframe thead th {\n",
       "        text-align: right;\n",
       "    }\n",
       "</style>\n",
       "<table border=\"1\" class=\"dataframe\">\n",
       "  <thead>\n",
       "    <tr style=\"text-align: right;\">\n",
       "      <th></th>\n",
       "      <th>name</th>\n",
       "      <th>platform</th>\n",
       "      <th>year_of_release</th>\n",
       "      <th>genre</th>\n",
       "      <th>na_sales</th>\n",
       "      <th>eu_sales</th>\n",
       "      <th>jp_sales</th>\n",
       "      <th>other_sales</th>\n",
       "      <th>critic_score</th>\n",
       "      <th>user_score</th>\n",
       "      <th>rating</th>\n",
       "    </tr>\n",
       "  </thead>\n",
       "  <tbody>\n",
       "    <tr>\n",
       "      <th>183</th>\n",
       "      <td>Madden NFL 2004</td>\n",
       "      <td>PS2</td>\n",
       "      <td>&lt;NA&gt;</td>\n",
       "      <td>Sports</td>\n",
       "      <td>4.26</td>\n",
       "      <td>0.26</td>\n",
       "      <td>0.01</td>\n",
       "      <td>0.71</td>\n",
       "      <td>94.0</td>\n",
       "      <td>8.5</td>\n",
       "      <td>E</td>\n",
       "    </tr>\n",
       "    <tr>\n",
       "      <th>1881</th>\n",
       "      <td>Madden NFL 2004</td>\n",
       "      <td>XB</td>\n",
       "      <td>2003</td>\n",
       "      <td>Sports</td>\n",
       "      <td>1.02</td>\n",
       "      <td>0.02</td>\n",
       "      <td>0.00</td>\n",
       "      <td>0.05</td>\n",
       "      <td>92.0</td>\n",
       "      <td>8.3</td>\n",
       "      <td>E</td>\n",
       "    </tr>\n",
       "    <tr>\n",
       "      <th>3889</th>\n",
       "      <td>Madden NFL 2004</td>\n",
       "      <td>GC</td>\n",
       "      <td>2003</td>\n",
       "      <td>Sports</td>\n",
       "      <td>0.40</td>\n",
       "      <td>0.10</td>\n",
       "      <td>0.00</td>\n",
       "      <td>0.01</td>\n",
       "      <td>94.0</td>\n",
       "      <td>7.7</td>\n",
       "      <td>E</td>\n",
       "    </tr>\n",
       "    <tr>\n",
       "      <th>5708</th>\n",
       "      <td>Madden NFL 2004</td>\n",
       "      <td>GBA</td>\n",
       "      <td>2003</td>\n",
       "      <td>Sports</td>\n",
       "      <td>0.22</td>\n",
       "      <td>0.08</td>\n",
       "      <td>0.00</td>\n",
       "      <td>0.01</td>\n",
       "      <td>70.0</td>\n",
       "      <td>6.6</td>\n",
       "      <td>E</td>\n",
       "    </tr>\n",
       "  </tbody>\n",
       "</table>\n",
       "</div>"
      ],
      "text/plain": [
       "                 name platform  year_of_release   genre  na_sales  eu_sales  \\\n",
       "183   Madden NFL 2004      PS2             <NA>  Sports      4.26      0.26   \n",
       "1881  Madden NFL 2004       XB             2003  Sports      1.02      0.02   \n",
       "3889  Madden NFL 2004       GC             2003  Sports      0.40      0.10   \n",
       "5708  Madden NFL 2004      GBA             2003  Sports      0.22      0.08   \n",
       "\n",
       "      jp_sales  other_sales  critic_score  user_score rating  \n",
       "183       0.01         0.71          94.0         8.5      E  \n",
       "1881      0.00         0.05          92.0         8.3      E  \n",
       "3889      0.00         0.01          94.0         7.7      E  \n",
       "5708      0.00         0.01          70.0         6.6      E  "
      ]
     },
     "execution_count": 15,
     "metadata": {},
     "output_type": "execute_result"
    }
   ],
   "source": [
    "games.query('name == \"Madden NFL 2004\"')"
   ]
  },
  {
   "cell_type": "markdown",
   "metadata": {},
   "source": [
    "На других платформах у игры Madden NFL 2004 заполнен год релиза. Теоретически, год выхода игр на разных платформах может различаться, однако данная погрешность не будет большой, поэтому заполнение годом выпуска игры на других платформах кажется верным вариантом"
   ]
  },
  {
   "cell_type": "code",
   "execution_count": 16,
   "metadata": {
    "scrolled": true
   },
   "outputs": [
    {
     "data": {
      "text/html": [
       "<div>\n",
       "<style scoped>\n",
       "    .dataframe tbody tr th:only-of-type {\n",
       "        vertical-align: middle;\n",
       "    }\n",
       "\n",
       "    .dataframe tbody tr th {\n",
       "        vertical-align: top;\n",
       "    }\n",
       "\n",
       "    .dataframe thead th {\n",
       "        text-align: right;\n",
       "    }\n",
       "</style>\n",
       "<table border=\"1\" class=\"dataframe\">\n",
       "  <thead>\n",
       "    <tr style=\"text-align: right;\">\n",
       "      <th></th>\n",
       "      <th>name</th>\n",
       "      <th>platform</th>\n",
       "      <th>year_of_release</th>\n",
       "      <th>genre</th>\n",
       "      <th>na_sales</th>\n",
       "      <th>eu_sales</th>\n",
       "      <th>jp_sales</th>\n",
       "      <th>other_sales</th>\n",
       "      <th>critic_score</th>\n",
       "      <th>user_score</th>\n",
       "      <th>rating</th>\n",
       "    </tr>\n",
       "  </thead>\n",
       "  <tbody>\n",
       "    <tr>\n",
       "      <th>0</th>\n",
       "      <td>Wii Sports</td>\n",
       "      <td>Wii</td>\n",
       "      <td>2006</td>\n",
       "      <td>Sports</td>\n",
       "      <td>41.36</td>\n",
       "      <td>28.96</td>\n",
       "      <td>3.77</td>\n",
       "      <td>8.45</td>\n",
       "      <td>76.0</td>\n",
       "      <td>8.0</td>\n",
       "      <td>E</td>\n",
       "    </tr>\n",
       "    <tr>\n",
       "      <th>1</th>\n",
       "      <td>Super Mario Bros.</td>\n",
       "      <td>NES</td>\n",
       "      <td>1985</td>\n",
       "      <td>Platform</td>\n",
       "      <td>29.08</td>\n",
       "      <td>3.58</td>\n",
       "      <td>6.81</td>\n",
       "      <td>0.77</td>\n",
       "      <td>NaN</td>\n",
       "      <td>NaN</td>\n",
       "      <td>NaN</td>\n",
       "    </tr>\n",
       "    <tr>\n",
       "      <th>2</th>\n",
       "      <td>Mario Kart Wii</td>\n",
       "      <td>Wii</td>\n",
       "      <td>2008</td>\n",
       "      <td>Racing</td>\n",
       "      <td>15.68</td>\n",
       "      <td>12.76</td>\n",
       "      <td>3.79</td>\n",
       "      <td>3.29</td>\n",
       "      <td>82.0</td>\n",
       "      <td>8.3</td>\n",
       "      <td>E</td>\n",
       "    </tr>\n",
       "    <tr>\n",
       "      <th>3</th>\n",
       "      <td>Wii Sports Resort</td>\n",
       "      <td>Wii</td>\n",
       "      <td>2009</td>\n",
       "      <td>Sports</td>\n",
       "      <td>15.61</td>\n",
       "      <td>10.93</td>\n",
       "      <td>3.28</td>\n",
       "      <td>2.95</td>\n",
       "      <td>80.0</td>\n",
       "      <td>8.0</td>\n",
       "      <td>E</td>\n",
       "    </tr>\n",
       "    <tr>\n",
       "      <th>4</th>\n",
       "      <td>Pokemon Red/Pokemon Blue</td>\n",
       "      <td>GB</td>\n",
       "      <td>1996</td>\n",
       "      <td>Role-Playing</td>\n",
       "      <td>11.27</td>\n",
       "      <td>8.89</td>\n",
       "      <td>10.22</td>\n",
       "      <td>1.00</td>\n",
       "      <td>NaN</td>\n",
       "      <td>NaN</td>\n",
       "      <td>NaN</td>\n",
       "    </tr>\n",
       "  </tbody>\n",
       "</table>\n",
       "</div>"
      ],
      "text/plain": [
       "                       name platform  year_of_release         genre  na_sales  \\\n",
       "0                Wii Sports      Wii             2006        Sports     41.36   \n",
       "1         Super Mario Bros.      NES             1985      Platform     29.08   \n",
       "2            Mario Kart Wii      Wii             2008        Racing     15.68   \n",
       "3         Wii Sports Resort      Wii             2009        Sports     15.61   \n",
       "4  Pokemon Red/Pokemon Blue       GB             1996  Role-Playing     11.27   \n",
       "\n",
       "   eu_sales  jp_sales  other_sales  critic_score  user_score rating  \n",
       "0     28.96      3.77         8.45          76.0         8.0      E  \n",
       "1      3.58      6.81         0.77           NaN         NaN    NaN  \n",
       "2     12.76      3.79         3.29          82.0         8.3      E  \n",
       "3     10.93      3.28         2.95          80.0         8.0      E  \n",
       "4      8.89     10.22         1.00           NaN         NaN    NaN  "
      ]
     },
     "execution_count": 16,
     "metadata": {},
     "output_type": "execute_result"
    }
   ],
   "source": [
    "not_null = games[games['year_of_release'].notnull()]\n",
    "not_null.head()"
   ]
  },
  {
   "cell_type": "code",
   "execution_count": 17,
   "metadata": {},
   "outputs": [],
   "source": [
    "c = 'year_of_release'"
   ]
  },
  {
   "cell_type": "code",
   "execution_count": 18,
   "metadata": {},
   "outputs": [],
   "source": [
    "def fill_years(row, **kwargs):\n",
    "    fill_col = c\n",
    "    rows = not_null_years[not_null_years['name'] == row['name']]\n",
    "    if len(rows) > 0:\n",
    "        return rows.iloc[0][fill_col]\n",
    "    return row[fill_col]"
   ]
  },
  {
   "cell_type": "code",
   "execution_count": 19,
   "metadata": {},
   "outputs": [],
   "source": [
    "#games.loc[games['year_of_release'].isnull(),'year_of_release'] = games.apply(fill_years, axis=1)"
   ]
  },
  {
   "cell_type": "markdown",
   "metadata": {
    "id": "5766e785"
   },
   "source": [
    "<div class=\"alert alert-block alert-danger\">\n",
    "<b>❌Комментарий ревьюера:</b> \n",
    "    \n",
    " - Ты верно подметил про то, что год выпуска на разных платформах может различаться. Заполнять пропуски в годах выпуска некорректно, некоторые игры выходили с одним и тем же названием в разные годы и на разных платформах. Строк с пропусками в годах выпуска не так много и их можно исключить, ведь они в любом случае не попадут в актуальный период.\n",
    "\n",
    " - На этом месте код падает с ошибкой. Я закоментировал строку с применением функции. Большая просьба отправлять на проверку проект с работающим кодом. Перед отправкой следует перезапустить весь проект `Kernel-->Restart & Run All` и убедиться, что все ячейки корректно отработали.</div>"
   ]
  },
  {
   "cell_type": "markdown",
   "id": "6fc02cdb",
   "metadata": {},
   "source": [
    "<div class=\"alert alert-block alert-success\">\n",
    "<b>✅Комментарий ревьюера 2:</b> Отлично, исправлено!👍  </div>"
   ]
  },
  {
   "cell_type": "markdown",
   "metadata": {},
   "source": [
    "<div class=\"alert alert-block alert-info\">\n",
    "<b>🔄Комментарий студента:</b> \n",
    "Согласен, тогда ниже сделаем по другому. По поводу неработающей ячейки - странно, она сначала работала, видимо не заметил потом ✔\n",
    "</div>"
   ]
  },
  {
   "cell_type": "markdown",
   "metadata": {},
   "source": [
    " Заполнять пропуски в годах выпуска некорректно, некоторые игры выходили с одним и тем же названием в разные годы и на разных платформах. Строк с пропусками в годах выпуска не так много и их можно исключить, ведь они в любом случае не попадут в актуальный период."
   ]
  },
  {
   "cell_type": "code",
   "execution_count": 20,
   "metadata": {},
   "outputs": [],
   "source": [
    "games = games.dropna(subset=['year_of_release'])"
   ]
  },
  {
   "cell_type": "code",
   "execution_count": 21,
   "metadata": {},
   "outputs": [
    {
     "data": {
      "text/html": [
       "<div>\n",
       "<style scoped>\n",
       "    .dataframe tbody tr th:only-of-type {\n",
       "        vertical-align: middle;\n",
       "    }\n",
       "\n",
       "    .dataframe tbody tr th {\n",
       "        vertical-align: top;\n",
       "    }\n",
       "\n",
       "    .dataframe thead th {\n",
       "        text-align: right;\n",
       "    }\n",
       "</style>\n",
       "<table border=\"1\" class=\"dataframe\">\n",
       "  <thead>\n",
       "    <tr style=\"text-align: right;\">\n",
       "      <th></th>\n",
       "      <th>name</th>\n",
       "      <th>platform</th>\n",
       "      <th>year_of_release</th>\n",
       "      <th>genre</th>\n",
       "      <th>na_sales</th>\n",
       "      <th>eu_sales</th>\n",
       "      <th>jp_sales</th>\n",
       "      <th>other_sales</th>\n",
       "      <th>critic_score</th>\n",
       "      <th>user_score</th>\n",
       "      <th>rating</th>\n",
       "    </tr>\n",
       "  </thead>\n",
       "  <tbody>\n",
       "    <tr>\n",
       "      <th>1881</th>\n",
       "      <td>Madden NFL 2004</td>\n",
       "      <td>XB</td>\n",
       "      <td>2003</td>\n",
       "      <td>Sports</td>\n",
       "      <td>1.02</td>\n",
       "      <td>0.02</td>\n",
       "      <td>0.0</td>\n",
       "      <td>0.05</td>\n",
       "      <td>92.0</td>\n",
       "      <td>8.3</td>\n",
       "      <td>E</td>\n",
       "    </tr>\n",
       "    <tr>\n",
       "      <th>3889</th>\n",
       "      <td>Madden NFL 2004</td>\n",
       "      <td>GC</td>\n",
       "      <td>2003</td>\n",
       "      <td>Sports</td>\n",
       "      <td>0.40</td>\n",
       "      <td>0.10</td>\n",
       "      <td>0.0</td>\n",
       "      <td>0.01</td>\n",
       "      <td>94.0</td>\n",
       "      <td>7.7</td>\n",
       "      <td>E</td>\n",
       "    </tr>\n",
       "    <tr>\n",
       "      <th>5708</th>\n",
       "      <td>Madden NFL 2004</td>\n",
       "      <td>GBA</td>\n",
       "      <td>2003</td>\n",
       "      <td>Sports</td>\n",
       "      <td>0.22</td>\n",
       "      <td>0.08</td>\n",
       "      <td>0.0</td>\n",
       "      <td>0.01</td>\n",
       "      <td>70.0</td>\n",
       "      <td>6.6</td>\n",
       "      <td>E</td>\n",
       "    </tr>\n",
       "  </tbody>\n",
       "</table>\n",
       "</div>"
      ],
      "text/plain": [
       "                 name platform  year_of_release   genre  na_sales  eu_sales  \\\n",
       "1881  Madden NFL 2004       XB             2003  Sports      1.02      0.02   \n",
       "3889  Madden NFL 2004       GC             2003  Sports      0.40      0.10   \n",
       "5708  Madden NFL 2004      GBA             2003  Sports      0.22      0.08   \n",
       "\n",
       "      jp_sales  other_sales  critic_score  user_score rating  \n",
       "1881       0.0         0.05          92.0         8.3      E  \n",
       "3889       0.0         0.01          94.0         7.7      E  \n",
       "5708       0.0         0.01          70.0         6.6      E  "
      ]
     },
     "execution_count": 21,
     "metadata": {},
     "output_type": "execute_result"
    }
   ],
   "source": [
    "games.query(\"name == 'Madden NFL 2004'\")"
   ]
  },
  {
   "cell_type": "code",
   "execution_count": 22,
   "metadata": {},
   "outputs": [
    {
     "data": {
      "text/plain": [
       "0"
      ]
     },
     "execution_count": 22,
     "metadata": {},
     "output_type": "execute_result"
    }
   ],
   "source": [
    "len(games.query('year_of_release.isnull()'))"
   ]
  },
  {
   "cell_type": "markdown",
   "metadata": {},
   "source": [
    "Попробуем такой же метод на втором столбце"
   ]
  },
  {
   "cell_type": "code",
   "execution_count": 23,
   "metadata": {},
   "outputs": [],
   "source": [
    "c = 'rating'\n",
    "#games.loc[games['rating'].isnull(),'rating'] = games.apply(fill_years, axis=1)"
   ]
  },
  {
   "cell_type": "markdown",
   "metadata": {
    "id": "5766e785"
   },
   "source": [
    "<div class=\"alert alert-block alert-danger\">\n",
    "<b>❌Комментарий ревьюера:</b> \n",
    "    \n",
    "Здесь код тоже падает с ошибкой.\n",
    "</div>"
   ]
  },
  {
   "cell_type": "markdown",
   "id": "6fc02cdb",
   "metadata": {},
   "source": [
    "<div class=\"alert alert-block alert-success\">\n",
    "<b>✅Комментарий ревьюера 2:</b> Отлично, исправлено!👍  </div>"
   ]
  },
  {
   "cell_type": "code",
   "execution_count": 24,
   "metadata": {},
   "outputs": [
    {
     "data": {
      "text/html": [
       "<div>\n",
       "<style scoped>\n",
       "    .dataframe tbody tr th:only-of-type {\n",
       "        vertical-align: middle;\n",
       "    }\n",
       "\n",
       "    .dataframe tbody tr th {\n",
       "        vertical-align: top;\n",
       "    }\n",
       "\n",
       "    .dataframe thead th {\n",
       "        text-align: right;\n",
       "    }\n",
       "</style>\n",
       "<table border=\"1\" class=\"dataframe\">\n",
       "  <thead>\n",
       "    <tr style=\"text-align: right;\">\n",
       "      <th></th>\n",
       "      <th>name</th>\n",
       "      <th>platform</th>\n",
       "      <th>year_of_release</th>\n",
       "      <th>genre</th>\n",
       "      <th>na_sales</th>\n",
       "      <th>eu_sales</th>\n",
       "      <th>jp_sales</th>\n",
       "      <th>other_sales</th>\n",
       "      <th>critic_score</th>\n",
       "      <th>user_score</th>\n",
       "      <th>rating</th>\n",
       "    </tr>\n",
       "  </thead>\n",
       "  <tbody>\n",
       "    <tr>\n",
       "      <th>1881</th>\n",
       "      <td>Madden NFL 2004</td>\n",
       "      <td>XB</td>\n",
       "      <td>2003</td>\n",
       "      <td>Sports</td>\n",
       "      <td>1.02</td>\n",
       "      <td>0.02</td>\n",
       "      <td>0.0</td>\n",
       "      <td>0.05</td>\n",
       "      <td>92.0</td>\n",
       "      <td>8.3</td>\n",
       "      <td>E</td>\n",
       "    </tr>\n",
       "    <tr>\n",
       "      <th>3889</th>\n",
       "      <td>Madden NFL 2004</td>\n",
       "      <td>GC</td>\n",
       "      <td>2003</td>\n",
       "      <td>Sports</td>\n",
       "      <td>0.40</td>\n",
       "      <td>0.10</td>\n",
       "      <td>0.0</td>\n",
       "      <td>0.01</td>\n",
       "      <td>94.0</td>\n",
       "      <td>7.7</td>\n",
       "      <td>E</td>\n",
       "    </tr>\n",
       "    <tr>\n",
       "      <th>5708</th>\n",
       "      <td>Madden NFL 2004</td>\n",
       "      <td>GBA</td>\n",
       "      <td>2003</td>\n",
       "      <td>Sports</td>\n",
       "      <td>0.22</td>\n",
       "      <td>0.08</td>\n",
       "      <td>0.0</td>\n",
       "      <td>0.01</td>\n",
       "      <td>70.0</td>\n",
       "      <td>6.6</td>\n",
       "      <td>E</td>\n",
       "    </tr>\n",
       "  </tbody>\n",
       "</table>\n",
       "</div>"
      ],
      "text/plain": [
       "                 name platform  year_of_release   genre  na_sales  eu_sales  \\\n",
       "1881  Madden NFL 2004       XB             2003  Sports      1.02      0.02   \n",
       "3889  Madden NFL 2004       GC             2003  Sports      0.40      0.10   \n",
       "5708  Madden NFL 2004      GBA             2003  Sports      0.22      0.08   \n",
       "\n",
       "      jp_sales  other_sales  critic_score  user_score rating  \n",
       "1881       0.0         0.05          92.0         8.3      E  \n",
       "3889       0.0         0.01          94.0         7.7      E  \n",
       "5708       0.0         0.01          70.0         6.6      E  "
      ]
     },
     "execution_count": 24,
     "metadata": {},
     "output_type": "execute_result"
    }
   ],
   "source": [
    "games.query(\"name == 'Madden NFL 2004'\")"
   ]
  },
  {
   "cell_type": "code",
   "execution_count": 25,
   "metadata": {},
   "outputs": [
    {
     "data": {
      "text/plain": [
       "6676"
      ]
     },
     "execution_count": 25,
     "metadata": {},
     "output_type": "execute_result"
    }
   ],
   "source": [
    "len(games.query('rating.isnull()'))"
   ]
  },
  {
   "cell_type": "code",
   "execution_count": 26,
   "metadata": {},
   "outputs": [],
   "source": [
    "games['rating'] = games['rating'].fillna('?')"
   ]
  },
  {
   "cell_type": "markdown",
   "metadata": {},
   "source": [
    "Что касается обработки пропусков столбцов critic_score и user_score - они составляют около половины датасета, медианой и средним заполнять некорректно, удалять тоже\n",
    "\n",
    "Можем заполнить флагом, показывающим, что тут был пропуск, пусть это будет -100"
   ]
  },
  {
   "cell_type": "code",
   "execution_count": 27,
   "metadata": {},
   "outputs": [],
   "source": [
    "games['user_score'] = games['user_score'].fillna(-100)"
   ]
  },
  {
   "cell_type": "code",
   "execution_count": 28,
   "metadata": {},
   "outputs": [],
   "source": [
    "games['critic_score'] = games['critic_score'].fillna(-100)"
   ]
  },
  {
   "cell_type": "markdown",
   "metadata": {},
   "source": [
    "<div class=\"alert alert-block alert-success\">\n",
    "<b>✅Комментарий ревьюера:</b> Главное не забывать потом эти значения перед расчетами отфильтровывать) </div>"
   ]
  },
  {
   "cell_type": "code",
   "execution_count": 29,
   "metadata": {},
   "outputs": [
    {
     "data": {
      "text/plain": [
       "name               0\n",
       "platform           0\n",
       "year_of_release    0\n",
       "genre              0\n",
       "na_sales           0\n",
       "eu_sales           0\n",
       "jp_sales           0\n",
       "other_sales        0\n",
       "critic_score       0\n",
       "user_score         0\n",
       "rating             0\n",
       "dtype: int64"
      ]
     },
     "execution_count": 29,
     "metadata": {},
     "output_type": "execute_result"
    }
   ],
   "source": [
    "games.isnull().sum()"
   ]
  },
  {
   "cell_type": "markdown",
   "metadata": {},
   "source": [
    "Проверили, все пропуски обработаны"
   ]
  },
  {
   "cell_type": "markdown",
   "metadata": {},
   "source": [
    "#### Посчитайте суммарные продажи во всех регионах и запишите их в отдельный столбец."
   ]
  },
  {
   "cell_type": "code",
   "execution_count": 30,
   "metadata": {},
   "outputs": [
    {
     "data": {
      "text/html": [
       "<div>\n",
       "<style scoped>\n",
       "    .dataframe tbody tr th:only-of-type {\n",
       "        vertical-align: middle;\n",
       "    }\n",
       "\n",
       "    .dataframe tbody tr th {\n",
       "        vertical-align: top;\n",
       "    }\n",
       "\n",
       "    .dataframe thead th {\n",
       "        text-align: right;\n",
       "    }\n",
       "</style>\n",
       "<table border=\"1\" class=\"dataframe\">\n",
       "  <thead>\n",
       "    <tr style=\"text-align: right;\">\n",
       "      <th></th>\n",
       "      <th>name</th>\n",
       "      <th>platform</th>\n",
       "      <th>year_of_release</th>\n",
       "      <th>genre</th>\n",
       "      <th>na_sales</th>\n",
       "      <th>eu_sales</th>\n",
       "      <th>jp_sales</th>\n",
       "      <th>other_sales</th>\n",
       "      <th>critic_score</th>\n",
       "      <th>user_score</th>\n",
       "      <th>rating</th>\n",
       "      <th>total_sales</th>\n",
       "    </tr>\n",
       "  </thead>\n",
       "  <tbody>\n",
       "    <tr>\n",
       "      <th>0</th>\n",
       "      <td>Wii Sports</td>\n",
       "      <td>Wii</td>\n",
       "      <td>2006</td>\n",
       "      <td>Sports</td>\n",
       "      <td>41.36</td>\n",
       "      <td>28.96</td>\n",
       "      <td>3.77</td>\n",
       "      <td>8.45</td>\n",
       "      <td>76.0</td>\n",
       "      <td>8.0</td>\n",
       "      <td>E</td>\n",
       "      <td>111.50</td>\n",
       "    </tr>\n",
       "    <tr>\n",
       "      <th>1</th>\n",
       "      <td>Super Mario Bros.</td>\n",
       "      <td>NES</td>\n",
       "      <td>1985</td>\n",
       "      <td>Platform</td>\n",
       "      <td>29.08</td>\n",
       "      <td>3.58</td>\n",
       "      <td>6.81</td>\n",
       "      <td>0.77</td>\n",
       "      <td>-100.0</td>\n",
       "      <td>-100.0</td>\n",
       "      <td>?</td>\n",
       "      <td>43.82</td>\n",
       "    </tr>\n",
       "    <tr>\n",
       "      <th>2</th>\n",
       "      <td>Mario Kart Wii</td>\n",
       "      <td>Wii</td>\n",
       "      <td>2008</td>\n",
       "      <td>Racing</td>\n",
       "      <td>15.68</td>\n",
       "      <td>12.76</td>\n",
       "      <td>3.79</td>\n",
       "      <td>3.29</td>\n",
       "      <td>82.0</td>\n",
       "      <td>8.3</td>\n",
       "      <td>E</td>\n",
       "      <td>48.28</td>\n",
       "    </tr>\n",
       "    <tr>\n",
       "      <th>3</th>\n",
       "      <td>Wii Sports Resort</td>\n",
       "      <td>Wii</td>\n",
       "      <td>2009</td>\n",
       "      <td>Sports</td>\n",
       "      <td>15.61</td>\n",
       "      <td>10.93</td>\n",
       "      <td>3.28</td>\n",
       "      <td>2.95</td>\n",
       "      <td>80.0</td>\n",
       "      <td>8.0</td>\n",
       "      <td>E</td>\n",
       "      <td>43.70</td>\n",
       "    </tr>\n",
       "    <tr>\n",
       "      <th>4</th>\n",
       "      <td>Pokemon Red/Pokemon Blue</td>\n",
       "      <td>GB</td>\n",
       "      <td>1996</td>\n",
       "      <td>Role-Playing</td>\n",
       "      <td>11.27</td>\n",
       "      <td>8.89</td>\n",
       "      <td>10.22</td>\n",
       "      <td>1.00</td>\n",
       "      <td>-100.0</td>\n",
       "      <td>-100.0</td>\n",
       "      <td>?</td>\n",
       "      <td>40.27</td>\n",
       "    </tr>\n",
       "  </tbody>\n",
       "</table>\n",
       "</div>"
      ],
      "text/plain": [
       "                       name platform  year_of_release         genre  na_sales  \\\n",
       "0                Wii Sports      Wii             2006        Sports     41.36   \n",
       "1         Super Mario Bros.      NES             1985      Platform     29.08   \n",
       "2            Mario Kart Wii      Wii             2008        Racing     15.68   \n",
       "3         Wii Sports Resort      Wii             2009        Sports     15.61   \n",
       "4  Pokemon Red/Pokemon Blue       GB             1996  Role-Playing     11.27   \n",
       "\n",
       "   eu_sales  jp_sales  other_sales  critic_score  user_score rating  \\\n",
       "0     28.96      3.77         8.45          76.0         8.0      E   \n",
       "1      3.58      6.81         0.77        -100.0      -100.0      ?   \n",
       "2     12.76      3.79         3.29          82.0         8.3      E   \n",
       "3     10.93      3.28         2.95          80.0         8.0      E   \n",
       "4      8.89     10.22         1.00        -100.0      -100.0      ?   \n",
       "\n",
       "   total_sales  \n",
       "0       111.50  \n",
       "1        43.82  \n",
       "2        48.28  \n",
       "3        43.70  \n",
       "4        40.27  "
      ]
     },
     "execution_count": 30,
     "metadata": {},
     "output_type": "execute_result"
    }
   ],
   "source": [
    "games['total_sales'] = games.loc[:,['na_sales', 'eu_sales', 'eu_sales', 'jp_sales', 'other_sales']].sum(axis=1)\n",
    "games.head()"
   ]
  },
  {
   "cell_type": "markdown",
   "metadata": {
    "id": "5766e785"
   },
   "source": [
    "<div class=\"alert alert-block alert-danger\">\n",
    "<b>❌Комментарий ревьюера:</b> \n",
    "    \n",
    " - После этапа предобработки также нужно сделать краткий резюмирующий вывод о проделанной работе.\n",
    "\n",
    " - Не увидел проверки на полные дубликаты строк. Это одно из обязательных действий при предобработке данных. Также необходимо сделать проверку на наличие неявных дубликатов (совпадающие по названию, платформе и году релиза одновременно).</div>"
   ]
  },
  {
   "cell_type": "markdown",
   "id": "6fc02cdb",
   "metadata": {},
   "source": [
    "<div class=\"alert alert-block alert-success\">\n",
    "<b>✅Комментарий ревьюера 2:</b> Отлично, исправлено!👍  </div>"
   ]
  },
  {
   "cell_type": "code",
   "execution_count": 31,
   "metadata": {},
   "outputs": [
    {
     "data": {
      "text/plain": [
       "0"
      ]
     },
     "execution_count": 31,
     "metadata": {},
     "output_type": "execute_result"
    }
   ],
   "source": [
    "games.duplicated().sum()"
   ]
  },
  {
   "cell_type": "markdown",
   "metadata": {},
   "source": [
    "Проверили на явные дубликаты, не нашли"
   ]
  },
  {
   "cell_type": "code",
   "execution_count": 32,
   "metadata": {},
   "outputs": [
    {
     "data": {
      "text/plain": [
       "1"
      ]
     },
     "execution_count": 32,
     "metadata": {},
     "output_type": "execute_result"
    }
   ],
   "source": [
    "games.duplicated(subset=['name', 'platform', 'year_of_release']).sum()"
   ]
  },
  {
   "cell_type": "code",
   "execution_count": 33,
   "metadata": {},
   "outputs": [
    {
     "data": {
      "text/html": [
       "<div>\n",
       "<style scoped>\n",
       "    .dataframe tbody tr th:only-of-type {\n",
       "        vertical-align: middle;\n",
       "    }\n",
       "\n",
       "    .dataframe tbody tr th {\n",
       "        vertical-align: top;\n",
       "    }\n",
       "\n",
       "    .dataframe thead th {\n",
       "        text-align: right;\n",
       "    }\n",
       "</style>\n",
       "<table border=\"1\" class=\"dataframe\">\n",
       "  <thead>\n",
       "    <tr style=\"text-align: right;\">\n",
       "      <th></th>\n",
       "      <th>name</th>\n",
       "      <th>platform</th>\n",
       "      <th>year_of_release</th>\n",
       "      <th>genre</th>\n",
       "      <th>na_sales</th>\n",
       "      <th>eu_sales</th>\n",
       "      <th>jp_sales</th>\n",
       "      <th>other_sales</th>\n",
       "      <th>critic_score</th>\n",
       "      <th>user_score</th>\n",
       "      <th>rating</th>\n",
       "      <th>total_sales</th>\n",
       "    </tr>\n",
       "  </thead>\n",
       "  <tbody>\n",
       "    <tr>\n",
       "      <th>16230</th>\n",
       "      <td>Madden NFL 13</td>\n",
       "      <td>PS3</td>\n",
       "      <td>2012</td>\n",
       "      <td>Sports</td>\n",
       "      <td>0.0</td>\n",
       "      <td>0.01</td>\n",
       "      <td>0.0</td>\n",
       "      <td>0.0</td>\n",
       "      <td>83.0</td>\n",
       "      <td>5.5</td>\n",
       "      <td>E</td>\n",
       "      <td>0.02</td>\n",
       "    </tr>\n",
       "  </tbody>\n",
       "</table>\n",
       "</div>"
      ],
      "text/plain": [
       "                name platform  year_of_release   genre  na_sales  eu_sales  \\\n",
       "16230  Madden NFL 13      PS3             2012  Sports       0.0      0.01   \n",
       "\n",
       "       jp_sales  other_sales  critic_score  user_score rating  total_sales  \n",
       "16230       0.0          0.0          83.0         5.5      E         0.02  "
      ]
     },
     "execution_count": 33,
     "metadata": {},
     "output_type": "execute_result"
    }
   ],
   "source": [
    "games[games.duplicated(subset=['name', 'platform', 'year_of_release'])]"
   ]
  },
  {
   "cell_type": "markdown",
   "metadata": {},
   "source": [
    "Нашли один неявный дубликат, обработаем:"
   ]
  },
  {
   "cell_type": "code",
   "execution_count": 34,
   "metadata": {},
   "outputs": [],
   "source": [
    "games = games.drop_duplicates(subset=['name', 'platform', 'year_of_release'])"
   ]
  },
  {
   "cell_type": "code",
   "execution_count": 35,
   "metadata": {},
   "outputs": [
    {
     "data": {
      "text/plain": [
       "0"
      ]
     },
     "execution_count": 35,
     "metadata": {},
     "output_type": "execute_result"
    }
   ],
   "source": [
    "games.duplicated(subset=['name', 'platform', 'year_of_release']).sum()"
   ]
  },
  {
   "cell_type": "markdown",
   "metadata": {},
   "source": [
    "Очистка и форматирование названий столбцов: Названия столбцов были приведены к единому формату для упрощения дальнейшей работы с данными.\n",
    "\n",
    "Обработка пропусков в данных: В наборе данных были обнаружены и обработаны пропуски, особенно в таких важных столбцах, как год выпуска, жанр и оценки. В зависимости от контекста и значимости информации были применены разные подходы.\n",
    "\n",
    "Преобразование типов данных: Критические поля данных, такие как год выпуска, были преобразованы из вещественного типа в целочисленный, что позволило упростить последующий анализ.\n",
    "\n",
    "Анализ и удаление дубликатов: Проверка на дубликаты показала, что в данных отсутствуют точные повторы записей (явные дубликаты), что гарантирует уникальность и точность дальнейшего анализа. Однако был обнаружен неявный дубликат, но он был обработан"
   ]
  },
  {
   "cell_type": "markdown",
   "metadata": {},
   "source": [
    "### Шаг 3. Проведите исследовательский анализ данных"
   ]
  },
  {
   "cell_type": "markdown",
   "metadata": {},
   "source": [
    "#### Посмотрите, сколько игр выпускалось в разные годы. Важны ли данные за все периоды?"
   ]
  },
  {
   "cell_type": "code",
   "execution_count": 36,
   "metadata": {},
   "outputs": [],
   "source": [
    "#per_year = games.query('year_of_release != -100')\n",
    "per_year = games\n",
    "per_year = per_year[['name', 'year_of_release']].drop_duplicates().pivot_table(index='year_of_release', values='name', aggfunc='count').sort_values('year_of_release', ascending=False)"
   ]
  },
  {
   "cell_type": "markdown",
   "metadata": {},
   "source": [
    "<div class=\"alert alert-block alert-warning\">\n",
    "<b>🔁Комментарий ревьюера:</b> \n",
    "    \n",
    "А разве пропуски в годах выпуска были заполнены значениями -100 ?</div>"
   ]
  },
  {
   "cell_type": "markdown",
   "id": "6fc02cdb",
   "metadata": {},
   "source": [
    "<div class=\"alert alert-block alert-success\">\n",
    "<b>✅Комментарий ревьюера 2:</b> Отлично, исправлено!👍  </div>"
   ]
  },
  {
   "cell_type": "markdown",
   "metadata": {},
   "source": [
    "<div class=\"alert alert-block alert-info\">\n",
    "<b>🔄Комментарий студента:</b> \n",
    "Перепутал, исправил. Спасибо за комментарий!\n",
    "</div>"
   ]
  },
  {
   "cell_type": "code",
   "execution_count": 37,
   "metadata": {},
   "outputs": [
    {
     "data": {
      "image/png": "[encoded data removed]",
      "text/plain": [
       "<Figure size 432x288 with 1 Axes>"
      ]
     },
     "metadata": {
      "needs_background": "light"
     },
     "output_type": "display_data"
    }
   ],
   "source": [
    "per_year.plot(legend=False,title='Кол-во игр по годам релиза').set(xlabel='Год', ylabel='Кол-во')\n",
    "plt.show()"
   ]
  },
  {
   "cell_type": "markdown",
   "metadata": {},
   "source": [
    "График показывает рост числа выпущенных игр с начала 1980-х до 2010 года, за которым следует спад. Ранний период характеризуется низким числом выпусков, что отражает зарождение индустрии. \n",
    "\n",
    "Пик выпуска игр приходится на середину и конец 2000-х годов, что связано с развитием технологий и расширением рынка. \n",
    "\n",
    "После 2010 года наблюдается спад, возможно, из-за изменения структуры рынка и технологических сдвигов."
   ]
  },
  {
   "cell_type": "markdown",
   "metadata": {},
   "source": [
    "В тексте задания сказано, что \"вы планируете кампанию на 2017-й\", а значит игры до примерно 2005 будут считаться довольно старыми и нерелевантными для поставленной задачи"
   ]
  },
  {
   "cell_type": "markdown",
   "metadata": {},
   "source": [
    "#### Посмотрите, как менялись продажи по платформам. Выберите платформы с наибольшими суммарными продажами и постройте распределение по годам. За какой характерный срок появляются новые и исчезают старые платформы?"
   ]
  },
  {
   "cell_type": "code",
   "execution_count": 38,
   "metadata": {},
   "outputs": [],
   "source": [
    "total_sales_per_platform = games.groupby(['platform'],as_index = False)['total_sales'].sum().sort_values('total_sales',ascending = False)"
   ]
  },
  {
   "cell_type": "code",
   "execution_count": 39,
   "metadata": {
    "scrolled": true
   },
   "outputs": [
    {
     "data": {
      "image/png": "[encoded data removed]",
      "text/plain": [
       "<Figure size 720x360 with 1 Axes>"
      ]
     },
     "metadata": {
      "needs_background": "light"
     },
     "output_type": "display_data"
    }
   ],
   "source": [
    "total_sales_per_platform.plot(kind='bar',x='platform', y='total_sales',figsize=(10, 5),legend=False).set(xlabel='Платформа', ylabel='Продажи')\n",
    "plt.show()"
   ]
  },
  {
   "cell_type": "markdown",
   "metadata": {},
   "source": [
    "Можно выделить 6 явных платформ-лидеров"
   ]
  },
  {
   "cell_type": "code",
   "execution_count": 40,
   "metadata": {
    "scrolled": true
   },
   "outputs": [
    {
     "data": {
      "image/png": "[encoded data removed]",
      "text/plain": [
       "<Figure size 720x360 with 1 Axes>"
      ]
     },
     "metadata": {
      "needs_background": "light"
     },
     "output_type": "display_data"
    }
   ],
   "source": [
    "top_platforms = total_sales_per_platform.head(6)['platform'].tolist()\n",
    "for pltf in top_platforms:\n",
    "    games.query('platform == @pltf and year_of_release != -100').pivot_table(index = 'year_of_release',values = 'total_sales', aggfunc = 'sum').sort_values('year_of_release',ascending = False)['total_sales'].plot(figsize = (10, 5), label=pltf)\n",
    "    plt.xlabel('Дата релиза', labelpad = 10)\n",
    "    plt.ylabel('Продажи', labelpad = 50)\n",
    "    plt.legend()\n",
    "    plt.title('Продажи по 6 платформам-лидерам относительно годов релиза игр')"
   ]
  },
  {
   "cell_type": "markdown",
   "metadata": {},
   "source": [
    "<div class=\"alert alert-block alert-warning\">\n",
    "<b>🔁Комментарий ревьюера:</b>\n",
    "\n",
    "Не заметил ли ты что-нибудь странное у платформы DS?</div>"
   ]
  },
  {
   "cell_type": "markdown",
   "id": "6fc02cdb",
   "metadata": {},
   "source": [
    "<div class=\"alert alert-block alert-success\">\n",
    "<b>✅Комментарий ревьюера 2:</b> Отлично, исправлено!👍  </div>"
   ]
  },
  {
   "cell_type": "markdown",
   "metadata": {},
   "source": [
    "<div class=\"alert alert-block alert-info\">\n",
    "<b>🔄Комментарий студента:</b> \n",
    "    \n",
    "На графике продаж по шести платформам-лидерам относительно годов релиза игр видно, что для всех платформ, кроме DS, графики начинаются в более поздние годы, соответствующие их фактическому времени появления на рынке.\n",
    "  \n",
    "    \n",
    "В то же время, график для платформы DS начинается значительно раньше, около 1985 года, что кажется странным, учитывая, что Nintendo DS была выпущена в 2004 году.\n",
    "\n",
    "    \n",
    "    \n",
    "Это может указывать на некорректные данные в датасете для некоторых игр, принадлежащих платформе DS, либо на ошибку в коде, который использовался для создания этого графика.\n",
    "</div>"
   ]
  },
  {
   "cell_type": "markdown",
   "metadata": {},
   "source": [
    "<div class=\"alert alert-block alert-info\">\n",
    "<b>🔄Комментарий студента:</b> \n",
    "    \n",
    "Я могу на этапе предобработки удалить строки с DS с годом релиза до 2004, Одобряешь такое решение?\n",
    "</div>"
   ]
  },
  {
   "cell_type": "markdown",
   "id": "6fc02cdb",
   "metadata": {},
   "source": [
    "<div class=\"alert alert-block alert-success\">\n",
    "<b>✅Комментарий ревьюера 2:</b> Да, там всего одна строка и ее можно исключить.  </div>"
   ]
  },
  {
   "cell_type": "markdown",
   "metadata": {},
   "source": [
    "<div class=\"alert alert-block alert-danger\">\n",
    "<b>❌Комментарий ревьюера:</b> \n",
    "    \n",
    "Не забывай подписывать не только оси, но и названия для графиков.\n",
    "\n",
    "</div>"
   ]
  },
  {
   "cell_type": "markdown",
   "id": "6fc02cdb",
   "metadata": {},
   "source": [
    "<div class=\"alert alert-block alert-success\">\n",
    "<b>✅Комментарий ревьюера 2:</b> Отлично, исправлено!👍  </div>"
   ]
  },
  {
   "cell_type": "markdown",
   "metadata": {},
   "source": [
    "<div class=\"alert alert-block alert-info\">\n",
    "<b>🔄Комментарий студента:</b> \n",
    "Подписал верхний график\n",
    "</div>"
   ]
  },
  {
   "cell_type": "markdown",
   "metadata": {},
   "source": [
    "Характерный срок, за который появляются новые и исчезают старые платформы, на основе представленных данных, составляет примерно 10-12 лет. Это время от начала роста популярности платформы до её постепенного исчезновения с рынка. Пик популярности для большинства платформ наступает примерно через 4-6 лет после их появления."
   ]
  },
  {
   "cell_type": "markdown",
   "metadata": {},
   "source": [
    "<div class=\"alert alert-block alert-warning\">\n",
    "<b>🔁Комментарий ревьюера:</b> \n",
    "    \n",
    "Еще можно попробовать получить примерный срок жизни платформ с помощью расчетов.</div>"
   ]
  },
  {
   "cell_type": "markdown",
   "metadata": {},
   "source": [
    "#### Возьмите данные за соответствующий актуальный период. Актуальный период определите самостоятельно в результате исследования предыдущих вопросов. Основной фактор — эти данные помогут построить прогноз на 2017 год."
   ]
  },
  {
   "cell_type": "markdown",
   "metadata": {},
   "source": [
    "Анализируя предыдущие вопросы и предоставленные данные, можно сделать вывод, что жизненный цикл игровых платформ составляет примерно 10-12 лет, с пиком популярности примерно на 4-6 году.\n",
    "\n",
    "\n",
    "Основываясь на этой информации и учитывая необходимость прогнозирования на 2017 год, актуальный период для анализа данных можно определить как последние 5-6 лет. Этот период позволит увидеть текущие тенденции развития игровых платформ, которые ещё находятся на пике своей популярности, и те, которые начинают свой спад, что особенно важно для прогнозирования.\n",
    "\n",
    "\n",
    "Таким образом, если рассматривать прогноз на 2017 год, актуальным периодом для анализа станет промежуток с 2011 по 2016 год. Это даст представление о самых актуальных и потенциально прибыльных платформах, а также общем состоянии игровой индустрии, что позволит сделать обоснованный прогноз на 2017 год."
   ]
  },
  {
   "cell_type": "code",
   "execution_count": 41,
   "metadata": {},
   "outputs": [],
   "source": [
    "#games_actual = games.query('2011 <= year_of_release <=2016')\n",
    "games_actual = games.query('2014 <= year_of_release < 2017')"
   ]
  },
  {
   "cell_type": "markdown",
   "metadata": {},
   "source": [
    "<div class=\"alert alert-block alert-danger\">\n",
    "<b>❌Комментарий ревьюера:</b> \n",
    "    \n",
    "Мыслишь в верном направлении. Ты все отлично проанализировал и объяснил, но актуальный период выбрал немного больше чем нужно. В этот срез могут попасть уже неактуальные платформы.    \n",
    "\n",
    "Учитывая высокую динамичность рынка, мы можем сделать вывод, что для дальнейшего анализа нам потребуются данные по платформам, возникшим не ранее 3 лет назад по отношению к 2017 году, на который нам нужно сделать прогноз и запланировать рекламные кампании. Так мы сможем выделить успешные платформы, которые на 2017 год будут находиться в периоде финального роста или выйдут на плато. </div>"
   ]
  },
  {
   "cell_type": "markdown",
   "id": "6fc02cdb",
   "metadata": {},
   "source": [
    "<div class=\"alert alert-block alert-success\">\n",
    "<b>✅Комментарий ревьюера 2:</b> Отлично, исправлено!👍  </div>"
   ]
  },
  {
   "cell_type": "markdown",
   "metadata": {},
   "source": [
    "<div class=\"alert alert-block alert-info\">\n",
    "<b>🔄Комментарий студента:</b> \n",
    "    \n",
    "Хорошо, тогда возьмем актуальный период следующим образом: 2014 - 2016 года\n",
    "</div>"
   ]
  },
  {
   "cell_type": "markdown",
   "metadata": {},
   "source": [
    "#### Какие платформы лидируют по продажам, растут или падают? Выберите несколько потенциально прибыльных платформ."
   ]
  },
  {
   "cell_type": "code",
   "execution_count": 42,
   "metadata": {
    "scrolled": true
   },
   "outputs": [
    {
     "data": {
      "text/html": [
       "<div>\n",
       "<style scoped>\n",
       "    .dataframe tbody tr th:only-of-type {\n",
       "        vertical-align: middle;\n",
       "    }\n",
       "\n",
       "    .dataframe tbody tr th {\n",
       "        vertical-align: top;\n",
       "    }\n",
       "\n",
       "    .dataframe thead th {\n",
       "        text-align: right;\n",
       "    }\n",
       "</style>\n",
       "<table border=\"1\" class=\"dataframe\">\n",
       "  <thead>\n",
       "    <tr style=\"text-align: right;\">\n",
       "      <th></th>\n",
       "      <th>platform</th>\n",
       "      <th>total_sales</th>\n",
       "    </tr>\n",
       "  </thead>\n",
       "  <tbody>\n",
       "    <tr>\n",
       "      <th>3</th>\n",
       "      <td>PS4</td>\n",
       "      <td>418.19</td>\n",
       "    </tr>\n",
       "    <tr>\n",
       "      <th>9</th>\n",
       "      <td>XOne</td>\n",
       "      <td>186.61</td>\n",
       "    </tr>\n",
       "    <tr>\n",
       "      <th>0</th>\n",
       "      <td>3DS</td>\n",
       "      <td>102.80</td>\n",
       "    </tr>\n",
       "    <tr>\n",
       "      <th>2</th>\n",
       "      <td>PS3</td>\n",
       "      <td>93.72</td>\n",
       "    </tr>\n",
       "    <tr>\n",
       "      <th>8</th>\n",
       "      <td>X360</td>\n",
       "      <td>63.71</td>\n",
       "    </tr>\n",
       "    <tr>\n",
       "      <th>7</th>\n",
       "      <td>WiiU</td>\n",
       "      <td>56.13</td>\n",
       "    </tr>\n",
       "    <tr>\n",
       "      <th>1</th>\n",
       "      <td>PC</td>\n",
       "      <td>45.02</td>\n",
       "    </tr>\n",
       "    <tr>\n",
       "      <th>5</th>\n",
       "      <td>PSV</td>\n",
       "      <td>25.93</td>\n",
       "    </tr>\n",
       "    <tr>\n",
       "      <th>6</th>\n",
       "      <td>Wii</td>\n",
       "      <td>7.66</td>\n",
       "    </tr>\n",
       "    <tr>\n",
       "      <th>4</th>\n",
       "      <td>PSP</td>\n",
       "      <td>0.36</td>\n",
       "    </tr>\n",
       "  </tbody>\n",
       "</table>\n",
       "</div>"
      ],
      "text/plain": [
       "  platform  total_sales\n",
       "3      PS4       418.19\n",
       "9     XOne       186.61\n",
       "0      3DS       102.80\n",
       "2      PS3        93.72\n",
       "8     X360        63.71\n",
       "7     WiiU        56.13\n",
       "1       PC        45.02\n",
       "5      PSV        25.93\n",
       "6      Wii         7.66\n",
       "4      PSP         0.36"
      ]
     },
     "execution_count": 42,
     "metadata": {},
     "output_type": "execute_result"
    }
   ],
   "source": [
    "platforms_actual_leaders = games_actual.groupby(['platform'],as_index = False)['total_sales'].sum().sort_values('total_sales',ascending = False)\n",
    "                           \n",
    "platforms_actual_leaders"
   ]
  },
  {
   "cell_type": "code",
   "execution_count": 43,
   "metadata": {},
   "outputs": [
    {
     "data": {
      "image/png": "[encoded data removed]",
      "text/plain": [
       "<Figure size 720x360 with 1 Axes>"
      ]
     },
     "metadata": {
      "needs_background": "light"
     },
     "output_type": "display_data"
    }
   ],
   "source": [
    "platforms_actual_leaders.plot(kind='bar',x='platform', y='total_sales',figsize=(10, 5),legend=False).set(xlabel='Платформа', ylabel='Глобальные продажи')\n",
    "\n",
    "plt.show()"
   ]
  },
  {
   "cell_type": "markdown",
   "id": "8167ac0a",
   "metadata": {},
   "source": [
    "<div class=\"alert alert-block alert-warning\">\n",
    "<b>🔁Комментарий ревьюера 2:</b> \n",
    "    \n",
    "\n",
    "Не забывай подписывать названия для графиков</div>"
   ]
  },
  {
   "cell_type": "code",
   "execution_count": 44,
   "metadata": {},
   "outputs": [
    {
     "data": {
      "text/plain": [
       "['PS4', 'XOne', '3DS', 'PS3', 'X360', 'WiiU', 'PC', 'PSV', 'Wii', 'PSP']"
      ]
     },
     "execution_count": 44,
     "metadata": {},
     "output_type": "execute_result"
    }
   ],
   "source": [
    "top_platforms = platforms_actual_leaders['platform'].tolist()\n",
    "top_platforms"
   ]
  },
  {
   "cell_type": "code",
   "execution_count": 45,
   "metadata": {
    "scrolled": true
   },
   "outputs": [
    {
     "data": {
      "image/png": "[encoded data removed]",
      "text/plain": [
       "<Figure size 720x360 with 1 Axes>"
      ]
     },
     "metadata": {
      "needs_background": "light"
     },
     "output_type": "display_data"
    }
   ],
   "source": [
    "for pltf in top_platforms:\n",
    "    games_actual.query('platform == @pltf').pivot_table(index = 'year_of_release',values = 'total_sales', aggfunc = 'sum').sort_values('year_of_release',ascending = False)['total_sales'].plot(figsize=(10, 5), label = pltf)\n",
    "    \n",
    "    plt.xticks(np.arange(2011, 2016, step=1))\n",
    "    plt.xlabel('Дата релиза', labelpad = 10)\n",
    "    plt.ylabel('Продажи', labelpad = 10)\n",
    "    plt.legend()"
   ]
  },
  {
   "cell_type": "markdown",
   "id": "8167ac0a",
   "metadata": {},
   "source": [
    "<div class=\"alert alert-block alert-warning\">\n",
    "<b>🔁Комментарий ревьюера 2:</b> \n",
    "    \n",
    "\n",
    "А зачем годы на оси х отсчитываются с 2011?</div>"
   ]
  },
  {
   "cell_type": "markdown",
   "metadata": {},
   "source": [
    "Для прогнозирования на 2017 год стоит обратить внимание на платформы, которые находятся на стадии роста (PS4, Xbox One), поскольку они скорее всего будут продолжать показывать хорошие продажи. \n",
    "\n",
    "Платформы, которые показывают снижение продаж (PS3, X360, 3DS), вероятно, будут менее прибыльными. PC сохраняет свою стабильность, что делает его потенциально надежным выбором для стабильных, хоть и не высоких продаж."
   ]
  },
  {
   "cell_type": "markdown",
   "metadata": {},
   "source": [
    "<div class=\"alert alert-block alert-success\">\n",
    "<b>✅Комментарий ревьюера:</b> Потенциально прибыльные платформы ты определил верно! </div>"
   ]
  },
  {
   "cell_type": "code",
   "execution_count": 46,
   "metadata": {},
   "outputs": [],
   "source": [
    "#chosen_platforms = games_actual.query('platform == \"PS4\" or platform == \"XOne\"')\n",
    "chosen_platforms = games_actual"
   ]
  },
  {
   "cell_type": "markdown",
   "metadata": {
    "id": "5766e785"
   },
   "source": [
    "<div class=\"alert alert-block alert-danger\">\n",
    "<b>❌Комментарий ревьюера:</b> \n",
    "    \n",
    "Далее нам нужно анализировать все данные из актуального периода, без дополнительных фильтраций по платформам. Это позволит нам убедиться в правильности выбора перспективных платформ и не допустить ошибок.\n",
    "    \n",
    "</div>"
   ]
  },
  {
   "cell_type": "markdown",
   "id": "6fc02cdb",
   "metadata": {},
   "source": [
    "<div class=\"alert alert-block alert-success\">\n",
    "<b>✅Комментарий ревьюера 2:</b> Отлично, исправлено!👍  </div>"
   ]
  },
  {
   "cell_type": "markdown",
   "metadata": {},
   "source": [
    "<div class=\"alert alert-block alert-info\">\n",
    "<b>🔄Комментарий студента:</b> \n",
    "    \n",
    "Хорошо, тогда изменил код\n",
    "</div>"
   ]
  },
  {
   "cell_type": "markdown",
   "metadata": {},
   "source": [
    "#### Постройте график «ящик с усами» по глобальным продажам игр в разбивке по платформам. Опишите результат."
   ]
  },
  {
   "cell_type": "code",
   "execution_count": 47,
   "metadata": {},
   "outputs": [
    {
     "data": {
      "image/png": "[encoded data removed]",
      "text/plain": [
       "<Figure size 432x288 with 1 Axes>"
      ]
     },
     "metadata": {
      "needs_background": "light"
     },
     "output_type": "display_data"
    }
   ],
   "source": [
    "ax = sns.boxplot(x=\"platform\", y=\"total_sales\", data= chosen_platforms, palette=\"Set3\")\n",
    "ax.set(ylim=(0,5));\n",
    "plt.title('Глобальные продажи игр в разбивке по платформам');\n",
    "plt.xlabel('Платформы');\n",
    "plt.ylabel('Глобальные продажи');"
   ]
  },
  {
   "cell_type": "markdown",
   "metadata": {},
   "source": [
    "Игры на PS4 демонстрируют более высокий потенциал крупных продаж с большим количеством выбросов, в то время как игры на Xbox One показывают более стабильные средние продажи, но с меньшим максимумом."
   ]
  },
  {
   "cell_type": "markdown",
   "metadata": {},
   "source": [
    "#### Посмотрите, как влияют на продажи внутри одной популярной платформы отзывы пользователей и критиков. Постройте диаграмму рассеяния и посчитайте корреляцию между отзывами и продажами. Сформулируйте выводы."
   ]
  },
  {
   "cell_type": "code",
   "execution_count": 48,
   "metadata": {},
   "outputs": [],
   "source": [
    "ps4 = chosen_platforms.query(\"platform == 'PS4' and user_score!=-100 and critic_score!=-100\")\n",
    "xone = chosen_platforms.query(\"platform == 'XOne' and user_score!=-100 and critic_score!=-100\")\n",
    "x360 = chosen_platforms.query(\"platform == 'X360' and user_score!=-100 and critic_score!=-100\")\n",
    "ds = chosen_platforms.query(\"platform == '3DS' and user_score!=-100 and critic_score!=-100\")\n",
    "ps3 = chosen_platforms.query(\"platform == 'PS3' and user_score!=-100 and critic_score!=-100\")"
   ]
  },
  {
   "cell_type": "markdown",
   "metadata": {
    "id": "5766e785"
   },
   "source": [
    "<div class=\"alert alert-block alert-danger\">\n",
    "<b>❌Комментарий ревьюера:</b> \n",
    "    \n",
    "Одновременная фильтрация заглушек способствует потере части данных. Это может исказить результаты исследования. Если мы исследуем оценки критиков, то нужно только по ним отфильтровывать заглушки(значение -100), если оценки пользователей, то по ним.\n",
    "    \n",
    "Вообще, любые заполнения вызывают искажения при расчете статистик (если забыть их отфильтровать), все основные методы pandas по-умолчанию убирают пропуски при расчетах (среднее, медиана, корреляция и тд). Поэтому их можно не заполнять, чтобы не делать лишних действий и избежать ошибок.\n",
    "    \n",
    "Ниже написал пример того, как отличается объем данных от способа фильтрации.</div>"
   ]
  },
  {
   "cell_type": "markdown",
   "metadata": {},
   "source": [
    "<div class=\"alert alert-block alert-info\">\n",
    "<b>🔄Комментарий студента:</b> \n",
    "    \n",
    "Сделал корректировку, посмотри пожалуйста под твоим кодом\n",
    "</div>"
   ]
  },
  {
   "cell_type": "markdown",
   "id": "6fc02cdb",
   "metadata": {},
   "source": [
    "<div class=\"alert alert-block alert-success\">\n",
    "<b>✅Комментарий ревьюера 2:</b> Отлично, исправлено!👍  </div>"
   ]
  },
  {
   "cell_type": "code",
   "execution_count": 49,
   "metadata": {
    "scrolled": true
   },
   "outputs": [
    {
     "name": "stdout",
     "output_type": "stream",
     "text": [
      "242\n",
      "237\n",
      "234\n"
     ]
    }
   ],
   "source": [
    "# код ревьюера\n",
    "\n",
    "print(chosen_platforms.query(\"platform == 'PS4' and user_score!=-100\").shape[0])\n",
    "print(chosen_platforms.query(\"platform == 'PS4' and critic_score!=-100\").shape[0])\n",
    "print(chosen_platforms.query(\"platform == 'PS4' and user_score!=-100 and critic_score!=-100\").shape[0])"
   ]
  },
  {
   "cell_type": "code",
   "execution_count": 50,
   "metadata": {},
   "outputs": [],
   "source": [
    "ps4_user = chosen_platforms.query(\"platform == 'PS4' and user_score!=-100\")\n",
    "ps4_critic = chosen_platforms.query(\"platform == 'PS4' and critic_score!=-100\")\n",
    "xone_user = chosen_platforms.query(\"platform == 'XOne' and user_score!=-100\")\n",
    "xone_critic = chosen_platforms.query(\"platform == 'XOne' and critic_score!=-100\")"
   ]
  },
  {
   "cell_type": "code",
   "execution_count": 51,
   "metadata": {},
   "outputs": [
    {
     "data": {
      "image/png": "[encoded data removed]",
      "text/plain": [
       "<Figure size 720x360 with 1 Axes>"
      ]
     },
     "metadata": {
      "needs_background": "light"
     },
     "output_type": "display_data"
    },
    {
     "data": {
      "image/png": "[encoded data removed]",
      "text/plain": [
       "<Figure size 720x360 with 1 Axes>"
      ]
     },
     "metadata": {
      "needs_background": "light"
     },
     "output_type": "display_data"
    }
   ],
   "source": [
    "ps4_user.plot(x='user_score', y='total_sales', kind='scatter', title='PS4',figsize=(10, 5), color='blue')\n",
    "plt.title('Влияние пользовательских оценок на общие продажи игр для PS4');\n",
    "plt.xlabel('Пользовательский рейтинг');\n",
    "plt.ylabel('Общие продажи (миллионы копий)');\n",
    "xone_user.plot(x='user_score', y='total_sales', kind='scatter', title='Xbox One',figsize=(10, 5), color='green')\n",
    "plt.title('Зависимость общих продаж игр от пользовательских оценок на Xbox One');\n",
    "plt.xlabel('Пользовательский рейтинг');\n",
    "plt.ylabel('Общие продажи (миллионы копий)');\n",
    "plt.show()"
   ]
  },
  {
   "cell_type": "code",
   "execution_count": 52,
   "metadata": {},
   "outputs": [
    {
     "data": {
      "image/png": "[encoded data removed]",
      "text/plain": [
       "<Figure size 720x360 with 1 Axes>"
      ]
     },
     "metadata": {
      "needs_background": "light"
     },
     "output_type": "display_data"
    },
    {
     "data": {
      "image/png": "[encoded data removed]",
      "text/plain": [
       "<Figure size 720x360 with 1 Axes>"
      ]
     },
     "metadata": {
      "needs_background": "light"
     },
     "output_type": "display_data"
    }
   ],
   "source": [
    "ps4_critic.plot(x='critic_score', y='total_sales', kind='scatter', title='PS4',figsize=(10, 5), color='blue')\n",
    "plt.title('Зависимость общих продаж игр для PS4 от оценок критиков');\n",
    "plt.xlabel('Оценка критиков');\n",
    "plt.ylabel('Общие продажи (миллионы копий)');\n",
    "xone_critic.plot(x='critic_score', y='total_sales', kind='scatter', title='Xbox One',figsize=(10, 5), color='green')\n",
    "plt.title('Влияние оценок критиков на общие продажи игр на Xbox One');\n",
    "plt.xlabel('Оценка критиков');\n",
    "plt.ylabel('Общие продажи (миллионы копий)');\n",
    "plt.show()"
   ]
  },
  {
   "cell_type": "code",
   "execution_count": 53,
   "metadata": {},
   "outputs": [],
   "source": [
    "ps3_user = chosen_platforms.query(\"platform == 'PS3' and user_score!=-100\")\n",
    "ps3_critic = chosen_platforms.query(\"platform == 'PS3' and critic_score!=-100\")\n",
    "ds_user = chosen_platforms.query(\"platform == '3DS' and user_score!=-100\")\n",
    "ds_critic = chosen_platforms.query(\"platform == '3DS' and critic_score!=-100\")\n",
    "x360_user = chosen_platforms.query(\"platform == 'X360' and user_score!=-100\")\n",
    "x360_critic = chosen_platforms.query(\"platform == 'X360' and critic_score!=-100\")"
   ]
  },
  {
   "cell_type": "code",
   "execution_count": 54,
   "metadata": {
    "scrolled": false
   },
   "outputs": [
    {
     "data": {
      "image/png": "[encoded data removed]",
      "text/plain": [
       "<Figure size 720x360 with 1 Axes>"
      ]
     },
     "metadata": {
      "needs_background": "light"
     },
     "output_type": "display_data"
    },
    {
     "data": {
      "image/png": "[encoded data removed]",
      "text/plain": [
       "<Figure size 720x360 with 1 Axes>"
      ]
     },
     "metadata": {
      "needs_background": "light"
     },
     "output_type": "display_data"
    },
    {
     "data": {
      "image/png": "[encoded data removed]",
      "text/plain": [
       "<Figure size 720x360 with 1 Axes>"
      ]
     },
     "metadata": {
      "needs_background": "light"
     },
     "output_type": "display_data"
    }
   ],
   "source": [
    "ps3_user.plot(x='user_score', y='total_sales', kind='scatter', title='PS4',figsize=(10, 5), color='blue')\n",
    "plt.title('Влияние пользовательских оценок на общие продажи игр для PS3');\n",
    "plt.xlabel('Пользовательский рейтинг');\n",
    "plt.ylabel('Общие продажи (миллионы копий)');\n",
    "ds_user.plot(x='user_score', y='total_sales', kind='scatter', title='Xbox One',figsize=(10, 5), color='green')\n",
    "plt.title('Зависимость общих продаж игр от пользовательских оценок на 3DS');\n",
    "plt.xlabel('Пользовательский рейтинг');\n",
    "plt.ylabel('Общие продажи (миллионы копий)');\n",
    "x360_user.plot(x='user_score', y='total_sales', kind='scatter', title='Xbox One',figsize=(10, 5), color='green')\n",
    "plt.title('Зависимость общих продаж игр от пользовательских оценок на Xbox 360');\n",
    "plt.xlabel('Пользовательский рейтинг');\n",
    "plt.ylabel('Общие продажи (миллионы копий)');\n",
    "plt.show()"
   ]
  },
  {
   "cell_type": "code",
   "execution_count": 55,
   "metadata": {},
   "outputs": [
    {
     "data": {
      "image/png": "[encoded data removed]",
      "text/plain": [
       "<Figure size 720x360 with 1 Axes>"
      ]
     },
     "metadata": {
      "needs_background": "light"
     },
     "output_type": "display_data"
    },
    {
     "data": {
      "image/png": "[encoded data removed]",
      "text/plain": [
       "<Figure size 720x360 with 1 Axes>"
      ]
     },
     "metadata": {
      "needs_background": "light"
     },
     "output_type": "display_data"
    },
    {
     "data": {
      "image/png": "[encoded data removed]",
      "text/plain": [
       "<Figure size 720x360 with 1 Axes>"
      ]
     },
     "metadata": {
      "needs_background": "light"
     },
     "output_type": "display_data"
    }
   ],
   "source": [
    "ps3_critic.plot(x='critic_score', y='total_sales', kind='scatter', title='PS4',figsize=(10, 5), color='blue')\n",
    "plt.title('Зависимость общих продаж игр для PS3 от оценок критиков');\n",
    "plt.xlabel('Оценка критиков');\n",
    "plt.ylabel('Общие продажи (миллионы копий)');\n",
    "ds_critic.plot(x='critic_score', y='total_sales', kind='scatter', title='Xbox One',figsize=(10, 5), color='green')\n",
    "plt.title('Влияние оценок критиков на общие продажи игр на 3DS');\n",
    "plt.xlabel('Оценка критиков');\n",
    "plt.ylabel('Общие продажи (миллионы копий)');\n",
    "x360_critic.plot(x='critic_score', y='total_sales', kind='scatter', title='Xbox One',figsize=(10, 5), color='green')\n",
    "plt.title('Влияние оценок критиков на общие продажи игр на Xbox 360');\n",
    "plt.xlabel('Оценка критиков');\n",
    "plt.ylabel('Общие продажи (миллионы копий)');\n",
    "plt.show()"
   ]
  },
  {
   "cell_type": "markdown",
   "metadata": {
    "id": "5766e785"
   },
   "source": [
    "<div class=\"alert alert-block alert-danger\">\n",
    "<b>❌Комментарий ревьюера:</b> \n",
    "    \n",
    " - Оси у графиков тоже должны быть подписаны и на языке проекта, то есть в нашем случае на русском. Читатель исследования может не знать иностранных языков.\n",
    "\n",
    " - Кроме построения распределений нам нужно еще рассчитать коэффициенты корреляции.\n",
    " - Какой вывод можно сделать? Зависят ли продажи от оценок пользователей и критиков? Чтобы сделать итоговый вывод, нам нужно рассмотреть еще как минимум 3 платформы подобным образом. Так как код будет повторяться, его можно выполнять в цикле или написать небольшую функцию.</div>"
   ]
  },
  {
   "cell_type": "markdown",
   "id": "6fc02cdb",
   "metadata": {},
   "source": [
    "<div class=\"alert alert-block alert-success\">\n",
    "<b>✅Комментарий ревьюера 2:</b> Отлично, исправлено!👍  </div>"
   ]
  },
  {
   "cell_type": "markdown",
   "metadata": {},
   "source": [
    "Кроме построения распределений нам нужно еще рассчитать коэффициенты корреляции"
   ]
  },
  {
   "cell_type": "code",
   "execution_count": 56,
   "metadata": {},
   "outputs": [
    {
     "data": {
      "text/html": [
       "<div>\n",
       "<style scoped>\n",
       "    .dataframe tbody tr th:only-of-type {\n",
       "        vertical-align: middle;\n",
       "    }\n",
       "\n",
       "    .dataframe tbody tr th {\n",
       "        vertical-align: top;\n",
       "    }\n",
       "\n",
       "    .dataframe thead th {\n",
       "        text-align: right;\n",
       "    }\n",
       "</style>\n",
       "<table border=\"1\" class=\"dataframe\">\n",
       "  <thead>\n",
       "    <tr style=\"text-align: right;\">\n",
       "      <th></th>\n",
       "      <th>user_score</th>\n",
       "      <th>critic_score</th>\n",
       "      <th>total_sales</th>\n",
       "    </tr>\n",
       "  </thead>\n",
       "  <tbody>\n",
       "    <tr>\n",
       "      <th>user_score</th>\n",
       "      <td>1.000000</td>\n",
       "      <td>0.546434</td>\n",
       "      <td>-0.052254</td>\n",
       "    </tr>\n",
       "    <tr>\n",
       "      <th>critic_score</th>\n",
       "      <td>0.546434</td>\n",
       "      <td>1.000000</td>\n",
       "      <td>0.384253</td>\n",
       "    </tr>\n",
       "    <tr>\n",
       "      <th>total_sales</th>\n",
       "      <td>-0.052254</td>\n",
       "      <td>0.384253</td>\n",
       "      <td>1.000000</td>\n",
       "    </tr>\n",
       "  </tbody>\n",
       "</table>\n",
       "</div>"
      ],
      "text/plain": [
       "              user_score  critic_score  total_sales\n",
       "user_score      1.000000      0.546434    -0.052254\n",
       "critic_score    0.546434      1.000000     0.384253\n",
       "total_sales    -0.052254      0.384253     1.000000"
      ]
     },
     "execution_count": 56,
     "metadata": {},
     "output_type": "execute_result"
    }
   ],
   "source": [
    "ps4[['user_score', 'critic_score', 'total_sales']].corr()"
   ]
  },
  {
   "cell_type": "code",
   "execution_count": 57,
   "metadata": {},
   "outputs": [
    {
     "data": {
      "text/html": [
       "<div>\n",
       "<style scoped>\n",
       "    .dataframe tbody tr th:only-of-type {\n",
       "        vertical-align: middle;\n",
       "    }\n",
       "\n",
       "    .dataframe tbody tr th {\n",
       "        vertical-align: top;\n",
       "    }\n",
       "\n",
       "    .dataframe thead th {\n",
       "        text-align: right;\n",
       "    }\n",
       "</style>\n",
       "<table border=\"1\" class=\"dataframe\">\n",
       "  <thead>\n",
       "    <tr style=\"text-align: right;\">\n",
       "      <th></th>\n",
       "      <th>user_score</th>\n",
       "      <th>critic_score</th>\n",
       "      <th>total_sales</th>\n",
       "    </tr>\n",
       "  </thead>\n",
       "  <tbody>\n",
       "    <tr>\n",
       "      <th>user_score</th>\n",
       "      <td>1.000000</td>\n",
       "      <td>0.440977</td>\n",
       "      <td>-0.091116</td>\n",
       "    </tr>\n",
       "    <tr>\n",
       "      <th>critic_score</th>\n",
       "      <td>0.440977</td>\n",
       "      <td>1.000000</td>\n",
       "      <td>0.421881</td>\n",
       "    </tr>\n",
       "    <tr>\n",
       "      <th>total_sales</th>\n",
       "      <td>-0.091116</td>\n",
       "      <td>0.421881</td>\n",
       "      <td>1.000000</td>\n",
       "    </tr>\n",
       "  </tbody>\n",
       "</table>\n",
       "</div>"
      ],
      "text/plain": [
       "              user_score  critic_score  total_sales\n",
       "user_score      1.000000      0.440977    -0.091116\n",
       "critic_score    0.440977      1.000000     0.421881\n",
       "total_sales    -0.091116      0.421881     1.000000"
      ]
     },
     "execution_count": 57,
     "metadata": {},
     "output_type": "execute_result"
    }
   ],
   "source": [
    "xone[['user_score', 'critic_score', 'total_sales']].corr()"
   ]
  },
  {
   "cell_type": "markdown",
   "metadata": {},
   "source": [
    "Из анализа коэффициентов корреляции для платформ PS4 и Xbox One:\n",
    "\n",
    "- Оценки пользователей не показывают значительной связи с продажами на обеих платформах.\n",
    "- Оценки критиков имеют слабую положительную связь с продажами, но их влияние не является сильным."
   ]
  },
  {
   "cell_type": "code",
   "execution_count": 58,
   "metadata": {},
   "outputs": [
    {
     "data": {
      "text/html": [
       "<div>\n",
       "<style scoped>\n",
       "    .dataframe tbody tr th:only-of-type {\n",
       "        vertical-align: middle;\n",
       "    }\n",
       "\n",
       "    .dataframe tbody tr th {\n",
       "        vertical-align: top;\n",
       "    }\n",
       "\n",
       "    .dataframe thead th {\n",
       "        text-align: right;\n",
       "    }\n",
       "</style>\n",
       "<table border=\"1\" class=\"dataframe\">\n",
       "  <thead>\n",
       "    <tr style=\"text-align: right;\">\n",
       "      <th></th>\n",
       "      <th>user_score</th>\n",
       "      <th>critic_score</th>\n",
       "      <th>total_sales</th>\n",
       "    </tr>\n",
       "  </thead>\n",
       "  <tbody>\n",
       "    <tr>\n",
       "      <th>user_score</th>\n",
       "      <td>1.000000</td>\n",
       "      <td>0.625309</td>\n",
       "      <td>0.334478</td>\n",
       "    </tr>\n",
       "    <tr>\n",
       "      <th>critic_score</th>\n",
       "      <td>0.625309</td>\n",
       "      <td>1.000000</td>\n",
       "      <td>0.511123</td>\n",
       "    </tr>\n",
       "    <tr>\n",
       "      <th>total_sales</th>\n",
       "      <td>0.334478</td>\n",
       "      <td>0.511123</td>\n",
       "      <td>1.000000</td>\n",
       "    </tr>\n",
       "  </tbody>\n",
       "</table>\n",
       "</div>"
      ],
      "text/plain": [
       "              user_score  critic_score  total_sales\n",
       "user_score      1.000000      0.625309     0.334478\n",
       "critic_score    0.625309      1.000000     0.511123\n",
       "total_sales     0.334478      0.511123     1.000000"
      ]
     },
     "execution_count": 58,
     "metadata": {},
     "output_type": "execute_result"
    }
   ],
   "source": [
    "x360[['user_score', 'critic_score', 'total_sales']].corr()"
   ]
  },
  {
   "cell_type": "code",
   "execution_count": 59,
   "metadata": {},
   "outputs": [
    {
     "data": {
      "text/html": [
       "<div>\n",
       "<style scoped>\n",
       "    .dataframe tbody tr th:only-of-type {\n",
       "        vertical-align: middle;\n",
       "    }\n",
       "\n",
       "    .dataframe tbody tr th {\n",
       "        vertical-align: top;\n",
       "    }\n",
       "\n",
       "    .dataframe thead th {\n",
       "        text-align: right;\n",
       "    }\n",
       "</style>\n",
       "<table border=\"1\" class=\"dataframe\">\n",
       "  <thead>\n",
       "    <tr style=\"text-align: right;\">\n",
       "      <th></th>\n",
       "      <th>user_score</th>\n",
       "      <th>critic_score</th>\n",
       "      <th>total_sales</th>\n",
       "    </tr>\n",
       "  </thead>\n",
       "  <tbody>\n",
       "    <tr>\n",
       "      <th>user_score</th>\n",
       "      <td>1.000000</td>\n",
       "      <td>0.862485</td>\n",
       "      <td>0.260692</td>\n",
       "    </tr>\n",
       "    <tr>\n",
       "      <th>critic_score</th>\n",
       "      <td>0.862485</td>\n",
       "      <td>1.000000</td>\n",
       "      <td>0.263318</td>\n",
       "    </tr>\n",
       "    <tr>\n",
       "      <th>total_sales</th>\n",
       "      <td>0.260692</td>\n",
       "      <td>0.263318</td>\n",
       "      <td>1.000000</td>\n",
       "    </tr>\n",
       "  </tbody>\n",
       "</table>\n",
       "</div>"
      ],
      "text/plain": [
       "              user_score  critic_score  total_sales\n",
       "user_score      1.000000      0.862485     0.260692\n",
       "critic_score    0.862485      1.000000     0.263318\n",
       "total_sales     0.260692      0.263318     1.000000"
      ]
     },
     "execution_count": 59,
     "metadata": {},
     "output_type": "execute_result"
    }
   ],
   "source": [
    "ds[['user_score', 'critic_score', 'total_sales']].corr()"
   ]
  },
  {
   "cell_type": "code",
   "execution_count": 60,
   "metadata": {
    "scrolled": true
   },
   "outputs": [
    {
     "data": {
      "text/html": [
       "<div>\n",
       "<style scoped>\n",
       "    .dataframe tbody tr th:only-of-type {\n",
       "        vertical-align: middle;\n",
       "    }\n",
       "\n",
       "    .dataframe tbody tr th {\n",
       "        vertical-align: top;\n",
       "    }\n",
       "\n",
       "    .dataframe thead th {\n",
       "        text-align: right;\n",
       "    }\n",
       "</style>\n",
       "<table border=\"1\" class=\"dataframe\">\n",
       "  <thead>\n",
       "    <tr style=\"text-align: right;\">\n",
       "      <th></th>\n",
       "      <th>user_score</th>\n",
       "      <th>critic_score</th>\n",
       "      <th>total_sales</th>\n",
       "    </tr>\n",
       "  </thead>\n",
       "  <tbody>\n",
       "    <tr>\n",
       "      <th>user_score</th>\n",
       "      <td>1.000000</td>\n",
       "      <td>0.693445</td>\n",
       "      <td>0.113568</td>\n",
       "    </tr>\n",
       "    <tr>\n",
       "      <th>critic_score</th>\n",
       "      <td>0.693445</td>\n",
       "      <td>1.000000</td>\n",
       "      <td>0.406851</td>\n",
       "    </tr>\n",
       "    <tr>\n",
       "      <th>total_sales</th>\n",
       "      <td>0.113568</td>\n",
       "      <td>0.406851</td>\n",
       "      <td>1.000000</td>\n",
       "    </tr>\n",
       "  </tbody>\n",
       "</table>\n",
       "</div>"
      ],
      "text/plain": [
       "              user_score  critic_score  total_sales\n",
       "user_score      1.000000      0.693445     0.113568\n",
       "critic_score    0.693445      1.000000     0.406851\n",
       "total_sales     0.113568      0.406851     1.000000"
      ]
     },
     "execution_count": 60,
     "metadata": {},
     "output_type": "execute_result"
    }
   ],
   "source": [
    "ps3[['user_score', 'critic_score', 'total_sales']].corr()"
   ]
  },
  {
   "cell_type": "markdown",
   "metadata": {},
   "source": [
    "На основе предоставленных данных и графиков можно сделать следующие выводы относительно взаимосвязи между оценками пользователей, оценками критиков и общими продажами игр на различных платформах:\n",
    "\n",
    " - Оценки пользователей: По большинству платформ коэффициенты корреляции между оценками пользователей и общими продажами остаются низкими. Это указывает на слабую или отсутствующую взаимосвязь между удовлетворённостью пользователей (как они оценивают игры) и объёмами продаж. Следовательно, продажи игр не зависят напрямую от пользовательских оценок.\n",
    "\n",
    "\n",
    "\n",
    " - Оценки критиков: Взаимосвязь между оценками критиков и продажами игр выглядит более значительной, особенно на таких платформах, как PS4 и Xbox One. Это указывает на то, что игры, получившие высокие оценки от критиков, склонны к более высоким продажам. Однако даже в этом случае коэффициенты корреляции не настолько высоки, чтобы говорить о сильной зависимости; связь есть, но она не является определяющим фактором продаж.\n",
    "\n",
    "Таким образом, можно сделать вывод, что хотя оценки критиков и могут оказывать некоторое влияние на продажи игр, особенно на популярных консолях, продажи игр в целом не зависят сильно от оценок пользователей. "
   ]
  },
  {
   "cell_type": "markdown",
   "metadata": {},
   "source": [
    "#### Посмотрите на общее распределение игр по жанрам. Что можно сказать о самых прибыльных жанрах? Выделяются ли жанры с высокими и низкими продажами?"
   ]
  },
  {
   "cell_type": "code",
   "execution_count": 61,
   "metadata": {},
   "outputs": [
    {
     "data": {
      "image/png": "[encoded data removed]",
      "text/plain": [
       "<Figure size 720x360 with 1 Axes>"
      ]
     },
     "metadata": {
      "needs_background": "light"
     },
     "output_type": "display_data"
    }
   ],
   "source": [
    "chosen_platforms.pivot_table(index='genre', values='total_sales', aggfunc='median').sort_values('total_sales', ascending=False).plot(kind='bar', y='total_sales', figsize=(10, 5), legend=False,title = 'Лучшие платформы').set(xlabel='Жанр', ylabel='Медианные значения продаж')\n",
    "\n",
    "plt.show()"
   ]
  },
  {
   "cell_type": "markdown",
   "metadata": {
    "id": "5766e785"
   },
   "source": [
    "<div class=\"alert alert-block alert-danger\">\n",
    "<b>❌Комментарий ревьюера:</b> \n",
    "    \n",
    "Прибыльные жанры нужно определять тоже по всему актуальному периоду. Лучше рассматривать медианные значения продаж, они являются наиболее объективным показателем прибыльности, так как менее подвержены влиянию выбросов (а в игровой индустрии их достаточно много за счет продаж очень популярных и хитовых игр)</div>"
   ]
  },
  {
   "cell_type": "markdown",
   "id": "6fc02cdb",
   "metadata": {},
   "source": [
    "<div class=\"alert alert-block alert-success\">\n",
    "<b>✅Комментарий ревьюера 2:</b> Отлично, исправлено!👍  </div>"
   ]
  },
  {
   "cell_type": "markdown",
   "metadata": {},
   "source": [
    "<div class=\"alert alert-block alert-info\">\n",
    "<b>🔄Комментарий студента:</b> \n",
    "    \n",
    "Сделал корректировку\n",
    "</div>"
   ]
  },
  {
   "cell_type": "markdown",
   "metadata": {},
   "source": [
    "Самыми прибыльными жанрами являются шутеры и спортивные игры, в то время как головоломки и стратегии показывают самые низкие продажи."
   ]
  },
  {
   "cell_type": "markdown",
   "metadata": {},
   "source": [
    "### Шаг 4. Составьте портрет пользователя каждого региона"
   ]
  },
  {
   "cell_type": "markdown",
   "metadata": {},
   "source": [
    "Определите для пользователя каждого региона (NA, EU, JP):"
   ]
  },
  {
   "cell_type": "markdown",
   "metadata": {},
   "source": [
    "#### Самые популярные платформы (топ-5). Опишите различия в долях продаж."
   ]
  },
  {
   "cell_type": "code",
   "execution_count": 62,
   "metadata": {},
   "outputs": [],
   "source": [
    "regions = ['na_sales', 'eu_sales', 'jp_sales']"
   ]
  },
  {
   "cell_type": "code",
   "execution_count": 63,
   "metadata": {},
   "outputs": [
    {
     "data": {
      "image/png": "[encoded data removed]",
      "text/plain": [
       "<Figure size 1368x504 with 3 Axes>"
      ]
     },
     "metadata": {},
     "output_type": "display_data"
    }
   ],
   "source": [
    "fig, axes = plt.subplots(nrows=1, ncols=3, figsize=(19, 7))\n",
    "for idx, region in enumerate(regions):\n",
    "    (games_actual.pivot_table(index='platform', values=region, aggfunc='sum')\n",
    "                .sort_values(region, ascending=False).head(5)\n",
    "                .plot(kind='pie', y=region, autopct='%1.0f%%', ax=axes[idx],  legend=False, title = region)\n",
    "                .set(ylabel='Продажи')\n",
    "    )\n",
    "    \n",
    "plt.show()"
   ]
  },
  {
   "cell_type": "markdown",
   "metadata": {},
   "source": [
    "<div class=\"alert alert-block alert-warning\">\n",
    "<b>🔁Комментарий ревьюера:</b> \n",
    "    \n",
    " - Все три диаграммы можно расположить рядом друг с другом, если предварительно построить для них фигуру с помощью \n",
    "    \n",
    "`fig, axs = plt.subplots(1, 3, figsize=(19, 7))`\n",
    "\n",
    " - Значения долей для каждой из топовых платформ корректнее считать от всех продаж в регионе, а не только среди топ-5.</div>"
   ]
  },
  {
   "cell_type": "markdown",
   "metadata": {},
   "source": [
    "В Европе и Северной Америке наибольшей популярностью пользуются консоли PS и Xbox. В то же время, в Японии лидером среди игровых платформ с долей рынка в 47% является портативная консоль 3DS."
   ]
  },
  {
   "cell_type": "markdown",
   "metadata": {},
   "source": [
    "#### Самые популярные жанры (топ-5). Поясните разницу."
   ]
  },
  {
   "cell_type": "code",
   "execution_count": 64,
   "metadata": {},
   "outputs": [
    {
     "data": {
      "image/png": "[encoded data removed]",
      "text/plain": [
       "<Figure size 1368x504 with 3 Axes>"
      ]
     },
     "metadata": {},
     "output_type": "display_data"
    }
   ],
   "source": [
    "fig, axes = plt.subplots(nrows=1, ncols=3, figsize=(19, 7))\n",
    "for idx, region in enumerate(regions):\n",
    "    (games_actual.pivot_table(index='genre', values=region, aggfunc='sum')\n",
    "                .sort_values(region, ascending=False).head(5)\n",
    "                .plot(kind='pie', y=region, autopct='%1.0f%%', ax=axes[idx], legend=False, title = region)\n",
    "                .set(ylabel='Продажи')\n",
    "    )\n",
    "plt.show()"
   ]
  },
  {
   "cell_type": "markdown",
   "metadata": {},
   "source": [
    "В Северной Америке и Европе наиболее популярными жанрами являются Action, Shooter и Sports. В Японии же лидируют Role-Playing игры, а жанры Action и Misc также популярны."
   ]
  },
  {
   "cell_type": "markdown",
   "metadata": {},
   "source": [
    "#### Влияет ли рейтинг ESRB на продажи в отдельном регионе?"
   ]
  },
  {
   "cell_type": "code",
   "execution_count": 65,
   "metadata": {
    "scrolled": false
   },
   "outputs": [
    {
     "data": {
      "image/png": "[encoded data removed]",
      "text/plain": [
       "<Figure size 1368x504 with 3 Axes>"
      ]
     },
     "metadata": {},
     "output_type": "display_data"
    }
   ],
   "source": [
    "fig, axes = plt.subplots(nrows=1, ncols=3, figsize=(19, 7))\n",
    "for idx, region in enumerate(regions):\n",
    "    (games_actual.pivot_table(index='rating', values=region, aggfunc='sum')\n",
    "                .sort_values(region, ascending=False).head(5)\n",
    "                .plot(kind='pie', y=region, autopct='%1.0f%%', ax=axes[idx], legend=False, title = region)\n",
    "                .set(ylabel='Продажи')\n",
    "    )\n",
    "plt.show()"
   ]
  },
  {
   "cell_type": "markdown",
   "metadata": {},
   "source": [
    "В Европе и Америке лучше всего продаются игры для взрослых аудиторий и игры без возрастных ограничений. В Японии высокий уровень продаж у игр без указанного рейтинга и игр, подходящих для всех возрастов."
   ]
  },
  {
   "cell_type": "markdown",
   "metadata": {},
   "source": [
    "<div class=\"alert alert-block alert-warning\">\n",
    "<b>🔁Комментарий ревьюера:</b>\n",
    "\n",
    "Как ты думаешь, почему в Японии большинство игр не имеют рейтинга ESRB?</div>"
   ]
  },
  {
   "cell_type": "markdown",
   "id": "6fc02cdb",
   "metadata": {},
   "source": [
    "<div class=\"alert alert-block alert-success\">\n",
    "<b>✅Комментарий ревьюера 2:</b> Отлично, исправлено!👍  </div>"
   ]
  },
  {
   "cell_type": "markdown",
   "metadata": {},
   "source": [
    "Большинство игр в Японии не имеют рейтинга ESRB (Entertainment Software Rating Board), поскольку ESRB является системой рейтинга, используемой в основном в Северной Америке. В Японии для классификации видеоигр по возрастным категориям используется собственная система рейтингов — CERO (Computer Entertainment Rating Organization).\n",
    "\n",
    "Эта система адаптирована к культурным особенностям и нормам, принятым в Японии, и может отличаться от стандартов, используемых в Северной Америке."
   ]
  },
  {
   "cell_type": "markdown",
   "metadata": {},
   "source": [
    "### Шаг 5. Проверьте гипотезы"
   ]
  },
  {
   "cell_type": "markdown",
   "metadata": {},
   "source": [
    "#### Средние пользовательские рейтинги платформ Xbox One и PC одинаковые;"
   ]
  },
  {
   "cell_type": "markdown",
   "metadata": {},
   "source": [
    "H_0: Средние пользовательские рейтинги платформ Xbox One и PC одинаковые.\n",
    "\n",
    "\n",
    "H_1: Средние пользовательские рейтинги платформ Xbox One и PC различаются."
   ]
  },
  {
   "cell_type": "markdown",
   "metadata": {},
   "source": [
    "<div class=\"alert alert-block alert-success\">\n",
    "<b>✅Комментарий ревьюера:</b> Здорово, что формулируешь гипотезы перед проверкой </div>"
   ]
  },
  {
   "cell_type": "code",
   "execution_count": 66,
   "metadata": {},
   "outputs": [
    {
     "name": "stdout",
     "output_type": "stream",
     "text": [
      "Дисперсия xone 1.8795460055096425\n",
      "Дисперсия pc 2.8773743617307175\n"
     ]
    }
   ],
   "source": [
    "xone = games_actual.query(\"platform == 'XOne' and user_score != -100\")\n",
    "pc = games_actual.query(\"platform == 'PC' and user_score != -100\")\n",
    "\n",
    "print(\"Дисперсия xone\",np.var(xone['user_score']))\n",
    "print(\"Дисперсия pc\",np.var(pc['user_score']))"
   ]
  },
  {
   "cell_type": "code",
   "execution_count": 67,
   "metadata": {},
   "outputs": [
    {
     "name": "stdout",
     "output_type": "stream",
     "text": [
      "p-значение: 0.11601398086668832\n",
      "Не получилось отвергнуть нулевую гипотезу\n"
     ]
    }
   ],
   "source": [
    "alpha = 0.05\n",
    "results = st.ttest_ind(xone['user_score'],pc['user_score'],equal_var=False)\n",
    "print('p-значение:', results.pvalue)\n",
    "\n",
    "if (results.pvalue < alpha):\n",
    "    print(\"Отвергаем нулевую гипотезу\")\n",
    "else:\n",
    "    print(\"Не получилось отвергнуть нулевую гипотезу\")"
   ]
  },
  {
   "cell_type": "code",
   "execution_count": 68,
   "metadata": {},
   "outputs": [
    {
     "name": "stdout",
     "output_type": "stream",
     "text": [
      "6.298360655737705\n",
      "6.594545454545456\n"
     ]
    }
   ],
   "source": [
    "print(pc['user_score'].mean())\n",
    "print(xone['user_score'].mean())"
   ]
  },
  {
   "cell_type": "markdown",
   "metadata": {},
   "source": [
    "Полученное значение p-value указывает на то, что, несмотря на небольшое различие в средних рейтингах платформ Xbox One и PC, существует вероятность около 66%, что это различие могло произойти случайно. Такая вероятность считается высокой, что не позволяет утверждать о наличии значимой разницы между рейтингами этих платформ. Следовательно, можно заключить, что рейтинги платформ Xbox One и PC схожи, подтверждая нашу гипотезу."
   ]
  },
  {
   "cell_type": "markdown",
   "metadata": {},
   "source": [
    "#### Средние пользовательские рейтинги жанров Action (англ. «действие», экшен-игры) и Sports (англ. «спортивные соревнования») разные."
   ]
  },
  {
   "cell_type": "markdown",
   "metadata": {},
   "source": [
    "H_0: Средние пользовательские рейтинги жанров Action и Sports одинаковые.\n",
    "\n",
    "\n",
    "H_1: Средние пользовательские рейтинги жанров Action и Sports различаются."
   ]
  },
  {
   "cell_type": "code",
   "execution_count": 69,
   "metadata": {},
   "outputs": [
    {
     "name": "stdout",
     "output_type": "stream",
     "text": [
      "Дисперсия action 1.89208448117539\n",
      "Дисперсия sport 3.4198375596751185\n"
     ]
    }
   ],
   "source": [
    "action = games_actual.query(\"genre == 'Action' and user_score != -100\")\n",
    "sport = games_actual.query(\"genre == 'Sports' and user_score != -100\")\n",
    "\n",
    "print(\"Дисперсия action\",np.var(action['user_score']))\n",
    "print(\"Дисперсия sport\",np.var(sport['user_score']))"
   ]
  },
  {
   "cell_type": "code",
   "execution_count": 70,
   "metadata": {},
   "outputs": [
    {
     "name": "stdout",
     "output_type": "stream",
     "text": [
      "p-значение: 1.1825550382644557e-14\n",
      "Отвергаем нулевую гипотезу\n"
     ]
    }
   ],
   "source": [
    "alpha = 0.05\n",
    "results = st.ttest_ind(action['user_score'],sport['user_score'],equal_var=False)\n",
    "print('p-значение:', results.pvalue)\n",
    "\n",
    "if (results.pvalue < alpha):\n",
    "    print(\"Отвергаем нулевую гипотезу\")\n",
    "else:\n",
    "    print(\"Не получилось отвергнуть нулевую гипотезу\")"
   ]
  },
  {
   "cell_type": "code",
   "execution_count": 71,
   "metadata": {},
   "outputs": [
    {
     "name": "stdout",
     "output_type": "stream",
     "text": [
      "5.2251968503937\n"
     ]
    },
    {
     "data": {
      "text/plain": [
       "6.760606060606061"
      ]
     },
     "execution_count": 71,
     "metadata": {},
     "output_type": "execute_result"
    }
   ],
   "source": [
    "print(sport['user_score'].mean())\n",
    "action['user_score'].mean()"
   ]
  },
  {
   "cell_type": "markdown",
   "metadata": {},
   "source": [
    "Существует разница между средними пользовательскими рейтингами жанров Action и Sports. Шанс случайно наблюдать такое различие чрезвычайно низок. Таким образом, можно выдвинуть предположение, что средние пользовательские рейтинги для этих жанров действительно различны, что соответствует нашей гипотезе."
   ]
  },
  {
   "cell_type": "markdown",
   "id": "60378622",
   "metadata": {},
   "source": [
    "<div class=\"alert alert-block alert-success\">\n",
    "<b>✅Комментарий ревьюера 2:</b> \n",
    "    \n",
    "Вывод можно сформулировать так:\n",
    "\n",
    "    С большой долей вероятности средние пользовательские рейтинги жанров Action и Sports имеют статистически значимые отличия\n",
    "\n",
    "</div>"
   ]
  },
  {
   "cell_type": "markdown",
   "metadata": {},
   "source": [
    "<div class=\"alert alert-block alert-warning\">\n",
    "<b>🔁Комментарий ревьюера:</b>\n",
    "\n",
    "Важно понимать, что результаты проверки гипотезы не всегда являются окончательными и могут быть подвержены ошибкам. Поэтому **подтверждать** что-либо с полной уверенностью мы не можем. </div>"
   ]
  },
  {
   "cell_type": "markdown",
   "id": "6fc02cdb",
   "metadata": {},
   "source": [
    "<div class=\"alert alert-block alert-success\">\n",
    "<b>✅Комментарий ревьюера 2:</b> Отлично, исправлено!👍  </div>"
   ]
  },
  {
   "cell_type": "markdown",
   "metadata": {},
   "source": [
    "<div class=\"alert alert-block alert-info\">\n",
    "<b>🔄Комментарий студента:</b> \n",
    "    \n",
    "Сделал корректировку\n",
    "</div>"
   ]
  },
  {
   "cell_type": "markdown",
   "metadata": {},
   "source": [
    "<div class=\"alert alert-block alert-success\">\n",
    "<b>✅Комментарий ревьюера:</b> Гипотезы верно проработаны! </div>"
   ]
  },
  {
   "cell_type": "markdown",
   "metadata": {},
   "source": [
    "### Шаг 6. Напишите общий вывод"
   ]
  },
  {
   "cell_type": "markdown",
   "metadata": {},
   "source": [
    "Проект разделен на несколько логических этапов:\n",
    "\n",
    "1. **Введение и описание проекта**  Задача проекта – выявить закономерности, определяющие успешность игры, чтобы спланировать рекламные кампании.\n",
    "\n",
    "\n",
    "\n",
    "2. **Описание данных**: Доступны исторические данные о продажах игр, оценках пользователей и экспертов, жанрах и платформах. Также присутствует информация о возрастном рейтинге от ESRB.\n",
    "\n",
    "\n",
    "\n",
    "3. **Подготовка данных**: Предобработка данных. Включает в себя замену названий столбцов, преобразование данных в нужные типы, и обработку пропусков. Особое внимание уделено колонкам \"year_of_release\" и \"user_score\", где типы данных были изменены на целочисленный и вещественный соответственно.\n",
    "\n",
    "\n",
    "\n",
    "4. **Обработка пропусков**: Обнаружены пропуски в различных столбцах данных. Особенно много пропусков было в столбцах, связанных с оценками игр и их возрастным рейтингом. Принято решение удалить строки с отсутствующими названиями и жанрами, так как они составляли малую часть датасета. Для столбца с годами выпуска принято такое же решение. Для столбцов с оценками пользователей и критиков было выбрано заполнение специальным флагом, что позволило сохранить информацию о наличии пропусков.\n",
    "\n",
    "\n",
    "\n",
    "5. **Расчет суммарных продаж**: Добавление в датасет нового столбца, отражающего суммарные продажи игр во всех регионах, что позволит оценить общий коммерческий успех игр.\n",
    "\n",
    "\n",
    "\n",
    "6. **Исследовательский анализ данных**: Анализ распределения количества выпускаемых игр по годам показал рост индустрии с 1980-х до середины 2000-х, за которым последовал спад. Особое внимание на изменения в рыночных тенденциях и технологиях, что важно учитывать при планировании рекламных кампаний.\n",
    "\n",
    "\n",
    "\n",
    "7. **Анализ продаж по платформам**: Определили, что жизненный цикл игровых платформ составляет около 10-12 лет, при этом пик популярности наступает через 4-6 лет после их появления. Выбрав актуальный период для анализа (последние 4 года), мы определили, что платформы PS4 и Xbox One находятся на стадии роста и могут быть потенциально прибыльными.\n",
    "\n",
    "\n",
    "\n",
    "8. **Выбор потенциально прибыльных платформ**: Платформы PS4 и Xbox One выделяются как наиболее перспективные для роста продаж. В то же время, платформы PS3, X360 и 3DS показывают снижение продаж, а PC сохраняет стабильность.\n",
    "\n",
    "\n",
    "\n",
    "9. **Анализ влияния отзывов на продажи**: Анализ показывает, что отзывы критиков могут оказывать большее влияние на продажи, чем отзывы пользователей, особенно внутри популярных платформ.\n",
    "\n",
    "\n",
    "\n",
    "10. **Исследование жанров**: Выяснили, что шутеры являются одним из самых прибыльных жанров, что может указывать на предпочтения целевой аудитории и актуальные тенденции рынка.\n",
    "\n",
    "\n",
    "\n",
    "11. **Портрет пользователя каждого региона**: Определили, что в Европе и Северной Америке доминируют консоли PS и Xbox, в то время как в Японии предпочтение отдаётся портативным консолям, например, 3DS. Выявлены различия в популярности жанров: в Америке и Европе лидируют Action, Shooter и Sports, тогда как в Японии — Role-Playing. Кроме того, было установлено, что рейтинг ESRB влияет на продажи в разных регионах.\n",
    "\n",
    "\n",
    "\n",
    "12. **Проверка гипотез**: Проверены две гипотезы. Первая — что средние пользовательские рейтинги платформ Xbox One и PC одинаковые. Вторая — что средние пользовательские рейтинги жанров Action и Sports различаются. Результаты проверки показали, что средние пользовательские рейтинги платформ Xbox One и PC действительно схожи, а рейтинги жанров Action и Sports — различаются.\n",
    "\n",
    "### Общий вывод:\n",
    "\n",
    "Проект предоставил ценную информацию для интернет-магазина «Стримчик» для планирования рекламных кампаний. Мы выявили ключевые факторы, влияющие на успешность игр, включая предпочтения пользователей по жанрам и платформам, а также важность возрастного рейтинга ESRB. Эти выводы позволяют целевым образом подходить к выбору игр для различных регионов и аудиторий, а также формировать предложения, которые будут соответствовать запросам и ожиданиям потенциальных покупателей. \n",
    "\n",
    "Рекомендации для магазина включают сфокусироваться на продвижении новых игровых платформ, таких как PS4 и Xbox One, а также обратить внимание на жанры с высоким потенциалом продаж, такие как шутеры и спортивные игры, особенно в регионах Северной Америки и Европы. В то же время, для японского рынка следует уделить больше внимания портативным консолям и жанрам, популярным в этом регионе, таким как Role-Playing."
   ]
  },
  {
   "cell_type": "markdown",
   "metadata": {},
   "source": [
    "<div class=\"alert alert-block alert-success\">\n",
    "<b>✅Комментарий ревьюера:</b> \n",
    "\n",
    "\n",
    "Хороший итоговый вывод! Молодец, что не забыл дать рекомендации на 2017 год.\n",
    "\n",
    "\n",
    "    \n",
    "**Хочу обратить твое внимание на то, что после исправления замечаний в некоторых пунктах исследования могут измениться результаты, поэтому нужно будет подкорректировать выводы.**\n",
    "</div>"
   ]
  },
  {
   "cell_type": "code",
   "execution_count": null,
   "metadata": {},
   "outputs": [],
   "source": []
  }
 ],
 "metadata": {
  "ExecuteTimeLog": [
   {
    "duration": 3,
    "start_time": "2024-03-24T21:51:32.709Z"
   },
   {
    "duration": 1193,
    "start_time": "2024-03-24T21:53:02.606Z"
   },
   {
    "duration": 102,
    "start_time": "2024-03-24T21:53:07.994Z"
   },
   {
    "duration": 14,
    "start_time": "2024-03-24T21:56:03.600Z"
   },
   {
    "duration": 14,
    "start_time": "2024-03-24T22:12:49.912Z"
   },
   {
    "duration": 354,
    "start_time": "2024-03-24T22:18:57.634Z"
   },
   {
    "duration": 2,
    "start_time": "2024-03-24T22:19:19.440Z"
   },
   {
    "duration": 5,
    "start_time": "2024-03-24T22:19:31.778Z"
   },
   {
    "duration": 7,
    "start_time": "2024-03-24T22:19:48.337Z"
   },
   {
    "duration": 12,
    "start_time": "2024-03-24T22:19:56.460Z"
   },
   {
    "duration": 852,
    "start_time": "2024-03-24T22:38:48.887Z"
   },
   {
    "duration": 11,
    "start_time": "2024-03-24T22:39:12.065Z"
   },
   {
    "duration": 11,
    "start_time": "2024-03-24T22:39:59.741Z"
   },
   {
    "duration": 15,
    "start_time": "2024-03-24T22:40:11.129Z"
   },
   {
    "duration": 3,
    "start_time": "2024-03-24T22:40:20.732Z"
   },
   {
    "duration": 7,
    "start_time": "2024-03-24T22:59:53.236Z"
   },
   {
    "duration": 5,
    "start_time": "2024-03-24T23:09:54.905Z"
   },
   {
    "duration": 5,
    "start_time": "2024-03-24T23:14:53.265Z"
   },
   {
    "duration": 7,
    "start_time": "2024-03-24T23:22:32.850Z"
   },
   {
    "duration": 14,
    "start_time": "2024-03-24T23:22:42.594Z"
   },
   {
    "duration": 6,
    "start_time": "2024-03-24T23:22:54.383Z"
   },
   {
    "duration": 49,
    "start_time": "2024-03-24T23:24:56.992Z"
   },
   {
    "duration": 12,
    "start_time": "2024-03-25T00:24:24.900Z"
   },
   {
    "duration": 9,
    "start_time": "2024-03-25T00:24:29.710Z"
   },
   {
    "duration": 12,
    "start_time": "2024-03-25T00:28:03.147Z"
   },
   {
    "duration": 18,
    "start_time": "2024-03-25T00:30:28.100Z"
   },
   {
    "duration": 13,
    "start_time": "2024-03-25T00:35:48.384Z"
   },
   {
    "duration": 13,
    "start_time": "2024-03-25T00:36:05.769Z"
   },
   {
    "duration": 13,
    "start_time": "2024-03-25T00:36:12.137Z"
   },
   {
    "duration": 7,
    "start_time": "2024-03-25T00:36:15.673Z"
   },
   {
    "duration": 21,
    "start_time": "2024-03-25T00:38:19.913Z"
   },
   {
    "duration": 52,
    "start_time": "2024-03-25T00:45:17.706Z"
   },
   {
    "duration": 13,
    "start_time": "2024-03-25T00:45:27.980Z"
   },
   {
    "duration": 12,
    "start_time": "2024-03-25T00:53:24.921Z"
   },
   {
    "duration": 6,
    "start_time": "2024-03-25T00:53:40.917Z"
   },
   {
    "duration": 8,
    "start_time": "2024-03-25T00:53:44.794Z"
   },
   {
    "duration": 9,
    "start_time": "2024-03-25T00:53:57.610Z"
   },
   {
    "duration": 82,
    "start_time": "2024-03-25T00:56:00.519Z"
   },
   {
    "duration": 877,
    "start_time": "2024-03-25T00:56:08.244Z"
   },
   {
    "duration": 913,
    "start_time": "2024-03-25T00:56:42.878Z"
   },
   {
    "duration": 10,
    "start_time": "2024-03-25T00:57:11.882Z"
   },
   {
    "duration": 6753,
    "start_time": "2024-03-25T00:57:33.819Z"
   },
   {
    "duration": 6,
    "start_time": "2024-03-25T00:58:13.437Z"
   },
   {
    "duration": 6343,
    "start_time": "2024-03-25T00:58:17.432Z"
   },
   {
    "duration": 6,
    "start_time": "2024-03-25T00:58:23.776Z"
   },
   {
    "duration": 924,
    "start_time": "2024-03-25T00:58:38.809Z"
   },
   {
    "duration": 14,
    "start_time": "2024-03-25T00:58:40.897Z"
   },
   {
    "duration": 1088,
    "start_time": "2024-03-25T00:59:41.499Z"
   },
   {
    "duration": 5,
    "start_time": "2024-03-25T00:59:43.424Z"
   },
   {
    "duration": 459,
    "start_time": "2024-03-25T01:00:36.900Z"
   },
   {
    "duration": 7,
    "start_time": "2024-03-25T01:00:37.978Z"
   },
   {
    "duration": 874,
    "start_time": "2024-03-25T01:01:21.241Z"
   },
   {
    "duration": 220,
    "start_time": "2024-03-25T01:02:00.180Z"
   },
   {
    "duration": 185,
    "start_time": "2024-03-25T01:02:03.299Z"
   },
   {
    "duration": 5,
    "start_time": "2024-03-25T01:02:21.193Z"
   },
   {
    "duration": 21,
    "start_time": "2024-03-25T01:02:31.520Z"
   },
   {
    "duration": 650,
    "start_time": "2024-03-25T01:02:45.596Z"
   },
   {
    "duration": 1190,
    "start_time": "2024-03-25T01:03:17.746Z"
   },
   {
    "duration": 6,
    "start_time": "2024-03-25T01:03:21.325Z"
   },
   {
    "duration": 1206,
    "start_time": "2024-03-25T01:04:09.920Z"
   },
   {
    "duration": 9,
    "start_time": "2024-03-25T01:04:14.142Z"
   },
   {
    "duration": 1630,
    "start_time": "2024-03-25T01:04:41.299Z"
   },
   {
    "duration": 1167,
    "start_time": "2024-03-25T01:05:53.381Z"
   },
   {
    "duration": 6,
    "start_time": "2024-03-25T01:05:59.370Z"
   },
   {
    "duration": 1386,
    "start_time": "2024-03-25T01:06:45.462Z"
   },
   {
    "duration": 7,
    "start_time": "2024-03-25T01:06:48.501Z"
   },
   {
    "duration": 1391,
    "start_time": "2024-03-25T01:07:27.342Z"
   },
   {
    "duration": 7,
    "start_time": "2024-03-25T01:07:30.491Z"
   },
   {
    "duration": 1024,
    "start_time": "2024-03-25T01:08:07.303Z"
   },
   {
    "duration": 9,
    "start_time": "2024-03-25T01:08:10.301Z"
   },
   {
    "duration": 1011,
    "start_time": "2024-03-25T01:08:29.859Z"
   },
   {
    "duration": 14,
    "start_time": "2024-03-25T01:08:32.653Z"
   },
   {
    "duration": 972,
    "start_time": "2024-03-25T01:09:35.481Z"
   },
   {
    "duration": 6,
    "start_time": "2024-03-25T01:09:38.462Z"
   },
   {
    "duration": 999,
    "start_time": "2024-03-25T01:13:25.950Z"
   },
   {
    "duration": 6,
    "start_time": "2024-03-25T01:13:30.879Z"
   },
   {
    "duration": 13,
    "start_time": "2024-03-25T01:14:02.134Z"
   },
   {
    "duration": 1418,
    "start_time": "2024-03-25T01:14:33.184Z"
   },
   {
    "duration": 1409,
    "start_time": "2024-03-25T01:15:37.696Z"
   },
   {
    "duration": 1986,
    "start_time": "2024-03-25T01:17:21.874Z"
   },
   {
    "duration": 47,
    "start_time": "2024-03-25T01:20:14.831Z"
   },
   {
    "duration": 36,
    "start_time": "2024-03-25T01:20:33.658Z"
   },
   {
    "duration": 1163,
    "start_time": "2024-03-25T01:21:12.990Z"
   },
   {
    "duration": 42,
    "start_time": "2024-03-25T01:21:32.902Z"
   },
   {
    "duration": 18,
    "start_time": "2024-03-25T01:22:11.406Z"
   },
   {
    "duration": 50,
    "start_time": "2024-03-25T01:22:32.260Z"
   },
   {
    "duration": 13,
    "start_time": "2024-03-25T01:22:44.067Z"
   },
   {
    "duration": 55,
    "start_time": "2024-03-25T01:23:40.267Z"
   },
   {
    "duration": 12,
    "start_time": "2024-03-25T01:23:56.464Z"
   },
   {
    "duration": 38,
    "start_time": "2024-03-25T01:26:06.326Z"
   },
   {
    "duration": 13,
    "start_time": "2024-03-25T01:26:24.983Z"
   },
   {
    "duration": 40,
    "start_time": "2024-03-25T01:26:31.447Z"
   },
   {
    "duration": 6,
    "start_time": "2024-03-25T01:26:34.236Z"
   },
   {
    "duration": 53,
    "start_time": "2024-03-25T01:26:54.437Z"
   },
   {
    "duration": 6,
    "start_time": "2024-03-25T01:26:57.061Z"
   },
   {
    "duration": 43,
    "start_time": "2024-03-25T01:27:19.725Z"
   },
   {
    "duration": 3070,
    "start_time": "2024-03-25T01:27:35.479Z"
   },
   {
    "duration": 2515,
    "start_time": "2024-03-25T01:27:41.876Z"
   },
   {
    "duration": 2387,
    "start_time": "2024-03-25T01:27:50.877Z"
   },
   {
    "duration": 7,
    "start_time": "2024-03-25T01:27:59.190Z"
   },
   {
    "duration": 9,
    "start_time": "2024-03-25T01:28:27.428Z"
   },
   {
    "duration": 16,
    "start_time": "2024-03-25T01:29:41.638Z"
   },
   {
    "duration": 19,
    "start_time": "2024-03-25T01:29:53.812Z"
   },
   {
    "duration": 13,
    "start_time": "2024-03-25T01:30:03.073Z"
   },
   {
    "duration": 2,
    "start_time": "2024-03-25T01:30:51.408Z"
   },
   {
    "duration": 2,
    "start_time": "2024-03-25T01:30:52.027Z"
   },
   {
    "duration": 19666,
    "start_time": "2024-03-25T01:30:53.217Z"
   },
   {
    "duration": 2,
    "start_time": "2024-03-25T01:31:12.884Z"
   },
   {
    "duration": 52,
    "start_time": "2024-03-25T01:31:12.887Z"
   },
   {
    "duration": 10,
    "start_time": "2024-03-25T01:31:12.941Z"
   },
   {
    "duration": 10,
    "start_time": "2024-03-25T01:31:12.952Z"
   },
   {
    "duration": 10,
    "start_time": "2024-03-25T01:31:12.963Z"
   },
   {
    "duration": 6,
    "start_time": "2024-03-25T01:31:12.975Z"
   },
   {
    "duration": 7,
    "start_time": "2024-03-25T01:31:12.982Z"
   },
   {
    "duration": 8,
    "start_time": "2024-03-25T01:31:12.990Z"
   },
   {
    "duration": 6,
    "start_time": "2024-03-25T01:31:13.000Z"
   },
   {
    "duration": 10,
    "start_time": "2024-03-25T01:31:13.009Z"
   },
   {
    "duration": 12,
    "start_time": "2024-03-25T01:31:13.020Z"
   },
   {
    "duration": 12,
    "start_time": "2024-03-25T01:31:13.033Z"
   },
   {
    "duration": 5,
    "start_time": "2024-03-25T01:31:13.047Z"
   },
   {
    "duration": 18,
    "start_time": "2024-03-25T01:31:13.053Z"
   },
   {
    "duration": 42,
    "start_time": "2024-03-25T01:31:13.072Z"
   },
   {
    "duration": 14,
    "start_time": "2024-03-25T01:31:13.115Z"
   },
   {
    "duration": 14,
    "start_time": "2024-03-25T01:31:16.512Z"
   },
   {
    "duration": 2,
    "start_time": "2024-03-25T01:31:17.064Z"
   },
   {
    "duration": 3,
    "start_time": "2024-03-25T01:31:18.489Z"
   },
   {
    "duration": 19554,
    "start_time": "2024-03-25T01:31:19.720Z"
   },
   {
    "duration": 13,
    "start_time": "2024-03-25T01:31:51.242Z"
   },
   {
    "duration": 6,
    "start_time": "2024-03-25T01:32:07.876Z"
   },
   {
    "duration": 11,
    "start_time": "2024-03-25T01:32:44.239Z"
   },
   {
    "duration": 15,
    "start_time": "2024-03-25T01:32:58.293Z"
   },
   {
    "duration": 3,
    "start_time": "2024-03-25T01:36:14.078Z"
   },
   {
    "duration": 73,
    "start_time": "2024-03-25T01:36:14.082Z"
   },
   {
    "duration": 10,
    "start_time": "2024-03-25T01:36:14.156Z"
   },
   {
    "duration": 13,
    "start_time": "2024-03-25T01:36:14.167Z"
   },
   {
    "duration": 10,
    "start_time": "2024-03-25T01:36:14.182Z"
   },
   {
    "duration": 7,
    "start_time": "2024-03-25T01:36:14.193Z"
   },
   {
    "duration": 14,
    "start_time": "2024-03-25T01:36:14.201Z"
   },
   {
    "duration": 6,
    "start_time": "2024-03-25T01:36:14.216Z"
   },
   {
    "duration": 7,
    "start_time": "2024-03-25T01:36:14.223Z"
   },
   {
    "duration": 8,
    "start_time": "2024-03-25T01:36:14.231Z"
   },
   {
    "duration": 11,
    "start_time": "2024-03-25T01:36:14.241Z"
   },
   {
    "duration": 12,
    "start_time": "2024-03-25T01:36:14.253Z"
   },
   {
    "duration": 5,
    "start_time": "2024-03-25T01:36:14.266Z"
   },
   {
    "duration": 42,
    "start_time": "2024-03-25T01:36:14.272Z"
   },
   {
    "duration": 14,
    "start_time": "2024-03-25T01:36:14.315Z"
   },
   {
    "duration": 23,
    "start_time": "2024-03-25T01:36:14.330Z"
   },
   {
    "duration": 13,
    "start_time": "2024-03-25T01:36:19.447Z"
   },
   {
    "duration": 7,
    "start_time": "2024-03-25T01:36:20.705Z"
   },
   {
    "duration": 4,
    "start_time": "2024-03-25T01:36:21.910Z"
   },
   {
    "duration": 19470,
    "start_time": "2024-03-25T01:36:23.348Z"
   },
   {
    "duration": 11,
    "start_time": "2024-03-25T01:36:42.820Z"
   },
   {
    "duration": 11,
    "start_time": "2024-03-25T01:36:42.832Z"
   },
   {
    "duration": 19375,
    "start_time": "2024-03-25T01:40:25.211Z"
   },
   {
    "duration": 15,
    "start_time": "2024-03-25T01:40:44.587Z"
   },
   {
    "duration": 6,
    "start_time": "2024-03-25T01:41:01.085Z"
   },
   {
    "duration": 4,
    "start_time": "2024-03-25T01:42:12.550Z"
   },
   {
    "duration": 3,
    "start_time": "2024-03-25T01:45:41.103Z"
   },
   {
    "duration": 3,
    "start_time": "2024-03-25T01:45:45.850Z"
   },
   {
    "duration": 9,
    "start_time": "2024-03-25T01:46:02.984Z"
   },
   {
    "duration": 13,
    "start_time": "2024-03-25T01:47:02.794Z"
   },
   {
    "duration": 16,
    "start_time": "2024-03-25T01:52:06.518Z"
   },
   {
    "duration": 39,
    "start_time": "2024-03-25T01:52:54.155Z"
   },
   {
    "duration": 118,
    "start_time": "2024-03-25T01:53:10.516Z"
   },
   {
    "duration": 106,
    "start_time": "2024-03-25T01:53:23.392Z"
   },
   {
    "duration": 104,
    "start_time": "2024-03-25T01:53:37.437Z"
   },
   {
    "duration": 108,
    "start_time": "2024-03-25T01:53:44.549Z"
   },
   {
    "duration": 6,
    "start_time": "2024-03-25T02:00:40.722Z"
   },
   {
    "duration": 210,
    "start_time": "2024-03-25T02:01:35.482Z"
   },
   {
    "duration": 76,
    "start_time": "2024-03-25T02:05:52.818Z"
   },
   {
    "duration": 255,
    "start_time": "2024-03-25T02:06:01.125Z"
   },
   {
    "duration": 235,
    "start_time": "2024-03-25T02:06:20.072Z"
   },
   {
    "duration": 5,
    "start_time": "2024-03-25T02:15:29.616Z"
   },
   {
    "duration": 10,
    "start_time": "2024-03-25T02:18:01.721Z"
   },
   {
    "duration": 138,
    "start_time": "2024-03-25T02:18:37.078Z"
   },
   {
    "duration": 8,
    "start_time": "2024-03-25T02:19:10.073Z"
   },
   {
    "duration": 3,
    "start_time": "2024-03-25T02:19:17.616Z"
   },
   {
    "duration": 58,
    "start_time": "2024-03-25T02:19:23.180Z"
   },
   {
    "duration": 4,
    "start_time": "2024-03-25T02:19:28.700Z"
   },
   {
    "duration": 14,
    "start_time": "2024-03-25T02:21:18.386Z"
   },
   {
    "duration": 16,
    "start_time": "2024-03-25T02:22:04.878Z"
   },
   {
    "duration": 377,
    "start_time": "2024-03-25T02:24:40.354Z"
   },
   {
    "duration": 359,
    "start_time": "2024-03-25T02:24:55.549Z"
   },
   {
    "duration": 5,
    "start_time": "2024-03-25T02:28:11.954Z"
   },
   {
    "duration": 155,
    "start_time": "2024-03-25T02:30:45.102Z"
   },
   {
    "duration": 99,
    "start_time": "2024-03-25T02:30:49.141Z"
   },
   {
    "duration": 64,
    "start_time": "2024-03-25T02:32:21.104Z"
   },
   {
    "duration": 90,
    "start_time": "2024-03-25T02:32:31.907Z"
   },
   {
    "duration": 88,
    "start_time": "2024-03-25T02:32:40.570Z"
   },
   {
    "duration": 97,
    "start_time": "2024-03-25T02:32:51.405Z"
   },
   {
    "duration": 93,
    "start_time": "2024-03-25T02:32:57.856Z"
   },
   {
    "duration": 90,
    "start_time": "2024-03-25T02:33:11.416Z"
   },
   {
    "duration": 109,
    "start_time": "2024-03-25T02:33:31.769Z"
   },
   {
    "duration": 93,
    "start_time": "2024-03-25T02:33:37.585Z"
   },
   {
    "duration": 94,
    "start_time": "2024-03-25T02:33:56.676Z"
   },
   {
    "duration": 6,
    "start_time": "2024-03-25T02:36:57.531Z"
   },
   {
    "duration": 9,
    "start_time": "2024-03-25T02:37:10.288Z"
   },
   {
    "duration": 216,
    "start_time": "2024-03-25T02:38:32.833Z"
   },
   {
    "duration": 7,
    "start_time": "2024-03-25T02:39:12.640Z"
   },
   {
    "duration": 297,
    "start_time": "2024-03-25T02:39:13.936Z"
   },
   {
    "duration": 252,
    "start_time": "2024-03-25T02:40:07.983Z"
   },
   {
    "duration": 8,
    "start_time": "2024-03-25T02:40:29.058Z"
   },
   {
    "duration": 261,
    "start_time": "2024-03-25T02:40:30.289Z"
   },
   {
    "duration": 272,
    "start_time": "2024-03-25T02:40:30.994Z"
   },
   {
    "duration": 153,
    "start_time": "2024-03-25T02:42:19.975Z"
   },
   {
    "duration": 3,
    "start_time": "2024-03-25T02:44:18.288Z"
   },
   {
    "duration": 2,
    "start_time": "2024-03-25T02:46:23.731Z"
   },
   {
    "duration": 255,
    "start_time": "2024-03-25T02:47:04.100Z"
   },
   {
    "duration": 278,
    "start_time": "2024-03-25T02:48:43.002Z"
   },
   {
    "duration": 325,
    "start_time": "2024-03-25T02:50:36.139Z"
   },
   {
    "duration": 9,
    "start_time": "2024-03-25T02:55:10.220Z"
   },
   {
    "duration": 4,
    "start_time": "2024-03-25T02:55:56.560Z"
   },
   {
    "duration": 9,
    "start_time": "2024-03-25T02:58:17.192Z"
   },
   {
    "duration": 4,
    "start_time": "2024-03-25T02:58:44.324Z"
   },
   {
    "duration": 4,
    "start_time": "2024-03-25T02:59:42.461Z"
   },
   {
    "duration": 1494,
    "start_time": "2024-03-25T15:18:39.438Z"
   },
   {
    "duration": 215,
    "start_time": "2024-03-25T15:18:40.935Z"
   },
   {
    "duration": 18,
    "start_time": "2024-03-25T15:18:41.151Z"
   },
   {
    "duration": 26,
    "start_time": "2024-03-25T15:18:41.173Z"
   },
   {
    "duration": 13,
    "start_time": "2024-03-25T15:18:41.201Z"
   },
   {
    "duration": 15,
    "start_time": "2024-03-25T15:18:41.216Z"
   },
   {
    "duration": 25,
    "start_time": "2024-03-25T15:18:41.233Z"
   },
   {
    "duration": 40,
    "start_time": "2024-03-25T15:18:41.259Z"
   },
   {
    "duration": 22,
    "start_time": "2024-03-25T15:18:41.300Z"
   },
   {
    "duration": 73,
    "start_time": "2024-03-25T15:18:41.324Z"
   },
   {
    "duration": 67,
    "start_time": "2024-03-25T15:18:41.399Z"
   },
   {
    "duration": 21,
    "start_time": "2024-03-25T15:18:41.467Z"
   },
   {
    "duration": 8,
    "start_time": "2024-03-25T15:18:41.490Z"
   },
   {
    "duration": 57,
    "start_time": "2024-03-25T15:18:41.500Z"
   },
   {
    "duration": 22,
    "start_time": "2024-03-25T15:18:41.559Z"
   },
   {
    "duration": 20,
    "start_time": "2024-03-25T15:18:41.583Z"
   },
   {
    "duration": 2,
    "start_time": "2024-03-25T15:18:41.605Z"
   },
   {
    "duration": 7,
    "start_time": "2024-03-25T15:18:41.609Z"
   },
   {
    "duration": 131,
    "start_time": "2024-03-25T15:18:41.617Z"
   },
   {
    "duration": 0,
    "start_time": "2024-03-25T15:18:41.751Z"
   },
   {
    "duration": 0,
    "start_time": "2024-03-25T15:18:41.752Z"
   },
   {
    "duration": 0,
    "start_time": "2024-03-25T15:18:41.753Z"
   },
   {
    "duration": 0,
    "start_time": "2024-03-25T15:18:41.754Z"
   },
   {
    "duration": 0,
    "start_time": "2024-03-25T15:18:41.756Z"
   },
   {
    "duration": 0,
    "start_time": "2024-03-25T15:18:41.757Z"
   },
   {
    "duration": 0,
    "start_time": "2024-03-25T15:18:41.757Z"
   },
   {
    "duration": 0,
    "start_time": "2024-03-25T15:18:41.758Z"
   },
   {
    "duration": 0,
    "start_time": "2024-03-25T15:18:41.758Z"
   },
   {
    "duration": 0,
    "start_time": "2024-03-25T15:18:41.759Z"
   },
   {
    "duration": 0,
    "start_time": "2024-03-25T15:18:41.769Z"
   },
   {
    "duration": 0,
    "start_time": "2024-03-25T15:18:41.771Z"
   },
   {
    "duration": 0,
    "start_time": "2024-03-25T15:18:41.772Z"
   },
   {
    "duration": 0,
    "start_time": "2024-03-25T15:18:41.773Z"
   },
   {
    "duration": 0,
    "start_time": "2024-03-25T15:18:41.774Z"
   },
   {
    "duration": 0,
    "start_time": "2024-03-25T15:18:41.776Z"
   },
   {
    "duration": 0,
    "start_time": "2024-03-25T15:18:41.777Z"
   },
   {
    "duration": 0,
    "start_time": "2024-03-25T15:18:41.778Z"
   },
   {
    "duration": 0,
    "start_time": "2024-03-25T15:18:41.779Z"
   },
   {
    "duration": 0,
    "start_time": "2024-03-25T15:18:41.781Z"
   },
   {
    "duration": 0,
    "start_time": "2024-03-25T15:18:41.782Z"
   },
   {
    "duration": 0,
    "start_time": "2024-03-25T15:18:41.783Z"
   },
   {
    "duration": 1,
    "start_time": "2024-03-25T15:18:41.785Z"
   },
   {
    "duration": 0,
    "start_time": "2024-03-25T15:18:41.787Z"
   },
   {
    "duration": 0,
    "start_time": "2024-03-25T15:18:41.789Z"
   },
   {
    "duration": 0,
    "start_time": "2024-03-25T15:18:41.791Z"
   },
   {
    "duration": 0,
    "start_time": "2024-03-25T15:18:41.794Z"
   },
   {
    "duration": 0,
    "start_time": "2024-03-25T15:18:41.796Z"
   },
   {
    "duration": 0,
    "start_time": "2024-03-25T15:18:41.797Z"
   },
   {
    "duration": 0,
    "start_time": "2024-03-25T15:18:41.798Z"
   },
   {
    "duration": 0,
    "start_time": "2024-03-25T15:18:41.799Z"
   },
   {
    "duration": 0,
    "start_time": "2024-03-25T15:18:41.801Z"
   },
   {
    "duration": 0,
    "start_time": "2024-03-25T15:18:41.802Z"
   },
   {
    "duration": 0,
    "start_time": "2024-03-25T15:18:41.803Z"
   },
   {
    "duration": 0,
    "start_time": "2024-03-25T15:18:41.804Z"
   },
   {
    "duration": 0,
    "start_time": "2024-03-25T15:18:41.805Z"
   },
   {
    "duration": 2,
    "start_time": "2024-03-25T15:24:30.052Z"
   },
   {
    "duration": 16,
    "start_time": "2024-03-25T15:24:31.137Z"
   },
   {
    "duration": 13,
    "start_time": "2024-03-25T15:24:32.177Z"
   },
   {
    "duration": 20,
    "start_time": "2024-03-25T15:24:35.826Z"
   },
   {
    "duration": 1205,
    "start_time": "2024-03-25T15:25:04.537Z"
   },
   {
    "duration": 59,
    "start_time": "2024-03-25T15:25:05.743Z"
   },
   {
    "duration": 18,
    "start_time": "2024-03-25T15:25:05.804Z"
   },
   {
    "duration": 20,
    "start_time": "2024-03-25T15:25:05.824Z"
   },
   {
    "duration": 28,
    "start_time": "2024-03-25T15:25:05.845Z"
   },
   {
    "duration": 11,
    "start_time": "2024-03-25T15:25:05.875Z"
   },
   {
    "duration": 15,
    "start_time": "2024-03-25T15:25:05.888Z"
   },
   {
    "duration": 24,
    "start_time": "2024-03-25T15:25:05.904Z"
   },
   {
    "duration": 7,
    "start_time": "2024-03-25T15:25:05.929Z"
   },
   {
    "duration": 34,
    "start_time": "2024-03-25T15:25:05.938Z"
   },
   {
    "duration": 56,
    "start_time": "2024-03-25T15:25:05.974Z"
   },
   {
    "duration": 18,
    "start_time": "2024-03-25T15:25:06.032Z"
   },
   {
    "duration": 24,
    "start_time": "2024-03-25T15:25:06.051Z"
   },
   {
    "duration": 76,
    "start_time": "2024-03-25T15:25:06.077Z"
   },
   {
    "duration": 21,
    "start_time": "2024-03-25T15:25:06.155Z"
   },
   {
    "duration": 19,
    "start_time": "2024-03-25T15:25:06.178Z"
   },
   {
    "duration": 6,
    "start_time": "2024-03-25T15:25:06.198Z"
   },
   {
    "duration": 27,
    "start_time": "2024-03-25T15:25:06.205Z"
   },
   {
    "duration": 19,
    "start_time": "2024-03-25T15:25:06.233Z"
   },
   {
    "duration": 44,
    "start_time": "2024-03-25T15:25:06.254Z"
   },
   {
    "duration": 20,
    "start_time": "2024-03-25T15:25:06.300Z"
   },
   {
    "duration": 23,
    "start_time": "2024-03-25T15:25:06.321Z"
   },
   {
    "duration": 29,
    "start_time": "2024-03-25T15:25:06.345Z"
   },
   {
    "duration": 25,
    "start_time": "2024-03-25T15:25:06.376Z"
   },
   {
    "duration": 16,
    "start_time": "2024-03-25T15:25:06.402Z"
   },
   {
    "duration": 20,
    "start_time": "2024-03-25T15:25:06.420Z"
   },
   {
    "duration": 13,
    "start_time": "2024-03-25T15:25:06.441Z"
   },
   {
    "duration": 31,
    "start_time": "2024-03-25T15:25:06.457Z"
   },
   {
    "duration": 26,
    "start_time": "2024-03-25T15:25:06.491Z"
   },
   {
    "duration": 18,
    "start_time": "2024-03-25T15:25:06.519Z"
   },
   {
    "duration": 149,
    "start_time": "2024-03-25T15:25:06.538Z"
   },
   {
    "duration": 8,
    "start_time": "2024-03-25T15:25:06.688Z"
   },
   {
    "duration": 310,
    "start_time": "2024-03-25T15:25:06.697Z"
   },
   {
    "duration": 323,
    "start_time": "2024-03-25T15:25:07.009Z"
   },
   {
    "duration": 6,
    "start_time": "2024-03-25T15:25:07.334Z"
   },
   {
    "duration": 23,
    "start_time": "2024-03-25T15:25:07.341Z"
   },
   {
    "duration": 181,
    "start_time": "2024-03-25T15:25:07.365Z"
   },
   {
    "duration": 3,
    "start_time": "2024-03-25T15:25:07.548Z"
   },
   {
    "duration": 595,
    "start_time": "2024-03-25T15:25:07.553Z"
   },
   {
    "duration": 7,
    "start_time": "2024-03-25T15:25:08.150Z"
   },
   {
    "duration": 158,
    "start_time": "2024-03-25T15:25:08.158Z"
   },
   {
    "duration": 10,
    "start_time": "2024-03-25T15:25:08.317Z"
   },
   {
    "duration": 373,
    "start_time": "2024-03-25T15:25:08.328Z"
   },
   {
    "duration": 341,
    "start_time": "2024-03-25T15:25:08.702Z"
   },
   {
    "duration": 206,
    "start_time": "2024-03-25T15:25:09.045Z"
   },
   {
    "duration": 2,
    "start_time": "2024-03-25T15:25:09.253Z"
   },
   {
    "duration": 345,
    "start_time": "2024-03-25T15:25:09.257Z"
   },
   {
    "duration": 351,
    "start_time": "2024-03-25T15:25:09.604Z"
   },
   {
    "duration": 463,
    "start_time": "2024-03-25T15:25:09.957Z"
   },
   {
    "duration": 10,
    "start_time": "2024-03-25T15:25:10.422Z"
   },
   {
    "duration": 13,
    "start_time": "2024-03-25T15:25:10.433Z"
   },
   {
    "duration": 18,
    "start_time": "2024-03-25T15:25:10.448Z"
   },
   {
    "duration": 21,
    "start_time": "2024-03-25T15:25:10.472Z"
   },
   {
    "duration": 5,
    "start_time": "2024-03-25T15:25:10.495Z"
   },
   {
    "duration": 14,
    "start_time": "2024-03-25T15:25:10.501Z"
   },
   {
    "duration": 12,
    "start_time": "2024-03-25T15:29:58.131Z"
   },
   {
    "duration": 1159,
    "start_time": "2024-03-25T15:37:04.021Z"
   },
   {
    "duration": 58,
    "start_time": "2024-03-25T15:37:05.182Z"
   },
   {
    "duration": 17,
    "start_time": "2024-03-25T15:37:05.242Z"
   },
   {
    "duration": 19,
    "start_time": "2024-03-25T15:37:05.261Z"
   },
   {
    "duration": 15,
    "start_time": "2024-03-25T15:37:05.282Z"
   },
   {
    "duration": 14,
    "start_time": "2024-03-25T15:37:05.298Z"
   },
   {
    "duration": 38,
    "start_time": "2024-03-25T15:37:05.313Z"
   },
   {
    "duration": 9,
    "start_time": "2024-03-25T15:37:05.353Z"
   },
   {
    "duration": 16,
    "start_time": "2024-03-25T15:37:05.363Z"
   },
   {
    "duration": 10,
    "start_time": "2024-03-25T15:37:05.381Z"
   },
   {
    "duration": 54,
    "start_time": "2024-03-25T15:37:05.392Z"
   },
   {
    "duration": 26,
    "start_time": "2024-03-25T15:37:05.447Z"
   },
   {
    "duration": 7,
    "start_time": "2024-03-25T15:37:05.474Z"
   },
   {
    "duration": 32,
    "start_time": "2024-03-25T15:37:05.482Z"
   },
   {
    "duration": 16,
    "start_time": "2024-03-25T15:37:05.516Z"
   },
   {
    "duration": 17,
    "start_time": "2024-03-25T15:37:05.534Z"
   },
   {
    "duration": 2,
    "start_time": "2024-03-25T15:37:05.570Z"
   },
   {
    "duration": 5,
    "start_time": "2024-03-25T15:37:05.574Z"
   },
   {
    "duration": 20,
    "start_time": "2024-03-25T15:37:05.580Z"
   },
   {
    "duration": 18,
    "start_time": "2024-03-25T15:37:05.601Z"
   },
   {
    "duration": 12,
    "start_time": "2024-03-25T15:37:05.621Z"
   },
   {
    "duration": 11,
    "start_time": "2024-03-25T15:37:05.634Z"
   },
   {
    "duration": 18,
    "start_time": "2024-03-25T15:37:05.646Z"
   },
   {
    "duration": 19,
    "start_time": "2024-03-25T15:37:05.665Z"
   },
   {
    "duration": 5,
    "start_time": "2024-03-25T15:37:05.685Z"
   },
   {
    "duration": 6,
    "start_time": "2024-03-25T15:37:05.691Z"
   },
   {
    "duration": 5,
    "start_time": "2024-03-25T15:37:05.698Z"
   },
   {
    "duration": 10,
    "start_time": "2024-03-25T15:37:05.707Z"
   },
   {
    "duration": 21,
    "start_time": "2024-03-25T15:37:05.719Z"
   },
   {
    "duration": 32,
    "start_time": "2024-03-25T15:37:05.742Z"
   },
   {
    "duration": 149,
    "start_time": "2024-03-25T15:37:05.776Z"
   },
   {
    "duration": 8,
    "start_time": "2024-03-25T15:37:05.927Z"
   },
   {
    "duration": 284,
    "start_time": "2024-03-25T15:37:05.936Z"
   },
   {
    "duration": 310,
    "start_time": "2024-03-25T15:37:06.222Z"
   },
   {
    "duration": 7,
    "start_time": "2024-03-25T15:37:06.533Z"
   },
   {
    "duration": 12,
    "start_time": "2024-03-25T15:37:06.541Z"
   },
   {
    "duration": 170,
    "start_time": "2024-03-25T15:37:06.569Z"
   },
   {
    "duration": 4,
    "start_time": "2024-03-25T15:37:06.740Z"
   },
   {
    "duration": 521,
    "start_time": "2024-03-25T15:37:06.746Z"
   },
   {
    "duration": 6,
    "start_time": "2024-03-25T15:37:07.268Z"
   },
   {
    "duration": 126,
    "start_time": "2024-03-25T15:37:07.275Z"
   },
   {
    "duration": 9,
    "start_time": "2024-03-25T15:37:07.403Z"
   },
   {
    "duration": 23,
    "start_time": "2024-03-25T15:37:07.413Z"
   },
   {
    "duration": 324,
    "start_time": "2024-03-25T15:37:07.438Z"
   },
   {
    "duration": 313,
    "start_time": "2024-03-25T15:37:07.769Z"
   },
   {
    "duration": 194,
    "start_time": "2024-03-25T15:37:08.083Z"
   },
   {
    "duration": 3,
    "start_time": "2024-03-25T15:37:08.278Z"
   },
   {
    "duration": 316,
    "start_time": "2024-03-25T15:37:08.282Z"
   },
   {
    "duration": 336,
    "start_time": "2024-03-25T15:37:08.599Z"
   },
   {
    "duration": 392,
    "start_time": "2024-03-25T15:37:08.937Z"
   },
   {
    "duration": 11,
    "start_time": "2024-03-25T15:37:09.331Z"
   },
   {
    "duration": 17,
    "start_time": "2024-03-25T15:37:09.343Z"
   },
   {
    "duration": 12,
    "start_time": "2024-03-25T15:37:09.361Z"
   },
   {
    "duration": 10,
    "start_time": "2024-03-25T15:37:09.375Z"
   },
   {
    "duration": 5,
    "start_time": "2024-03-25T15:37:09.386Z"
   },
   {
    "duration": 11,
    "start_time": "2024-03-25T15:37:09.392Z"
   },
   {
    "duration": 1390,
    "start_time": "2024-03-25T15:53:13.224Z"
   },
   {
    "duration": 108,
    "start_time": "2024-03-25T15:53:14.616Z"
   },
   {
    "duration": 19,
    "start_time": "2024-03-25T15:53:14.726Z"
   },
   {
    "duration": 17,
    "start_time": "2024-03-25T15:53:14.746Z"
   },
   {
    "duration": 22,
    "start_time": "2024-03-25T15:53:14.766Z"
   },
   {
    "duration": 9,
    "start_time": "2024-03-25T15:53:14.790Z"
   },
   {
    "duration": 10,
    "start_time": "2024-03-25T15:53:14.800Z"
   },
   {
    "duration": 9,
    "start_time": "2024-03-25T15:53:14.812Z"
   },
   {
    "duration": 7,
    "start_time": "2024-03-25T15:53:14.823Z"
   },
   {
    "duration": 12,
    "start_time": "2024-03-25T15:53:14.832Z"
   },
   {
    "duration": 77,
    "start_time": "2024-03-25T15:53:14.846Z"
   },
   {
    "duration": 19,
    "start_time": "2024-03-25T15:53:14.924Z"
   },
   {
    "duration": 10,
    "start_time": "2024-03-25T15:53:14.945Z"
   },
   {
    "duration": 42,
    "start_time": "2024-03-25T15:53:14.958Z"
   },
   {
    "duration": 16,
    "start_time": "2024-03-25T15:53:15.002Z"
   },
   {
    "duration": 53,
    "start_time": "2024-03-25T15:53:15.020Z"
   },
   {
    "duration": 34,
    "start_time": "2024-03-25T15:53:15.075Z"
   },
   {
    "duration": 22,
    "start_time": "2024-03-25T15:53:15.111Z"
   },
   {
    "duration": 8,
    "start_time": "2024-03-25T15:53:15.135Z"
   },
   {
    "duration": 7,
    "start_time": "2024-03-25T15:53:18.842Z"
   },
   {
    "duration": 15,
    "start_time": "2024-03-25T15:54:47.386Z"
   },
   {
    "duration": 10,
    "start_time": "2024-03-25T15:56:08.774Z"
   },
   {
    "duration": 11,
    "start_time": "2024-03-25T15:56:17.600Z"
   },
   {
    "duration": 18,
    "start_time": "2024-03-25T15:56:33.579Z"
   },
   {
    "duration": 46,
    "start_time": "2024-03-25T15:57:06.673Z"
   },
   {
    "duration": 13,
    "start_time": "2024-03-25T15:57:25.035Z"
   },
   {
    "duration": 10,
    "start_time": "2024-03-25T15:57:36.728Z"
   },
   {
    "duration": 127,
    "start_time": "2024-03-25T15:58:01.390Z"
   },
   {
    "duration": 15,
    "start_time": "2024-03-25T16:16:42.510Z"
   },
   {
    "duration": 149,
    "start_time": "2024-03-25T16:16:45.500Z"
   },
   {
    "duration": 3,
    "start_time": "2024-03-25T16:19:03.810Z"
   },
   {
    "duration": 63,
    "start_time": "2024-03-25T16:19:03.814Z"
   },
   {
    "duration": 15,
    "start_time": "2024-03-25T16:19:03.878Z"
   },
   {
    "duration": 22,
    "start_time": "2024-03-25T16:19:03.896Z"
   },
   {
    "duration": 14,
    "start_time": "2024-03-25T16:19:03.919Z"
   },
   {
    "duration": 5,
    "start_time": "2024-03-25T16:19:03.935Z"
   },
   {
    "duration": 9,
    "start_time": "2024-03-25T16:19:03.941Z"
   },
   {
    "duration": 32,
    "start_time": "2024-03-25T16:19:03.951Z"
   },
   {
    "duration": 5,
    "start_time": "2024-03-25T16:19:03.984Z"
   },
   {
    "duration": 12,
    "start_time": "2024-03-25T16:19:03.992Z"
   },
   {
    "duration": 16,
    "start_time": "2024-03-25T16:19:04.005Z"
   },
   {
    "duration": 16,
    "start_time": "2024-03-25T16:19:04.023Z"
   },
   {
    "duration": 7,
    "start_time": "2024-03-25T16:19:04.041Z"
   },
   {
    "duration": 52,
    "start_time": "2024-03-25T16:19:04.049Z"
   },
   {
    "duration": 15,
    "start_time": "2024-03-25T16:19:04.103Z"
   },
   {
    "duration": 21,
    "start_time": "2024-03-25T16:19:04.120Z"
   },
   {
    "duration": 3,
    "start_time": "2024-03-25T16:19:04.143Z"
   },
   {
    "duration": 11,
    "start_time": "2024-03-25T16:19:04.148Z"
   },
   {
    "duration": 21,
    "start_time": "2024-03-25T16:19:04.161Z"
   },
   {
    "duration": 8,
    "start_time": "2024-03-25T16:19:04.183Z"
   },
   {
    "duration": 25,
    "start_time": "2024-03-25T16:19:04.192Z"
   },
   {
    "duration": 15,
    "start_time": "2024-03-25T16:19:04.219Z"
   },
   {
    "duration": 6,
    "start_time": "2024-03-25T16:19:04.235Z"
   },
   {
    "duration": 17,
    "start_time": "2024-03-25T16:19:04.243Z"
   },
   {
    "duration": 22,
    "start_time": "2024-03-25T16:19:04.261Z"
   },
   {
    "duration": 5,
    "start_time": "2024-03-25T16:19:04.284Z"
   },
   {
    "duration": 4,
    "start_time": "2024-03-25T16:19:04.290Z"
   },
   {
    "duration": 5,
    "start_time": "2024-03-25T16:19:04.297Z"
   },
   {
    "duration": 23,
    "start_time": "2024-03-25T16:19:04.303Z"
   },
   {
    "duration": 34,
    "start_time": "2024-03-25T16:19:04.327Z"
   },
   {
    "duration": 15,
    "start_time": "2024-03-25T16:19:04.363Z"
   },
   {
    "duration": 10,
    "start_time": "2024-03-25T16:19:04.381Z"
   },
   {
    "duration": 18,
    "start_time": "2024-03-25T16:19:04.393Z"
   },
   {
    "duration": 11,
    "start_time": "2024-03-25T16:19:04.413Z"
   },
   {
    "duration": 9,
    "start_time": "2024-03-25T16:19:04.426Z"
   },
   {
    "duration": 46,
    "start_time": "2024-03-25T16:19:04.436Z"
   },
   {
    "duration": 131,
    "start_time": "2024-03-25T16:19:04.484Z"
   },
   {
    "duration": 7,
    "start_time": "2024-03-25T16:19:04.616Z"
   },
   {
    "duration": 303,
    "start_time": "2024-03-25T16:19:04.624Z"
   },
   {
    "duration": 314,
    "start_time": "2024-03-25T16:19:08.415Z"
   },
   {
    "duration": 63,
    "start_time": "2024-03-25T16:23:52.821Z"
   },
   {
    "duration": 46,
    "start_time": "2024-03-25T16:25:10.384Z"
   },
   {
    "duration": 6,
    "start_time": "2024-03-25T16:25:38.723Z"
   },
   {
    "duration": 3,
    "start_time": "2024-03-25T16:26:04.072Z"
   },
   {
    "duration": 72,
    "start_time": "2024-03-25T16:26:04.077Z"
   },
   {
    "duration": 15,
    "start_time": "2024-03-25T16:26:04.150Z"
   },
   {
    "duration": 28,
    "start_time": "2024-03-25T16:26:04.167Z"
   },
   {
    "duration": 19,
    "start_time": "2024-03-25T16:26:04.197Z"
   },
   {
    "duration": 6,
    "start_time": "2024-03-25T16:26:04.218Z"
   },
   {
    "duration": 11,
    "start_time": "2024-03-25T16:26:04.225Z"
   },
   {
    "duration": 7,
    "start_time": "2024-03-25T16:26:04.238Z"
   },
   {
    "duration": 6,
    "start_time": "2024-03-25T16:26:04.247Z"
   },
   {
    "duration": 31,
    "start_time": "2024-03-25T16:26:04.256Z"
   },
   {
    "duration": 15,
    "start_time": "2024-03-25T16:26:04.289Z"
   },
   {
    "duration": 17,
    "start_time": "2024-03-25T16:26:04.305Z"
   },
   {
    "duration": 7,
    "start_time": "2024-03-25T16:26:04.323Z"
   },
   {
    "duration": 57,
    "start_time": "2024-03-25T16:26:04.332Z"
   },
   {
    "duration": 16,
    "start_time": "2024-03-25T16:26:04.391Z"
   },
   {
    "duration": 22,
    "start_time": "2024-03-25T16:26:04.408Z"
   },
   {
    "duration": 3,
    "start_time": "2024-03-25T16:26:04.431Z"
   },
   {
    "duration": 5,
    "start_time": "2024-03-25T16:26:04.435Z"
   },
   {
    "duration": 6,
    "start_time": "2024-03-25T16:26:04.441Z"
   },
   {
    "duration": 21,
    "start_time": "2024-03-25T16:26:04.448Z"
   },
   {
    "duration": 27,
    "start_time": "2024-03-25T16:26:04.470Z"
   },
   {
    "duration": 9,
    "start_time": "2024-03-25T16:26:04.499Z"
   },
   {
    "duration": 6,
    "start_time": "2024-03-25T16:26:04.509Z"
   },
   {
    "duration": 16,
    "start_time": "2024-03-25T16:26:04.516Z"
   },
   {
    "duration": 8,
    "start_time": "2024-03-25T16:26:04.534Z"
   },
   {
    "duration": 6,
    "start_time": "2024-03-25T16:26:04.544Z"
   },
   {
    "duration": 31,
    "start_time": "2024-03-25T16:26:04.551Z"
   },
   {
    "duration": 11,
    "start_time": "2024-03-25T16:26:04.586Z"
   },
   {
    "duration": 14,
    "start_time": "2024-03-25T16:26:04.598Z"
   },
   {
    "duration": 19,
    "start_time": "2024-03-25T16:26:04.613Z"
   },
   {
    "duration": 15,
    "start_time": "2024-03-25T16:26:04.633Z"
   },
   {
    "duration": 8,
    "start_time": "2024-03-25T16:26:04.649Z"
   },
   {
    "duration": 39,
    "start_time": "2024-03-25T16:26:04.659Z"
   },
   {
    "duration": 9,
    "start_time": "2024-03-25T16:26:04.699Z"
   },
   {
    "duration": 10,
    "start_time": "2024-03-25T16:26:04.709Z"
   },
   {
    "duration": 19,
    "start_time": "2024-03-25T16:26:04.720Z"
   },
   {
    "duration": 154,
    "start_time": "2024-03-25T16:26:04.741Z"
   },
   {
    "duration": 8,
    "start_time": "2024-03-25T16:26:04.896Z"
   },
   {
    "duration": 366,
    "start_time": "2024-03-25T16:26:04.905Z"
   },
   {
    "duration": 320,
    "start_time": "2024-03-25T16:26:05.272Z"
   },
   {
    "duration": 6,
    "start_time": "2024-03-25T16:26:05.594Z"
   },
   {
    "duration": 25,
    "start_time": "2024-03-25T16:26:05.602Z"
   },
   {
    "duration": 191,
    "start_time": "2024-03-25T16:26:05.628Z"
   },
   {
    "duration": 4,
    "start_time": "2024-03-25T16:26:05.821Z"
   },
   {
    "duration": 421,
    "start_time": "2024-03-25T16:26:05.826Z"
   },
   {
    "duration": 6,
    "start_time": "2024-03-25T16:26:06.249Z"
   },
   {
    "duration": 130,
    "start_time": "2024-03-25T16:26:06.256Z"
   },
   {
    "duration": 9,
    "start_time": "2024-03-25T16:26:06.388Z"
   },
   {
    "duration": 12,
    "start_time": "2024-03-25T16:26:06.398Z"
   },
   {
    "duration": 322,
    "start_time": "2024-03-25T16:26:06.411Z"
   },
   {
    "duration": 327,
    "start_time": "2024-03-25T16:26:06.735Z"
   },
   {
    "duration": 282,
    "start_time": "2024-03-25T16:26:07.064Z"
   },
   {
    "duration": 3,
    "start_time": "2024-03-25T16:26:07.347Z"
   },
   {
    "duration": 326,
    "start_time": "2024-03-25T16:26:07.351Z"
   },
   {
    "duration": 333,
    "start_time": "2024-03-25T16:26:07.681Z"
   },
   {
    "duration": 310,
    "start_time": "2024-03-25T16:26:08.016Z"
   },
   {
    "duration": 9,
    "start_time": "2024-03-25T16:26:08.328Z"
   },
   {
    "duration": 23,
    "start_time": "2024-03-25T16:26:08.339Z"
   },
   {
    "duration": 11,
    "start_time": "2024-03-25T16:26:08.364Z"
   },
   {
    "duration": 23,
    "start_time": "2024-03-25T16:26:08.376Z"
   },
   {
    "duration": 17,
    "start_time": "2024-03-25T16:26:08.401Z"
   },
   {
    "duration": 19,
    "start_time": "2024-03-25T16:26:08.420Z"
   },
   {
    "duration": 5,
    "start_time": "2024-03-25T16:26:49.903Z"
   },
   {
    "duration": 12,
    "start_time": "2024-03-25T16:26:54.420Z"
   },
   {
    "duration": 166,
    "start_time": "2024-03-25T16:26:59.616Z"
   },
   {
    "duration": 5,
    "start_time": "2024-03-25T16:27:02.222Z"
   },
   {
    "duration": 541,
    "start_time": "2024-03-25T16:27:03.902Z"
   },
   {
    "duration": 7,
    "start_time": "2024-03-25T16:27:32.819Z"
   },
   {
    "duration": 12,
    "start_time": "2024-03-25T16:27:37.455Z"
   },
   {
    "duration": 151,
    "start_time": "2024-03-25T16:27:41.299Z"
   },
   {
    "duration": 3,
    "start_time": "2024-03-25T16:27:45.332Z"
   },
   {
    "duration": 408,
    "start_time": "2024-03-25T16:27:51.668Z"
   },
   {
    "duration": 3,
    "start_time": "2024-03-25T16:28:54.126Z"
   },
   {
    "duration": 48,
    "start_time": "2024-03-25T16:29:20.521Z"
   },
   {
    "duration": 228,
    "start_time": "2024-03-25T16:29:27.396Z"
   },
   {
    "duration": 10,
    "start_time": "2024-03-25T16:29:55.840Z"
   },
   {
    "duration": 13,
    "start_time": "2024-03-25T16:55:54.864Z"
   },
   {
    "duration": 317,
    "start_time": "2024-03-25T16:57:26.585Z"
   },
   {
    "duration": 334,
    "start_time": "2024-03-25T16:58:00.274Z"
   },
   {
    "duration": 51,
    "start_time": "2024-03-25T16:59:13.026Z"
   },
   {
    "duration": 345,
    "start_time": "2024-03-25T17:14:13.454Z"
   },
   {
    "duration": 464,
    "start_time": "2024-03-25T17:17:27.338Z"
   },
   {
    "duration": 875,
    "start_time": "2024-03-25T17:33:05.515Z"
   },
   {
    "duration": 865,
    "start_time": "2024-03-25T17:33:16.263Z"
   },
   {
    "duration": 4,
    "start_time": "2024-03-25T17:33:31.093Z"
   },
   {
    "duration": 9,
    "start_time": "2024-03-25T17:33:35.168Z"
   },
   {
    "duration": 10,
    "start_time": "2024-03-25T17:33:48.918Z"
   },
   {
    "duration": 18,
    "start_time": "2024-03-25T17:43:54.286Z"
   },
   {
    "duration": 469,
    "start_time": "2024-03-25T17:46:15.962Z"
   },
   {
    "duration": 465,
    "start_time": "2024-03-25T17:48:03.923Z"
   },
   {
    "duration": 11,
    "start_time": "2024-03-25T18:11:25.860Z"
   },
   {
    "duration": 21,
    "start_time": "2024-03-25T18:12:26.345Z"
   },
   {
    "duration": 10,
    "start_time": "2024-03-25T18:12:45.740Z"
   },
   {
    "duration": 10,
    "start_time": "2024-03-25T18:13:00.215Z"
   },
   {
    "duration": 9,
    "start_time": "2024-03-25T18:13:10.040Z"
   },
   {
    "duration": 192,
    "start_time": "2024-03-25T18:18:12.248Z"
   },
   {
    "duration": 185,
    "start_time": "2024-03-25T18:18:41.411Z"
   },
   {
    "duration": 53,
    "start_time": "2024-03-25T18:19:06.469Z"
   },
   {
    "duration": 586,
    "start_time": "2024-03-25T18:19:26.417Z"
   },
   {
    "duration": 1247,
    "start_time": "2024-03-25T18:19:36.985Z"
   },
   {
    "duration": 1228,
    "start_time": "2024-03-25T18:19:55.608Z"
   },
   {
    "duration": 326,
    "start_time": "2024-03-25T18:20:39.216Z"
   },
   {
    "duration": 609,
    "start_time": "2024-03-25T18:20:43.610Z"
   },
   {
    "duration": 291,
    "start_time": "2024-03-25T18:22:48.020Z"
   },
   {
    "duration": 304,
    "start_time": "2024-03-25T18:23:22.723Z"
   },
   {
    "duration": 396,
    "start_time": "2024-03-25T18:23:47.874Z"
   },
   {
    "duration": 461,
    "start_time": "2024-03-25T18:23:56.866Z"
   },
   {
    "duration": 679,
    "start_time": "2024-03-25T18:24:01.056Z"
   },
   {
    "duration": 268,
    "start_time": "2024-03-25T18:24:07.395Z"
   },
   {
    "duration": 48,
    "start_time": "2024-03-25T18:24:25.168Z"
   },
   {
    "duration": 708,
    "start_time": "2024-03-25T18:24:30.544Z"
   },
   {
    "duration": 58,
    "start_time": "2024-03-25T18:25:15.044Z"
   },
   {
    "duration": 278,
    "start_time": "2024-03-25T18:25:19.341Z"
   },
   {
    "duration": 263,
    "start_time": "2024-03-25T18:25:32.128Z"
   },
   {
    "duration": 297,
    "start_time": "2024-03-25T18:25:37.561Z"
   },
   {
    "duration": 264,
    "start_time": "2024-03-25T18:25:42.610Z"
   },
   {
    "duration": 248,
    "start_time": "2024-03-25T18:25:47.923Z"
   },
   {
    "duration": 275,
    "start_time": "2024-03-25T18:26:03.625Z"
   },
   {
    "duration": 412,
    "start_time": "2024-03-25T18:26:10.312Z"
   },
   {
    "duration": 274,
    "start_time": "2024-03-25T18:29:40.154Z"
   },
   {
    "duration": 301,
    "start_time": "2024-03-25T18:29:46.386Z"
   },
   {
    "duration": 302,
    "start_time": "2024-03-25T18:30:25.553Z"
   },
   {
    "duration": 1005,
    "start_time": "2024-03-26T01:01:56.033Z"
   },
   {
    "duration": 102,
    "start_time": "2024-03-26T01:01:57.040Z"
   },
   {
    "duration": 14,
    "start_time": "2024-03-26T01:01:57.143Z"
   },
   {
    "duration": 52,
    "start_time": "2024-03-26T01:01:57.159Z"
   },
   {
    "duration": 12,
    "start_time": "2024-03-26T01:01:57.215Z"
   },
   {
    "duration": 5,
    "start_time": "2024-03-26T01:01:57.228Z"
   },
   {
    "duration": 11,
    "start_time": "2024-03-26T01:01:57.234Z"
   },
   {
    "duration": 5,
    "start_time": "2024-03-26T01:01:57.246Z"
   },
   {
    "duration": 4,
    "start_time": "2024-03-26T01:01:57.252Z"
   },
   {
    "duration": 7,
    "start_time": "2024-03-26T01:01:57.258Z"
   },
   {
    "duration": 55,
    "start_time": "2024-03-26T01:01:57.266Z"
   },
   {
    "duration": 13,
    "start_time": "2024-03-26T01:01:57.322Z"
   },
   {
    "duration": 16,
    "start_time": "2024-03-26T01:01:57.336Z"
   },
   {
    "duration": 17,
    "start_time": "2024-03-26T01:01:57.354Z"
   },
   {
    "duration": 13,
    "start_time": "2024-03-26T01:01:57.372Z"
   },
   {
    "duration": 23,
    "start_time": "2024-03-26T01:01:57.386Z"
   },
   {
    "duration": 2,
    "start_time": "2024-03-26T01:01:57.410Z"
   },
   {
    "duration": 12,
    "start_time": "2024-03-26T01:01:57.413Z"
   },
   {
    "duration": 9,
    "start_time": "2024-03-26T01:01:57.427Z"
   },
   {
    "duration": 19,
    "start_time": "2024-03-26T01:01:57.437Z"
   },
   {
    "duration": 12,
    "start_time": "2024-03-26T01:01:57.457Z"
   },
   {
    "duration": 5,
    "start_time": "2024-03-26T01:01:57.470Z"
   },
   {
    "duration": 3,
    "start_time": "2024-03-26T01:01:57.476Z"
   },
   {
    "duration": 16,
    "start_time": "2024-03-26T01:01:57.480Z"
   },
   {
    "duration": 6,
    "start_time": "2024-03-26T01:01:57.497Z"
   },
   {
    "duration": 4,
    "start_time": "2024-03-26T01:01:57.504Z"
   },
   {
    "duration": 8,
    "start_time": "2024-03-26T01:01:57.509Z"
   },
   {
    "duration": 3,
    "start_time": "2024-03-26T01:01:57.520Z"
   },
   {
    "duration": 19,
    "start_time": "2024-03-26T01:01:57.524Z"
   },
   {
    "duration": 12,
    "start_time": "2024-03-26T01:01:57.544Z"
   },
   {
    "duration": 11,
    "start_time": "2024-03-26T01:01:57.558Z"
   },
   {
    "duration": 7,
    "start_time": "2024-03-26T01:01:57.570Z"
   },
   {
    "duration": 27,
    "start_time": "2024-03-26T01:01:57.578Z"
   },
   {
    "duration": 6,
    "start_time": "2024-03-26T01:01:57.607Z"
   },
   {
    "duration": 8,
    "start_time": "2024-03-26T01:01:57.614Z"
   },
   {
    "duration": 13,
    "start_time": "2024-03-26T01:01:57.623Z"
   },
   {
    "duration": 122,
    "start_time": "2024-03-26T01:01:57.637Z"
   },
   {
    "duration": 5,
    "start_time": "2024-03-26T01:01:57.761Z"
   },
   {
    "duration": 221,
    "start_time": "2024-03-26T01:01:57.767Z"
   },
   {
    "duration": 249,
    "start_time": "2024-03-26T01:01:57.990Z"
   },
   {
    "duration": 5,
    "start_time": "2024-03-26T01:01:58.240Z"
   },
   {
    "duration": 19,
    "start_time": "2024-03-26T01:01:58.246Z"
   },
   {
    "duration": 131,
    "start_time": "2024-03-26T01:01:58.266Z"
   },
   {
    "duration": 4,
    "start_time": "2024-03-26T01:01:58.398Z"
   },
   {
    "duration": 353,
    "start_time": "2024-03-26T01:01:58.403Z"
   },
   {
    "duration": 2,
    "start_time": "2024-03-26T01:01:58.757Z"
   },
   {
    "duration": 181,
    "start_time": "2024-03-26T01:01:58.760Z"
   },
   {
    "duration": 14,
    "start_time": "2024-03-26T01:01:58.942Z"
   },
   {
    "duration": 9,
    "start_time": "2024-03-26T01:01:58.957Z"
   },
   {
    "duration": 10,
    "start_time": "2024-03-26T01:01:58.968Z"
   },
   {
    "duration": 300,
    "start_time": "2024-03-26T01:01:58.979Z"
   },
   {
    "duration": 278,
    "start_time": "2024-03-26T01:01:59.280Z"
   },
   {
    "duration": 14,
    "start_time": "2024-03-26T01:01:59.560Z"
   },
   {
    "duration": 376,
    "start_time": "2024-03-26T01:01:59.576Z"
   },
   {
    "duration": 393,
    "start_time": "2024-03-26T01:01:59.954Z"
   },
   {
    "duration": 9,
    "start_time": "2024-03-26T01:02:00.348Z"
   },
   {
    "duration": 48,
    "start_time": "2024-03-26T01:02:00.358Z"
   },
   {
    "duration": 39,
    "start_time": "2024-03-26T01:02:00.408Z"
   },
   {
    "duration": 42,
    "start_time": "2024-03-26T01:02:00.448Z"
   },
   {
    "duration": 29,
    "start_time": "2024-03-26T01:02:00.491Z"
   },
   {
    "duration": 263,
    "start_time": "2024-03-26T01:02:00.521Z"
   },
   {
    "duration": 2,
    "start_time": "2024-03-26T01:02:00.786Z"
   },
   {
    "duration": 296,
    "start_time": "2024-03-26T01:02:00.789Z"
   },
   {
    "duration": 252,
    "start_time": "2024-03-26T01:02:01.087Z"
   },
   {
    "duration": 239,
    "start_time": "2024-03-26T01:02:01.341Z"
   },
   {
    "duration": 9,
    "start_time": "2024-03-26T01:02:01.581Z"
   },
   {
    "duration": 26,
    "start_time": "2024-03-26T01:02:01.591Z"
   },
   {
    "duration": 23,
    "start_time": "2024-03-26T01:02:01.618Z"
   },
   {
    "duration": 38,
    "start_time": "2024-03-26T01:02:01.643Z"
   },
   {
    "duration": 62,
    "start_time": "2024-03-26T01:02:01.682Z"
   },
   {
    "duration": 56,
    "start_time": "2024-03-26T01:02:01.746Z"
   }
  ],
  "kernelspec": {
   "display_name": "Python 3 (ipykernel)",
   "language": "python",
   "name": "python3"
  },
  "language_info": {
   "codemirror_mode": {
    "name": "ipython",
    "version": 3
   },
   "file_extension": ".py",
   "mimetype": "text/x-python",
   "name": "python",
   "nbconvert_exporter": "python",
   "pygments_lexer": "ipython3",
   "version": "3.9.5"
  },
  "toc": {
   "base_numbering": 1,
   "nav_menu": {},
   "number_sections": true,
   "sideBar": true,
   "skip_h1_title": true,
   "title_cell": "Table of Contents",
   "title_sidebar": "Contents",
   "toc_cell": false,
   "toc_position": {},
   "toc_section_display": true,
   "toc_window_display": false
  }
 },
 "nbformat": 4,
 "nbformat_minor": 2
}
